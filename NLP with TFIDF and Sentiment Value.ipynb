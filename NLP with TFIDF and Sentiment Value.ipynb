{
 "cells": [
  {
   "cell_type": "code",
   "execution_count": 60,
   "metadata": {
    "collapsed": false,
    "jupyter": {
     "outputs_hidden": false
    }
   },
   "outputs": [],
   "source": [
    "import numpy as np\n",
    "import pandas as pd\n",
    "\n",
    "from sklearn.feature_extraction.text import TfidfVectorizer\n",
    "import spacy\n",
    "from sklearn.metrics.pairwise import cosine_similarity\n",
    "\n",
    "import matplotlib.pyplot as plt\n",
    "from imageio import imread\n",
    "\n",
    "import warnings\n",
    "warnings.filterwarnings(\"ignore\")"
   ]
  },
  {
   "cell_type": "code",
   "execution_count": 61,
   "metadata": {
    "collapsed": false,
    "jupyter": {
     "outputs_hidden": false
    }
   },
   "outputs": [],
   "source": [
    "xdf = pd.read_csv(\"games.csv\")"
   ]
  },
  {
   "cell_type": "code",
   "execution_count": 62,
   "metadata": {
    "collapsed": false,
    "jupyter": {
     "outputs_hidden": false
    }
   },
   "outputs": [
    {
     "data": {
      "text/html": [
       "<div>\n",
       "<style scoped>\n",
       "    .dataframe tbody tr th:only-of-type {\n",
       "        vertical-align: middle;\n",
       "    }\n",
       "\n",
       "    .dataframe tbody tr th {\n",
       "        vertical-align: top;\n",
       "    }\n",
       "\n",
       "    .dataframe thead th {\n",
       "        text-align: right;\n",
       "    }\n",
       "</style>\n",
       "<table border=\"1\" class=\"dataframe\">\n",
       "  <thead>\n",
       "    <tr style=\"text-align: right;\">\n",
       "      <th></th>\n",
       "      <th>Unnamed: 0</th>\n",
       "      <th>Title</th>\n",
       "      <th>Release Date</th>\n",
       "      <th>Team</th>\n",
       "      <th>Rating</th>\n",
       "      <th>Times Listed</th>\n",
       "      <th>Number of Reviews</th>\n",
       "      <th>Genres</th>\n",
       "      <th>Summary</th>\n",
       "      <th>Reviews</th>\n",
       "      <th>Plays</th>\n",
       "      <th>Playing</th>\n",
       "      <th>Backlogs</th>\n",
       "      <th>Wishlist</th>\n",
       "    </tr>\n",
       "  </thead>\n",
       "  <tbody>\n",
       "    <tr>\n",
       "      <th>0</th>\n",
       "      <td>0</td>\n",
       "      <td>Elden Ring</td>\n",
       "      <td>Feb 25, 2022</td>\n",
       "      <td>['Bandai Namco Entertainment', 'FromSoftware']</td>\n",
       "      <td>4.5</td>\n",
       "      <td>3.9K</td>\n",
       "      <td>3.9K</td>\n",
       "      <td>['Adventure', 'RPG']</td>\n",
       "      <td>Elden Ring is a fantasy, action and open world game with RPG elements such as stats, weapons and spells. Rise, Tarnished, and be guided by grace to brandish the power of the Elden Ring and become an Elden Lord in the Lands Between.</td>\n",
       "      <td>[\"The first playthrough of elden ring is one of the best eperiences gaming can offer you but after youve explored everything in the open world and you've experienced all of the surprises you lose motivation to go exploring on repeat playthroughs which takes a lot away from the replayability which is a very important thing for from games imo.\", 'a replay solidified my love for elden ring. so easily my favorite game of all time. actually beating malenia this time was also an amazing feeling. i just love being in this world man its the greatest of all time', 'The game is absolutely beautiful, with so much to do. The replayability is crazy. And it never gets old with it too.', 'Took everything great about the Soulsborne games and make it 100% better.', 'I play with my overlevelled friend every time and we still fail sometimes (he’s on NG6), insanely difficult game lol\\n                     \\n                     gorgeous graphics, animations, everything about this game is so beautiful. deserves all the hype it gets. If you have a powerful enough pc I definitely recommend you play it on there, if you use keyboard, you’ll want to change the keybinds because the defaults are ass.', \"Tied as my favorite souls game with Bloodborne, truly one I'll keep coming back too.\"]</td>\n",
       "      <td>17K</td>\n",
       "      <td>3.8K</td>\n",
       "      <td>4.6K</td>\n",
       "      <td>4.8K</td>\n",
       "    </tr>\n",
       "    <tr>\n",
       "      <th>1</th>\n",
       "      <td>1</td>\n",
       "      <td>Hades</td>\n",
       "      <td>Dec 10, 2019</td>\n",
       "      <td>['Supergiant Games']</td>\n",
       "      <td>4.3</td>\n",
       "      <td>2.9K</td>\n",
       "      <td>2.9K</td>\n",
       "      <td>['Adventure', 'Brawler', 'Indie', 'RPG']</td>\n",
       "      <td>A rogue-lite hack and slash dungeon crawler in which Zagreus, son of Hades the Greek god of the dead, attempts to escape his home and his oppressive father by fighting the souls of the dead through the various layers of the ever-shifting underworld, while getting to know and forging relationships with its inhabitants.</td>\n",
       "      <td>['convinced this is a roguelike for people who do not like the genre. The art is technically good but the aesthetic does very little for me, too clean or something. idk wish I liked it but I do not', 'incredible art, a banger soundtrack a surprisingly charming storyline and a big red dog. hades has very smooth gameplay but after playing it for a while it just feels like youre doing the same 3 hit combo ove and over again, which dont get me wrong that combo feels great to do but once i becomes muscle memory you kinda go into autopilot. also i think the boons are cool but i would like to see them change the flow of combat a bit more, there are some cool ones like the grape boon that can change the way you play but most of them are just upgrades that dont really change the gameplay or strategy. other then those 2 small gripes the game is fantastic.', \"People tell me this game gets really really good at some point but i've beaten entire games in the amount of time I gave this game.\", 'Não sou muito de jogo indie, admito que joguei poucos, mas devo dizer que Hades foi um dos melhores jogos que joguei na vida, facilmente no top 15. Toda sua arte, dublagem, gameplay, carisma dos personagens, é tudo incrivel', \"I can't shake the feeling that I am thoroughly bored playing Hades. I've picked up Hades three times over the last few years, and three times I've found myself putting down the controller after a handful of hours, especially after reaching the third stage, and I couldn't figure out why it wasn't working for me. After giving it a few good goes, I've finally managed to pin down what it is that just doesn't click for me about Hades.\", 'One of my favorites in the rogue-likes/lites, only being beat by binding of Isaac. I love the characters (Thanatos my beloved) and the writing and the art style and RRRAAAAHHH THIS GAME IS AWESOME']</td>\n",
       "      <td>21K</td>\n",
       "      <td>3.2K</td>\n",
       "      <td>6.3K</td>\n",
       "      <td>3.6K</td>\n",
       "    </tr>\n",
       "    <tr>\n",
       "      <th>2</th>\n",
       "      <td>2</td>\n",
       "      <td>The Legend of Zelda: Breath of the Wild</td>\n",
       "      <td>Mar 03, 2017</td>\n",
       "      <td>['Nintendo', 'Nintendo EPD Production Group No. 3']</td>\n",
       "      <td>4.4</td>\n",
       "      <td>4.3K</td>\n",
       "      <td>4.3K</td>\n",
       "      <td>['Adventure', 'RPG']</td>\n",
       "      <td>The Legend of Zelda: Breath of the Wild is the first 3D open-world game in the Zelda series. Link can travel anywhere and be equipped with weapons and armor found throughout the world to grant him various bonuses. Unlike many games in the series, Breath of the Wild does not impose a specific order in which quests or dungeons must be completed. While the game still has environmental obstacles such as weather effects, inhospitable lands, or powerful enemies, many of them can be overcome using the right method. A lot of critics ranked Breath of the Wild as one of the best video games of all time.</td>\n",
       "      <td>['This game is the game (that is not CS:GO) that I have played the most ever. I have played this game for 400 hours.', \"A really good switch game, however didn't really grip me like mario odyssey\", \"i was very disappointed by the final boss fight, but the rest of the game is so good it makes me not want to even do the final boss fight anyway just so i can play more of the game. i do wish that there were more unique mechanics in combat besides just parrying and link's flurry rush, but the world is really pretty and actually incentivizes exploring it. characters are great, story is great and makes you work for it, and there's tons of hidden secrets and details.\", 'em 105 horas de jogo não houve um segundo que eu não tava me divertindo e eu acho que isso diz muito', 'Sencillamente el mejor juego que he tenido el placer de disfrutar, esperé 5 años para poder jugarlo y puedo decir que valió cada segundo la espera. No estoy ni cerca de conseguir el 100%, tengo mas de 100 horas y aún estoy descubriendo cosas nuevas. Va más allá de un simple juego, es una experiencia que lamentablemente solo se puede vivir una vez en la vida y la recomiendo totalmente.', 'em meio a tanto jogo de mundo aberto ruim saindo por aí na última década, acho que da pra entender porque breath of the wild chocou tanto as pessoas no ano em que ele lançou. E realmente eu acho que é o melhor mundo aberto que eu já joguei até hoje, explorar cada pedacinho desse mundo é TÃO GOSTOSO, parece que tudo aqui tá no mapa tem um propósito para estar lá, diferente dos mapas vazios da ubisoft por exemplo. Acho que o unico defeito é esses sistema chatinho de durabilidade das armas, ficar trocando de arma o tempo todo é tão chato, espero que no próximo não tenha.']</td>\n",
       "      <td>30K</td>\n",
       "      <td>2.5K</td>\n",
       "      <td>5K</td>\n",
       "      <td>2.6K</td>\n",
       "    </tr>\n",
       "    <tr>\n",
       "      <th>3</th>\n",
       "      <td>3</td>\n",
       "      <td>Undertale</td>\n",
       "      <td>Sep 15, 2015</td>\n",
       "      <td>['tobyfox', '8-4']</td>\n",
       "      <td>4.2</td>\n",
       "      <td>3.5K</td>\n",
       "      <td>3.5K</td>\n",
       "      <td>['Adventure', 'Indie', 'RPG', 'Turn Based Strategy']</td>\n",
       "      <td>A small child falls into the Underground, where monsters have long been banished by humans and are hunting every human that they find. The player controls the child as they try to make it back to the Surface through hostile environments, all the while engaging with a turn-based combat system with puzzle-solving and bullet hell elements, as well as other unconventional game mechanics.</td>\n",
       "      <td>['soundtrack is tied for #1 with nier automata.  a super charming story and characters which have become iconic. and all that made by 1 man. thats it, thats the review i have no criticisms', 'Just play this game, Dont look at any of these reviews, just pick the game up and know nothing else about it if you are one of the lucky ones that didnt get spoiled on the game. It will fucking break you in the best of ways', 'Não há palavras que deem para descrever a experiência que foi esse jogo.', 'CLASSSSSSSSSSSSSSSICCCCCCCCCCCCCCCCCCC', 'whooaa ohh ohhhh ohoohhohh ohhwooaah story of undertale', 'A nice unique take on the RPG indie game format by incorporating really good ideas, funny interactions, an incredibly subtle story, and wonderful music. Definitely a must play if you have not already.']</td>\n",
       "      <td>28K</td>\n",
       "      <td>679</td>\n",
       "      <td>4.9K</td>\n",
       "      <td>1.8K</td>\n",
       "    </tr>\n",
       "    <tr>\n",
       "      <th>4</th>\n",
       "      <td>4</td>\n",
       "      <td>Hollow Knight</td>\n",
       "      <td>Feb 24, 2017</td>\n",
       "      <td>['Team Cherry']</td>\n",
       "      <td>4.4</td>\n",
       "      <td>3K</td>\n",
       "      <td>3K</td>\n",
       "      <td>['Adventure', 'Indie', 'Platform']</td>\n",
       "      <td>A 2D metroidvania with an emphasis on close combat and exploration in which the player enters the once-prosperous now-bleak insect kingdom of Hallownest, travels through its various districts, meets friendly inhabitants, fights hostile ones and uncovers the kingdom's history while improving their combat abilities and movement arsenal by fighting bosses and accessing out-of-the-way areas.</td>\n",
       "      <td>[\"this games worldbuilding is incredible, with its amazing soundtrack and gorgeous art direction it really makes you feel like you're spiderman.  one of the best value in gaming tbh, this game is packed full of content and none of it feels like filler. even the boss rush manages to feel fresh by introducing some surprise bosses/boss variants as rewards for beating tough pantheons. cant wait to play silksong when i turn 80!\", \"This isn't just a game, this is an entire experience.\\n                     \\n                     I was not too much into Metroidvania games and then I tried this without any expectation, it became one of my favorite games of all time and brought me into the genre, now I'm seeking for similar adventures and I can't wait for Silksong.\\n                     \\n                     I've done all 112% in my first run and now I'm beating the game again, then I'll aim to master the game on Steam, and this is the first time a game instigated me to do that. Masterpiece.\", 'Faz uns 2/3 anos que eu zerei esse jogo, mesmo assim nunca saiu da minha memória.\\n                     \\n                     Vou rejogar para fazer uma análise mais aprofundada', 'i like how you can bounce on spikes with your nail. a good casual game that offers additional challenges for people that are socially challenged', 'A rivetting action/adventure game with a stunning design. Extremely rewarding but also gruesomly difficult at times.', 'I\\'d give this game a 4 for each individual aspect (platforming, exploration, combat) but the integration and packaging of the content are so good, it\\'s slightly better that the sum of its parts. Most of the combat and traversal abilities feel useful, and many evoke that Super Metroid-y, gleeful feeling that you\\'ll finally be able to access that new area, grab that item, or beat that boss. The end-game challenges, reminiscent of Wiley\\'s fortress and boss rushes after Megaman has fully self-actualized, were the highlight. Boss rushes in particular were fun to dissect and master. I found uses for some charms I had written off as \"not my style\" to counter some of the unconventional boss mechanics. My only gripes:\\n                     \\n                     -The repeated backtracking. I get it - a fast-travel mechanic that\\'s too liberal can erase the environment, but this was excessive.\\n                     \\n                     -Some of the charms seemed worthless, even after strategizing for boss, combat, and platforming rushes.\\n                     \\n                     -In the name of decency and civility, make geo-sucking ability automatic.']</td>\n",
       "      <td>21K</td>\n",
       "      <td>2.4K</td>\n",
       "      <td>8.3K</td>\n",
       "      <td>2.3K</td>\n",
       "    </tr>\n",
       "    <tr>\n",
       "      <th>...</th>\n",
       "      <td>...</td>\n",
       "      <td>...</td>\n",
       "      <td>...</td>\n",
       "      <td>...</td>\n",
       "      <td>...</td>\n",
       "      <td>...</td>\n",
       "      <td>...</td>\n",
       "      <td>...</td>\n",
       "      <td>...</td>\n",
       "      <td>...</td>\n",
       "      <td>...</td>\n",
       "      <td>...</td>\n",
       "      <td>...</td>\n",
       "      <td>...</td>\n",
       "    </tr>\n",
       "    <tr>\n",
       "      <th>1507</th>\n",
       "      <td>1507</td>\n",
       "      <td>Back to the Future: The Game</td>\n",
       "      <td>Dec 22, 2010</td>\n",
       "      <td>['Telltale Games']</td>\n",
       "      <td>3.2</td>\n",
       "      <td>94</td>\n",
       "      <td>94</td>\n",
       "      <td>['Adventure', 'Point-and-Click']</td>\n",
       "      <td>Back to the Future: The Game is one of Telltale Games' popular episodic games. It follows the story of the famous Marty McFly and Doc Brown as they stumble through another adventure in time. It is broken into 5 episodes, and incorporates Telltale's unique spin on point-and-click games.</td>\n",
       "      <td>['Very enjoyable game. The story adds onto the movies without ruining anything from them. The gameplay is also pretty cool and fun, the puzzles are challenging but not annoying.', 'i need to give this another try', 'When I was little I was obsessed with Back to the Future and then I found this game on my iPad. I played it all the time and I made my dad buy all the episodes. I didn’t even really know much in english so I was always asking my dad what this and that means lol. Poor dad. I don’t remember much of the episodes except for the first one so I can’t really give the game a rating. Anyways I really love this game still and I am very sad it is no longer available on my iPad :((', \"Probably the closest we'll ever get to BTTF 4 but honestly they pulled it off.\", 'Für mich der inoffizielle vierte Teil der Reihe. Klar, die Puzzles dieses Point and Click Adventures von Telltale sind super einfach, aber ich bin hier wegen der Story und die wurde in meinen Augen gelungen weitergeführt. Ein Trumpf ist auch, dass Christopher Lloyd als Doc Brown zurückkehrt und die englische Stimme von Marty unfassbar nah an Michael J. Fox ist. Wer die Filme liebt, kann hier eigentlich kaum etwas falsch machen. Spannend, toll geschrieben, mit viel Humor und dem Herz am rechten Fleck. Ein Muss für alle, die sich einen vierten Teil wünschen, aber Angst haben, dass ein weiterer Film das Ansehen der Reihe zerstören könnte.', \"Probably the closest we'll get to a good Back to the Future 4 and I'm fine with that.\"]</td>\n",
       "      <td>763</td>\n",
       "      <td>5</td>\n",
       "      <td>223</td>\n",
       "      <td>67</td>\n",
       "    </tr>\n",
       "    <tr>\n",
       "      <th>1508</th>\n",
       "      <td>1508</td>\n",
       "      <td>Team Sonic Racing</td>\n",
       "      <td>May 21, 2019</td>\n",
       "      <td>['Sumo Digital', 'Sega']</td>\n",
       "      <td>2.9</td>\n",
       "      <td>264</td>\n",
       "      <td>264</td>\n",
       "      <td>['Arcade', 'Racing']</td>\n",
       "      <td>Team Sonic Racing combines the best elements of arcade and fast-paced competitive style racing as you face-off with friends in intense multiplayer racing.</td>\n",
       "      <td>['jogo morto mas bom', 'not my cup of tea', \"Compared to the previous two sonic kart racers from sumo digital, this game is a step back in almost every direction. I had very high expectations for this game, coming from the masterpiece that is sonic and all stars racing transformed, and while the only-sonic approach had me initially concerned, I realized that the sonic IP is definitely vast enough to have enough interesting locales and characters to base an entire kart racer off of. As long as the tracks were solid and the mechanics were fun, that's all this game needed to be a winner.\", 'One of the funnest PS plus games ever.', 'it looks pretty ig', \"Feels great to play but the lack of budget kills all of its goodwill. It's fun having a game where the (mostly) full Sonic cast is interacting again, but there's no meat on this plot's bone - even less so in the campaign's actual missions and pacing.\"]</td>\n",
       "      <td>1.5K</td>\n",
       "      <td>49</td>\n",
       "      <td>413</td>\n",
       "      <td>107</td>\n",
       "    </tr>\n",
       "    <tr>\n",
       "      <th>1509</th>\n",
       "      <td>1509</td>\n",
       "      <td>Dragon's Dogma</td>\n",
       "      <td>May 22, 2012</td>\n",
       "      <td>['Capcom']</td>\n",
       "      <td>3.7</td>\n",
       "      <td>210</td>\n",
       "      <td>210</td>\n",
       "      <td>['Brawler', 'RPG']</td>\n",
       "      <td>Set in a huge open world, Dragon’s Dogma: Dark Arisen presents a rewarding action combat experience. Players embark on an epic adventure in a rich, living world with three AI companions, known as Pawns. These partners fight independently, demonstrating prowess and ability that they have developed based on traits learnt from each player. PC users can share these Pawns online and reap rewards of treasure, tips and strategy hints for taking down the terrifying enemies. Pawns can also be borrowed when specific skills are needed to complete various challenging quests.</td>\n",
       "      <td>['Underrated.', 'A grandes rasgos, es como un MMO pero para un jugador. Me explico:', 'peak kino\\n                     \\n                     raw soul\\n                     \\n                     i got my pawn shittalked in a /v/ thread in 2015', \"I got this way back when on release and absolutely hated it. Returned to it to play Dark Arisen on Steam in 2022 and realized there's a lot of charm and fun to be had here. I maybe only spent around 20 more hours with it, but I enjoyed them. Looking forward to the sequel tbh.\", 'ok knorke', 'Muito pika puta merda, gameplay incrivel, exploração boa, lutas contra inimigos enormes muito foda, jogão']</td>\n",
       "      <td>1.1K</td>\n",
       "      <td>45</td>\n",
       "      <td>487</td>\n",
       "      <td>206</td>\n",
       "    </tr>\n",
       "    <tr>\n",
       "      <th>1510</th>\n",
       "      <td>1510</td>\n",
       "      <td>Baldur's Gate 3</td>\n",
       "      <td>Oct 06, 2020</td>\n",
       "      <td>['Larian Studios']</td>\n",
       "      <td>4.1</td>\n",
       "      <td>165</td>\n",
       "      <td>165</td>\n",
       "      <td>['Adventure', 'RPG', 'Strategy', 'Tactical', 'Turn Based Strategy']</td>\n",
       "      <td>An ancient evil has returned to Baldur's Gate, intent on devouring it from the inside out. The fate of Faerun lies in your hands. Alone, you may resist. But together, you can overcome.</td>\n",
       "      <td>['Bu türe bu oyunla girmeye çalışmak hataydı sanırım.', \"Even if this turns out to be a perfect execution, it'll still be an adaptation of dnd 5e and that game fucking sucks it's so boring and badly designed\", \"takes the worst parts of DOS 2, cranks them up to 12, and tries to stick them in a Baldur's Gate game. Said parts proceed to clash so hard I'd rather rip my eyes out than continue playing.\", \"A thriving story with well-written companions, close-to-perfect D&amp;D mechanics, Better combat system than Divinity 2: Original Sin. As for the graphics, the characters look very realistic, facial capture artists are really beautiful. Before you play the game I suggest that you should read Descent Into Avernus. My last words are, I CAN'T WAIT TO PLAY ACT 2-3.\", 'friends are required to enjoy this game.', \"Game can be fun but the story, character interactions, and the characters themselves all FUCKING SUCK. It's early access so I won't hate on glitches but god damn do the characters reek doodoo! Lae'zel is one dimension and lame, Shadowheart is fucking boring and again one dimensional, Gael is like someone wrote their own op ass DnD character into the game at level 1 with the excuse being they lost their power. Astarion is funny as fuck, but is also just one dimensional. If you wanna be good then don't have him in your party because he will not like anything you do. Will is the only party member that I even remotely like. He is at least a nice guy with an okay backstory. Game is also terribly optimized for storage.\"]</td>\n",
       "      <td>269</td>\n",
       "      <td>79</td>\n",
       "      <td>388</td>\n",
       "      <td>602</td>\n",
       "    </tr>\n",
       "    <tr>\n",
       "      <th>1511</th>\n",
       "      <td>1511</td>\n",
       "      <td>The LEGO Movie Videogame</td>\n",
       "      <td>Feb 04, 2014</td>\n",
       "      <td>['WB Games', 'TT Fusion']</td>\n",
       "      <td>2.8</td>\n",
       "      <td>184</td>\n",
       "      <td>184</td>\n",
       "      <td>['Adventure', 'Puzzle']</td>\n",
       "      <td>Join Emmet and an unlikely group of resistance fighters in their heroic quest to thwart Lord Business' evil plans - a mission that Emmet is hopelessly and hilariously unprepared for. It's a wild ride with a surprising mix of over 90 playable characters including Batman, Superman, Wonder Woman, the Green Ninja, Gandalf, Shakespeare, Cleopatra and more.</td>\n",
       "      <td>['Legal', 'Pretty Average Lego Game But It Was My Childhood', 'pog lego game', 'Pretty decent lego game! Loved the attention to detail all around! 4,5/5', 'Class', 'TT Games got crunch time for this.']</td>\n",
       "      <td>1.7K</td>\n",
       "      <td>11</td>\n",
       "      <td>239</td>\n",
       "      <td>73</td>\n",
       "    </tr>\n",
       "  </tbody>\n",
       "</table>\n",
       "<p>1512 rows × 14 columns</p>\n",
       "</div>"
      ],
      "text/plain": [
       "      Unnamed: 0                                    Title  Release Date  \\\n",
       "0              0                               Elden Ring  Feb 25, 2022   \n",
       "1              1                                    Hades  Dec 10, 2019   \n",
       "2              2  The Legend of Zelda: Breath of the Wild  Mar 03, 2017   \n",
       "3              3                                Undertale  Sep 15, 2015   \n",
       "4              4                            Hollow Knight  Feb 24, 2017   \n",
       "...          ...                                      ...           ...   \n",
       "1507        1507             Back to the Future: The Game  Dec 22, 2010   \n",
       "1508        1508                        Team Sonic Racing  May 21, 2019   \n",
       "1509        1509                           Dragon's Dogma  May 22, 2012   \n",
       "1510        1510                          Baldur's Gate 3  Oct 06, 2020   \n",
       "1511        1511                 The LEGO Movie Videogame  Feb 04, 2014   \n",
       "\n",
       "                                                     Team  Rating  \\\n",
       "0          ['Bandai Namco Entertainment', 'FromSoftware']     4.5   \n",
       "1                                    ['Supergiant Games']     4.3   \n",
       "2     ['Nintendo', 'Nintendo EPD Production Group No. 3']     4.4   \n",
       "3                                      ['tobyfox', '8-4']     4.2   \n",
       "4                                         ['Team Cherry']     4.4   \n",
       "...                                                   ...     ...   \n",
       "1507                                   ['Telltale Games']     3.2   \n",
       "1508                             ['Sumo Digital', 'Sega']     2.9   \n",
       "1509                                           ['Capcom']     3.7   \n",
       "1510                                   ['Larian Studios']     4.1   \n",
       "1511                            ['WB Games', 'TT Fusion']     2.8   \n",
       "\n",
       "     Times Listed Number of Reviews  \\\n",
       "0            3.9K              3.9K   \n",
       "1            2.9K              2.9K   \n",
       "2            4.3K              4.3K   \n",
       "3            3.5K              3.5K   \n",
       "4              3K                3K   \n",
       "...           ...               ...   \n",
       "1507           94                94   \n",
       "1508          264               264   \n",
       "1509          210               210   \n",
       "1510          165               165   \n",
       "1511          184               184   \n",
       "\n",
       "                                                                   Genres  \\\n",
       "0                                                    ['Adventure', 'RPG']   \n",
       "1                                ['Adventure', 'Brawler', 'Indie', 'RPG']   \n",
       "2                                                    ['Adventure', 'RPG']   \n",
       "3                    ['Adventure', 'Indie', 'RPG', 'Turn Based Strategy']   \n",
       "4                                      ['Adventure', 'Indie', 'Platform']   \n",
       "...                                                                   ...   \n",
       "1507                                     ['Adventure', 'Point-and-Click']   \n",
       "1508                                                 ['Arcade', 'Racing']   \n",
       "1509                                                   ['Brawler', 'RPG']   \n",
       "1510  ['Adventure', 'RPG', 'Strategy', 'Tactical', 'Turn Based Strategy']   \n",
       "1511                                              ['Adventure', 'Puzzle']   \n",
       "\n",
       "                                                                                                                                                                                                                                                                                                                                                                                                                                                                                                                                                                                                                       Summary  \\\n",
       "0                                                                                                                                                                                                                                                                                                                                                                                      Elden Ring is a fantasy, action and open world game with RPG elements such as stats, weapons and spells. Rise, Tarnished, and be guided by grace to brandish the power of the Elden Ring and become an Elden Lord in the Lands Between.   \n",
       "1                                                                                                                                                                                                                                                                                              A rogue-lite hack and slash dungeon crawler in which Zagreus, son of Hades the Greek god of the dead, attempts to escape his home and his oppressive father by fighting the souls of the dead through the various layers of the ever-shifting underworld, while getting to know and forging relationships with its inhabitants.   \n",
       "2     The Legend of Zelda: Breath of the Wild is the first 3D open-world game in the Zelda series. Link can travel anywhere and be equipped with weapons and armor found throughout the world to grant him various bonuses. Unlike many games in the series, Breath of the Wild does not impose a specific order in which quests or dungeons must be completed. While the game still has environmental obstacles such as weather effects, inhospitable lands, or powerful enemies, many of them can be overcome using the right method. A lot of critics ranked Breath of the Wild as one of the best video games of all time.   \n",
       "3                                                                                                                                                                                                                           A small child falls into the Underground, where monsters have long been banished by humans and are hunting every human that they find. The player controls the child as they try to make it back to the Surface through hostile environments, all the while engaging with a turn-based combat system with puzzle-solving and bullet hell elements, as well as other unconventional game mechanics.   \n",
       "4                                                                                                                                                                                                                       A 2D metroidvania with an emphasis on close combat and exploration in which the player enters the once-prosperous now-bleak insect kingdom of Hallownest, travels through its various districts, meets friendly inhabitants, fights hostile ones and uncovers the kingdom's history while improving their combat abilities and movement arsenal by fighting bosses and accessing out-of-the-way areas.   \n",
       "...                                                                                                                                                                                                                                                                                                                                                                                                                                                                                                                                                                                                                        ...   \n",
       "1507                                                                                                                                                                                                                                                                                                                            Back to the Future: The Game is one of Telltale Games' popular episodic games. It follows the story of the famous Marty McFly and Doc Brown as they stumble through another adventure in time. It is broken into 5 episodes, and incorporates Telltale's unique spin on point-and-click games.   \n",
       "1508                                                                                                                                                                                                                                                                                                                                                                                                                                                                Team Sonic Racing combines the best elements of arcade and fast-paced competitive style racing as you face-off with friends in intense multiplayer racing.   \n",
       "1509                                 Set in a huge open world, Dragon’s Dogma: Dark Arisen presents a rewarding action combat experience. Players embark on an epic adventure in a rich, living world with three AI companions, known as Pawns. These partners fight independently, demonstrating prowess and ability that they have developed based on traits learnt from each player. PC users can share these Pawns online and reap rewards of treasure, tips and strategy hints for taking down the terrifying enemies. Pawns can also be borrowed when specific skills are needed to complete various challenging quests.   \n",
       "1510                                                                                                                                                                                                                                                                                                                                                                                                                                  An ancient evil has returned to Baldur's Gate, intent on devouring it from the inside out. The fate of Faerun lies in your hands. Alone, you may resist. But together, you can overcome.   \n",
       "1511                                                                                                                                                                                                                                                         Join Emmet and an unlikely group of resistance fighters in their heroic quest to thwart Lord Business' evil plans - a mission that Emmet is hopelessly and hilariously unprepared for. It's a wild ride with a surprising mix of over 90 playable characters including Batman, Superman, Wonder Woman, the Green Ninja, Gandalf, Shakespeare, Cleopatra and more.   \n",
       "\n",
       "                                                                                                                                                                                                                                                                                                                                                                                                                                                                                                                                                                                                                                                                                                                                                                                                                                                                                                                                                                                                                                                                                                                                                                                                                                                                                                                                                                                                                                                                                                                                                                                                                                                                                                                                                                                                                                                                                                                                                                                                                                                                                                                                                                                                                                                                                                                                                                                                                                                                                                                                                                                                                                                                                                                             Reviews  \\\n",
       "0                                                                                                                                                                                                                                                                                                                                                                                                                                                                                                                                                                                                                                                                                                                                                                                                                                                                                                                                                                                                                                                                                                                                                                                                                                                                                                                                                                                                  [\"The first playthrough of elden ring is one of the best eperiences gaming can offer you but after youve explored everything in the open world and you've experienced all of the surprises you lose motivation to go exploring on repeat playthroughs which takes a lot away from the replayability which is a very important thing for from games imo.\", 'a replay solidified my love for elden ring. so easily my favorite game of all time. actually beating malenia this time was also an amazing feeling. i just love being in this world man its the greatest of all time', 'The game is absolutely beautiful, with so much to do. The replayability is crazy. And it never gets old with it too.', 'Took everything great about the Soulsborne games and make it 100% better.', 'I play with my overlevelled friend every time and we still fail sometimes (he’s on NG6), insanely difficult game lol\\n                     \\n                     gorgeous graphics, animations, everything about this game is so beautiful. deserves all the hype it gets. If you have a powerful enough pc I definitely recommend you play it on there, if you use keyboard, you’ll want to change the keybinds because the defaults are ass.', \"Tied as my favorite souls game with Bloodborne, truly one I'll keep coming back too.\"]   \n",
       "1                                                                                                                                                                                                                                                                                                                                                                                                                                                                                                                                                                                                                                                                                                                                                                                                 ['convinced this is a roguelike for people who do not like the genre. The art is technically good but the aesthetic does very little for me, too clean or something. idk wish I liked it but I do not', 'incredible art, a banger soundtrack a surprisingly charming storyline and a big red dog. hades has very smooth gameplay but after playing it for a while it just feels like youre doing the same 3 hit combo ove and over again, which dont get me wrong that combo feels great to do but once i becomes muscle memory you kinda go into autopilot. also i think the boons are cool but i would like to see them change the flow of combat a bit more, there are some cool ones like the grape boon that can change the way you play but most of them are just upgrades that dont really change the gameplay or strategy. other then those 2 small gripes the game is fantastic.', \"People tell me this game gets really really good at some point but i've beaten entire games in the amount of time I gave this game.\", 'Não sou muito de jogo indie, admito que joguei poucos, mas devo dizer que Hades foi um dos melhores jogos que joguei na vida, facilmente no top 15. Toda sua arte, dublagem, gameplay, carisma dos personagens, é tudo incrivel', \"I can't shake the feeling that I am thoroughly bored playing Hades. I've picked up Hades three times over the last few years, and three times I've found myself putting down the controller after a handful of hours, especially after reaching the third stage, and I couldn't figure out why it wasn't working for me. After giving it a few good goes, I've finally managed to pin down what it is that just doesn't click for me about Hades.\", 'One of my favorites in the rogue-likes/lites, only being beat by binding of Isaac. I love the characters (Thanatos my beloved) and the writing and the art style and RRRAAAAHHH THIS GAME IS AWESOME']   \n",
       "2                                                                                                                                                                                                                                                                                                                                                                                                                                                                                                                                                                                                                                                                                                                                                                                                                                                                                                                     ['This game is the game (that is not CS:GO) that I have played the most ever. I have played this game for 400 hours.', \"A really good switch game, however didn't really grip me like mario odyssey\", \"i was very disappointed by the final boss fight, but the rest of the game is so good it makes me not want to even do the final boss fight anyway just so i can play more of the game. i do wish that there were more unique mechanics in combat besides just parrying and link's flurry rush, but the world is really pretty and actually incentivizes exploring it. characters are great, story is great and makes you work for it, and there's tons of hidden secrets and details.\", 'em 105 horas de jogo não houve um segundo que eu não tava me divertindo e eu acho que isso diz muito', 'Sencillamente el mejor juego que he tenido el placer de disfrutar, esperé 5 años para poder jugarlo y puedo decir que valió cada segundo la espera. No estoy ni cerca de conseguir el 100%, tengo mas de 100 horas y aún estoy descubriendo cosas nuevas. Va más allá de un simple juego, es una experiencia que lamentablemente solo se puede vivir una vez en la vida y la recomiendo totalmente.', 'em meio a tanto jogo de mundo aberto ruim saindo por aí na última década, acho que da pra entender porque breath of the wild chocou tanto as pessoas no ano em que ele lançou. E realmente eu acho que é o melhor mundo aberto que eu já joguei até hoje, explorar cada pedacinho desse mundo é TÃO GOSTOSO, parece que tudo aqui tá no mapa tem um propósito para estar lá, diferente dos mapas vazios da ubisoft por exemplo. Acho que o unico defeito é esses sistema chatinho de durabilidade das armas, ficar trocando de arma o tempo todo é tão chato, espero que no próximo não tenha.']   \n",
       "3                                                                                                                                                                                                                                                                                                                                                                                                                                                                                                                                                                                                                                                                                                                                                                                                                                                                                                                                                                                                                                                                                                                                                                                                                                                                                                                                                                                                                                                                                                                                                                                                                                                                                                                                                                                                                                                                                                     ['soundtrack is tied for #1 with nier automata.  a super charming story and characters which have become iconic. and all that made by 1 man. thats it, thats the review i have no criticisms', 'Just play this game, Dont look at any of these reviews, just pick the game up and know nothing else about it if you are one of the lucky ones that didnt get spoiled on the game. It will fucking break you in the best of ways', 'Não há palavras que deem para descrever a experiência que foi esse jogo.', 'CLASSSSSSSSSSSSSSSICCCCCCCCCCCCCCCCCCC', 'whooaa ohh ohhhh ohoohhohh ohhwooaah story of undertale', 'A nice unique take on the RPG indie game format by incorporating really good ideas, funny interactions, an incredibly subtle story, and wonderful music. Definitely a must play if you have not already.']   \n",
       "4     [\"this games worldbuilding is incredible, with its amazing soundtrack and gorgeous art direction it really makes you feel like you're spiderman.  one of the best value in gaming tbh, this game is packed full of content and none of it feels like filler. even the boss rush manages to feel fresh by introducing some surprise bosses/boss variants as rewards for beating tough pantheons. cant wait to play silksong when i turn 80!\", \"This isn't just a game, this is an entire experience.\\n                     \\n                     I was not too much into Metroidvania games and then I tried this without any expectation, it became one of my favorite games of all time and brought me into the genre, now I'm seeking for similar adventures and I can't wait for Silksong.\\n                     \\n                     I've done all 112% in my first run and now I'm beating the game again, then I'll aim to master the game on Steam, and this is the first time a game instigated me to do that. Masterpiece.\", 'Faz uns 2/3 anos que eu zerei esse jogo, mesmo assim nunca saiu da minha memória.\\n                     \\n                     Vou rejogar para fazer uma análise mais aprofundada', 'i like how you can bounce on spikes with your nail. a good casual game that offers additional challenges for people that are socially challenged', 'A rivetting action/adventure game with a stunning design. Extremely rewarding but also gruesomly difficult at times.', 'I\\'d give this game a 4 for each individual aspect (platforming, exploration, combat) but the integration and packaging of the content are so good, it\\'s slightly better that the sum of its parts. Most of the combat and traversal abilities feel useful, and many evoke that Super Metroid-y, gleeful feeling that you\\'ll finally be able to access that new area, grab that item, or beat that boss. The end-game challenges, reminiscent of Wiley\\'s fortress and boss rushes after Megaman has fully self-actualized, were the highlight. Boss rushes in particular were fun to dissect and master. I found uses for some charms I had written off as \"not my style\" to counter some of the unconventional boss mechanics. My only gripes:\\n                     \\n                     -The repeated backtracking. I get it - a fast-travel mechanic that\\'s too liberal can erase the environment, but this was excessive.\\n                     \\n                     -Some of the charms seemed worthless, even after strategizing for boss, combat, and platforming rushes.\\n                     \\n                     -In the name of decency and civility, make geo-sucking ability automatic.']   \n",
       "...                                                                                                                                                                                                                                                                                                                                                                                                                                                                                                                                                                                                                                                                                                                                                                                                                                                                                                                                                                                                                                                                                                                                                                                                                                                                                                                                                                                                                                                                                                                                                                                                                                                                                                                                                                                                                                                                                                                                                                                                                                                                                                                                                                                                                                                                                                                                                                                                                                                                                                                                                                                                                                                                                                                              ...   \n",
       "1507                                                                                                                                                                                                                                                                                                                                                                                                                                                                                                                                                                                                                                                                                                                                                                                                                                                                                                                                                                                                                                                                                                                                                          ['Very enjoyable game. The story adds onto the movies without ruining anything from them. The gameplay is also pretty cool and fun, the puzzles are challenging but not annoying.', 'i need to give this another try', 'When I was little I was obsessed with Back to the Future and then I found this game on my iPad. I played it all the time and I made my dad buy all the episodes. I didn’t even really know much in english so I was always asking my dad what this and that means lol. Poor dad. I don’t remember much of the episodes except for the first one so I can’t really give the game a rating. Anyways I really love this game still and I am very sad it is no longer available on my iPad :((', \"Probably the closest we'll ever get to BTTF 4 but honestly they pulled it off.\", 'Für mich der inoffizielle vierte Teil der Reihe. Klar, die Puzzles dieses Point and Click Adventures von Telltale sind super einfach, aber ich bin hier wegen der Story und die wurde in meinen Augen gelungen weitergeführt. Ein Trumpf ist auch, dass Christopher Lloyd als Doc Brown zurückkehrt und die englische Stimme von Marty unfassbar nah an Michael J. Fox ist. Wer die Filme liebt, kann hier eigentlich kaum etwas falsch machen. Spannend, toll geschrieben, mit viel Humor und dem Herz am rechten Fleck. Ein Muss für alle, die sich einen vierten Teil wünschen, aber Angst haben, dass ein weiterer Film das Ansehen der Reihe zerstören könnte.', \"Probably the closest we'll get to a good Back to the Future 4 and I'm fine with that.\"]   \n",
       "1508                                                                                                                                                                                                                                                                                                                                                                                                                                                                                                                                                                                                                                                                                                                                                                                                                                                                                                                                                                                                                                                                                                                                                                                                                                                                                                                                                                                                                                                                                                                                                                                                                                                                                                                                                                                 ['jogo morto mas bom', 'not my cup of tea', \"Compared to the previous two sonic kart racers from sumo digital, this game is a step back in almost every direction. I had very high expectations for this game, coming from the masterpiece that is sonic and all stars racing transformed, and while the only-sonic approach had me initially concerned, I realized that the sonic IP is definitely vast enough to have enough interesting locales and characters to base an entire kart racer off of. As long as the tracks were solid and the mechanics were fun, that's all this game needed to be a winner.\", 'One of the funnest PS plus games ever.', 'it looks pretty ig', \"Feels great to play but the lack of budget kills all of its goodwill. It's fun having a game where the (mostly) full Sonic cast is interacting again, but there's no meat on this plot's bone - even less so in the campaign's actual missions and pacing.\"]   \n",
       "1509                                                                                                                                                                                                                                                                                                                                                                                                                                                                                                                                                                                                                                                                                                                                                                                                                                                                                                                                                                                                                                                                                                                                                                                                                                                                                                                                                                                                                                                                                                                                                                                                                                                                                                                                                                                                                                                                                                                                                                                                                                                        ['Underrated.', 'A grandes rasgos, es como un MMO pero para un jugador. Me explico:', 'peak kino\\n                     \\n                     raw soul\\n                     \\n                     i got my pawn shittalked in a /v/ thread in 2015', \"I got this way back when on release and absolutely hated it. Returned to it to play Dark Arisen on Steam in 2022 and realized there's a lot of charm and fun to be had here. I maybe only spent around 20 more hours with it, but I enjoyed them. Looking forward to the sequel tbh.\", 'ok knorke', 'Muito pika puta merda, gameplay incrivel, exploração boa, lutas contra inimigos enormes muito foda, jogão']   \n",
       "1510                                                                                                                                                                                                                                                                                                                                                                                                                                                                                                                                                                                                                                                                                                                                                                                                                                                                                                                                                                                                                                                                                                                                  ['Bu türe bu oyunla girmeye çalışmak hataydı sanırım.', \"Even if this turns out to be a perfect execution, it'll still be an adaptation of dnd 5e and that game fucking sucks it's so boring and badly designed\", \"takes the worst parts of DOS 2, cranks them up to 12, and tries to stick them in a Baldur's Gate game. Said parts proceed to clash so hard I'd rather rip my eyes out than continue playing.\", \"A thriving story with well-written companions, close-to-perfect D&D mechanics, Better combat system than Divinity 2: Original Sin. As for the graphics, the characters look very realistic, facial capture artists are really beautiful. Before you play the game I suggest that you should read Descent Into Avernus. My last words are, I CAN'T WAIT TO PLAY ACT 2-3.\", 'friends are required to enjoy this game.', \"Game can be fun but the story, character interactions, and the characters themselves all FUCKING SUCK. It's early access so I won't hate on glitches but god damn do the characters reek doodoo! Lae'zel is one dimension and lame, Shadowheart is fucking boring and again one dimensional, Gael is like someone wrote their own op ass DnD character into the game at level 1 with the excuse being they lost their power. Astarion is funny as fuck, but is also just one dimensional. If you wanna be good then don't have him in your party because he will not like anything you do. Will is the only party member that I even remotely like. He is at least a nice guy with an okay backstory. Game is also terribly optimized for storage.\"]   \n",
       "1511                                                                                                                                                                                                                                                                                                                                                                                                                                                                                                                                                                                                                                                                                                                                                                                                                                                                                                                                                                                                                                                                                                                                                                                                                                                                                                                                                                                                                                                                                                                                                                                                                                                                                                                                                                                                                                                                                                                                                                                                                                                                                                                                                                                                                                                                                                                                                                                                                                                                                                                       ['Legal', 'Pretty Average Lego Game But It Was My Childhood', 'pog lego game', 'Pretty decent lego game! Loved the attention to detail all around! 4,5/5', 'Class', 'TT Games got crunch time for this.']   \n",
       "\n",
       "     Plays Playing Backlogs Wishlist  \n",
       "0      17K    3.8K     4.6K     4.8K  \n",
       "1      21K    3.2K     6.3K     3.6K  \n",
       "2      30K    2.5K       5K     2.6K  \n",
       "3      28K     679     4.9K     1.8K  \n",
       "4      21K    2.4K     8.3K     2.3K  \n",
       "...    ...     ...      ...      ...  \n",
       "1507   763       5      223       67  \n",
       "1508  1.5K      49      413      107  \n",
       "1509  1.1K      45      487      206  \n",
       "1510   269      79      388      602  \n",
       "1511  1.7K      11      239       73  \n",
       "\n",
       "[1512 rows x 14 columns]"
      ]
     },
     "execution_count": 62,
     "metadata": {},
     "output_type": "execute_result"
    }
   ],
   "source": [
    "xdf"
   ]
  },
  {
   "cell_type": "code",
   "execution_count": 63,
   "metadata": {
    "collapsed": false,
    "jupyter": {
     "outputs_hidden": false
    },
    "scrolled": true
   },
   "outputs": [
    {
     "data": {
      "text/html": [
       "<div>\n",
       "<style scoped>\n",
       "    .dataframe tbody tr th:only-of-type {\n",
       "        vertical-align: middle;\n",
       "    }\n",
       "\n",
       "    .dataframe tbody tr th {\n",
       "        vertical-align: top;\n",
       "    }\n",
       "\n",
       "    .dataframe thead th {\n",
       "        text-align: right;\n",
       "    }\n",
       "</style>\n",
       "<table border=\"1\" class=\"dataframe\">\n",
       "  <thead>\n",
       "    <tr style=\"text-align: right;\">\n",
       "      <th></th>\n",
       "      <th>Unnamed: 0</th>\n",
       "      <th>Title</th>\n",
       "      <th>Release Date</th>\n",
       "      <th>Team</th>\n",
       "      <th>Rating</th>\n",
       "      <th>Times Listed</th>\n",
       "      <th>Number of Reviews</th>\n",
       "      <th>Genres</th>\n",
       "      <th>Summary</th>\n",
       "      <th>Reviews</th>\n",
       "      <th>Plays</th>\n",
       "      <th>Playing</th>\n",
       "      <th>Backlogs</th>\n",
       "      <th>Wishlist</th>\n",
       "    </tr>\n",
       "  </thead>\n",
       "  <tbody>\n",
       "    <tr>\n",
       "      <th>0</th>\n",
       "      <td>0</td>\n",
       "      <td>Elden Ring</td>\n",
       "      <td>Feb 25, 2022</td>\n",
       "      <td>['Bandai Namco Entertainment', 'FromSoftware']</td>\n",
       "      <td>4.5</td>\n",
       "      <td>3.9K</td>\n",
       "      <td>3.9K</td>\n",
       "      <td>['Adventure', 'RPG']</td>\n",
       "      <td>Elden Ring is a fantasy, action and open world game with RPG elements such as stats, weapons and spells. Rise, Tarnished, and be guided by grace to brandish the power of the Elden Ring and become an Elden Lord in the Lands Between.</td>\n",
       "      <td>[\"The first playthrough of elden ring is one of the best eperiences gaming can offer you but after youve explored everything in the open world and you've experienced all of the surprises you lose motivation to go exploring on repeat playthroughs which takes a lot away from the replayability which is a very important thing for from games imo.\", 'a replay solidified my love for elden ring. so easily my favorite game of all time. actually beating malenia this time was also an amazing feeling. i just love being in this world man its the greatest of all time', 'The game is absolutely beautiful, with so much to do. The replayability is crazy. And it never gets old with it too.', 'Took everything great about the Soulsborne games and make it 100% better.', 'I play with my overlevelled friend every time and we still fail sometimes (he’s on NG6), insanely difficult game lol\\n                     \\n                     gorgeous graphics, animations, everything about this game is so beautiful. deserves all the hype it gets. If you have a powerful enough pc I definitely recommend you play it on there, if you use keyboard, you’ll want to change the keybinds because the defaults are ass.', \"Tied as my favorite souls game with Bloodborne, truly one I'll keep coming back too.\"]</td>\n",
       "      <td>17K</td>\n",
       "      <td>3.8K</td>\n",
       "      <td>4.6K</td>\n",
       "      <td>4.8K</td>\n",
       "    </tr>\n",
       "    <tr>\n",
       "      <th>1</th>\n",
       "      <td>1</td>\n",
       "      <td>Hades</td>\n",
       "      <td>Dec 10, 2019</td>\n",
       "      <td>['Supergiant Games']</td>\n",
       "      <td>4.3</td>\n",
       "      <td>2.9K</td>\n",
       "      <td>2.9K</td>\n",
       "      <td>['Adventure', 'Brawler', 'Indie', 'RPG']</td>\n",
       "      <td>A rogue-lite hack and slash dungeon crawler in which Zagreus, son of Hades the Greek god of the dead, attempts to escape his home and his oppressive father by fighting the souls of the dead through the various layers of the ever-shifting underworld, while getting to know and forging relationships with its inhabitants.</td>\n",
       "      <td>['convinced this is a roguelike for people who do not like the genre. The art is technically good but the aesthetic does very little for me, too clean or something. idk wish I liked it but I do not', 'incredible art, a banger soundtrack a surprisingly charming storyline and a big red dog. hades has very smooth gameplay but after playing it for a while it just feels like youre doing the same 3 hit combo ove and over again, which dont get me wrong that combo feels great to do but once i becomes muscle memory you kinda go into autopilot. also i think the boons are cool but i would like to see them change the flow of combat a bit more, there are some cool ones like the grape boon that can change the way you play but most of them are just upgrades that dont really change the gameplay or strategy. other then those 2 small gripes the game is fantastic.', \"People tell me this game gets really really good at some point but i've beaten entire games in the amount of time I gave this game.\", 'Não sou muito de jogo indie, admito que joguei poucos, mas devo dizer que Hades foi um dos melhores jogos que joguei na vida, facilmente no top 15. Toda sua arte, dublagem, gameplay, carisma dos personagens, é tudo incrivel', \"I can't shake the feeling that I am thoroughly bored playing Hades. I've picked up Hades three times over the last few years, and three times I've found myself putting down the controller after a handful of hours, especially after reaching the third stage, and I couldn't figure out why it wasn't working for me. After giving it a few good goes, I've finally managed to pin down what it is that just doesn't click for me about Hades.\", 'One of my favorites in the rogue-likes/lites, only being beat by binding of Isaac. I love the characters (Thanatos my beloved) and the writing and the art style and RRRAAAAHHH THIS GAME IS AWESOME']</td>\n",
       "      <td>21K</td>\n",
       "      <td>3.2K</td>\n",
       "      <td>6.3K</td>\n",
       "      <td>3.6K</td>\n",
       "    </tr>\n",
       "    <tr>\n",
       "      <th>2</th>\n",
       "      <td>2</td>\n",
       "      <td>The Legend of Zelda: Breath of the Wild</td>\n",
       "      <td>Mar 03, 2017</td>\n",
       "      <td>['Nintendo', 'Nintendo EPD Production Group No. 3']</td>\n",
       "      <td>4.4</td>\n",
       "      <td>4.3K</td>\n",
       "      <td>4.3K</td>\n",
       "      <td>['Adventure', 'RPG']</td>\n",
       "      <td>The Legend of Zelda: Breath of the Wild is the first 3D open-world game in the Zelda series. Link can travel anywhere and be equipped with weapons and armor found throughout the world to grant him various bonuses. Unlike many games in the series, Breath of the Wild does not impose a specific order in which quests or dungeons must be completed. While the game still has environmental obstacles such as weather effects, inhospitable lands, or powerful enemies, many of them can be overcome using the right method. A lot of critics ranked Breath of the Wild as one of the best video games of all time.</td>\n",
       "      <td>['This game is the game (that is not CS:GO) that I have played the most ever. I have played this game for 400 hours.', \"A really good switch game, however didn't really grip me like mario odyssey\", \"i was very disappointed by the final boss fight, but the rest of the game is so good it makes me not want to even do the final boss fight anyway just so i can play more of the game. i do wish that there were more unique mechanics in combat besides just parrying and link's flurry rush, but the world is really pretty and actually incentivizes exploring it. characters are great, story is great and makes you work for it, and there's tons of hidden secrets and details.\", 'em 105 horas de jogo não houve um segundo que eu não tava me divertindo e eu acho que isso diz muito', 'Sencillamente el mejor juego que he tenido el placer de disfrutar, esperé 5 años para poder jugarlo y puedo decir que valió cada segundo la espera. No estoy ni cerca de conseguir el 100%, tengo mas de 100 horas y aún estoy descubriendo cosas nuevas. Va más allá de un simple juego, es una experiencia que lamentablemente solo se puede vivir una vez en la vida y la recomiendo totalmente.', 'em meio a tanto jogo de mundo aberto ruim saindo por aí na última década, acho que da pra entender porque breath of the wild chocou tanto as pessoas no ano em que ele lançou. E realmente eu acho que é o melhor mundo aberto que eu já joguei até hoje, explorar cada pedacinho desse mundo é TÃO GOSTOSO, parece que tudo aqui tá no mapa tem um propósito para estar lá, diferente dos mapas vazios da ubisoft por exemplo. Acho que o unico defeito é esses sistema chatinho de durabilidade das armas, ficar trocando de arma o tempo todo é tão chato, espero que no próximo não tenha.']</td>\n",
       "      <td>30K</td>\n",
       "      <td>2.5K</td>\n",
       "      <td>5K</td>\n",
       "      <td>2.6K</td>\n",
       "    </tr>\n",
       "    <tr>\n",
       "      <th>3</th>\n",
       "      <td>3</td>\n",
       "      <td>Undertale</td>\n",
       "      <td>Sep 15, 2015</td>\n",
       "      <td>['tobyfox', '8-4']</td>\n",
       "      <td>4.2</td>\n",
       "      <td>3.5K</td>\n",
       "      <td>3.5K</td>\n",
       "      <td>['Adventure', 'Indie', 'RPG', 'Turn Based Strategy']</td>\n",
       "      <td>A small child falls into the Underground, where monsters have long been banished by humans and are hunting every human that they find. The player controls the child as they try to make it back to the Surface through hostile environments, all the while engaging with a turn-based combat system with puzzle-solving and bullet hell elements, as well as other unconventional game mechanics.</td>\n",
       "      <td>['soundtrack is tied for #1 with nier automata.  a super charming story and characters which have become iconic. and all that made by 1 man. thats it, thats the review i have no criticisms', 'Just play this game, Dont look at any of these reviews, just pick the game up and know nothing else about it if you are one of the lucky ones that didnt get spoiled on the game. It will fucking break you in the best of ways', 'Não há palavras que deem para descrever a experiência que foi esse jogo.', 'CLASSSSSSSSSSSSSSSICCCCCCCCCCCCCCCCCCC', 'whooaa ohh ohhhh ohoohhohh ohhwooaah story of undertale', 'A nice unique take on the RPG indie game format by incorporating really good ideas, funny interactions, an incredibly subtle story, and wonderful music. Definitely a must play if you have not already.']</td>\n",
       "      <td>28K</td>\n",
       "      <td>679</td>\n",
       "      <td>4.9K</td>\n",
       "      <td>1.8K</td>\n",
       "    </tr>\n",
       "    <tr>\n",
       "      <th>4</th>\n",
       "      <td>4</td>\n",
       "      <td>Hollow Knight</td>\n",
       "      <td>Feb 24, 2017</td>\n",
       "      <td>['Team Cherry']</td>\n",
       "      <td>4.4</td>\n",
       "      <td>3K</td>\n",
       "      <td>3K</td>\n",
       "      <td>['Adventure', 'Indie', 'Platform']</td>\n",
       "      <td>A 2D metroidvania with an emphasis on close combat and exploration in which the player enters the once-prosperous now-bleak insect kingdom of Hallownest, travels through its various districts, meets friendly inhabitants, fights hostile ones and uncovers the kingdom's history while improving their combat abilities and movement arsenal by fighting bosses and accessing out-of-the-way areas.</td>\n",
       "      <td>[\"this games worldbuilding is incredible, with its amazing soundtrack and gorgeous art direction it really makes you feel like you're spiderman.  one of the best value in gaming tbh, this game is packed full of content and none of it feels like filler. even the boss rush manages to feel fresh by introducing some surprise bosses/boss variants as rewards for beating tough pantheons. cant wait to play silksong when i turn 80!\", \"This isn't just a game, this is an entire experience.\\n                     \\n                     I was not too much into Metroidvania games and then I tried this without any expectation, it became one of my favorite games of all time and brought me into the genre, now I'm seeking for similar adventures and I can't wait for Silksong.\\n                     \\n                     I've done all 112% in my first run and now I'm beating the game again, then I'll aim to master the game on Steam, and this is the first time a game instigated me to do that. Masterpiece.\", 'Faz uns 2/3 anos que eu zerei esse jogo, mesmo assim nunca saiu da minha memória.\\n                     \\n                     Vou rejogar para fazer uma análise mais aprofundada', 'i like how you can bounce on spikes with your nail. a good casual game that offers additional challenges for people that are socially challenged', 'A rivetting action/adventure game with a stunning design. Extremely rewarding but also gruesomly difficult at times.', 'I\\'d give this game a 4 for each individual aspect (platforming, exploration, combat) but the integration and packaging of the content are so good, it\\'s slightly better that the sum of its parts. Most of the combat and traversal abilities feel useful, and many evoke that Super Metroid-y, gleeful feeling that you\\'ll finally be able to access that new area, grab that item, or beat that boss. The end-game challenges, reminiscent of Wiley\\'s fortress and boss rushes after Megaman has fully self-actualized, were the highlight. Boss rushes in particular were fun to dissect and master. I found uses for some charms I had written off as \"not my style\" to counter some of the unconventional boss mechanics. My only gripes:\\n                     \\n                     -The repeated backtracking. I get it - a fast-travel mechanic that\\'s too liberal can erase the environment, but this was excessive.\\n                     \\n                     -Some of the charms seemed worthless, even after strategizing for boss, combat, and platforming rushes.\\n                     \\n                     -In the name of decency and civility, make geo-sucking ability automatic.']</td>\n",
       "      <td>21K</td>\n",
       "      <td>2.4K</td>\n",
       "      <td>8.3K</td>\n",
       "      <td>2.3K</td>\n",
       "    </tr>\n",
       "  </tbody>\n",
       "</table>\n",
       "</div>"
      ],
      "text/plain": [
       "   Unnamed: 0                                    Title  Release Date  \\\n",
       "0           0                               Elden Ring  Feb 25, 2022   \n",
       "1           1                                    Hades  Dec 10, 2019   \n",
       "2           2  The Legend of Zelda: Breath of the Wild  Mar 03, 2017   \n",
       "3           3                                Undertale  Sep 15, 2015   \n",
       "4           4                            Hollow Knight  Feb 24, 2017   \n",
       "\n",
       "                                                  Team  Rating Times Listed  \\\n",
       "0       ['Bandai Namco Entertainment', 'FromSoftware']     4.5         3.9K   \n",
       "1                                 ['Supergiant Games']     4.3         2.9K   \n",
       "2  ['Nintendo', 'Nintendo EPD Production Group No. 3']     4.4         4.3K   \n",
       "3                                   ['tobyfox', '8-4']     4.2         3.5K   \n",
       "4                                      ['Team Cherry']     4.4           3K   \n",
       "\n",
       "  Number of Reviews                                                Genres  \\\n",
       "0              3.9K                                  ['Adventure', 'RPG']   \n",
       "1              2.9K              ['Adventure', 'Brawler', 'Indie', 'RPG']   \n",
       "2              4.3K                                  ['Adventure', 'RPG']   \n",
       "3              3.5K  ['Adventure', 'Indie', 'RPG', 'Turn Based Strategy']   \n",
       "4                3K                    ['Adventure', 'Indie', 'Platform']   \n",
       "\n",
       "                                                                                                                                                                                                                                                                                                                                                                                                                                                                                                                                                                                                                    Summary  \\\n",
       "0                                                                                                                                                                                                                                                                                                                                                                                   Elden Ring is a fantasy, action and open world game with RPG elements such as stats, weapons and spells. Rise, Tarnished, and be guided by grace to brandish the power of the Elden Ring and become an Elden Lord in the Lands Between.   \n",
       "1                                                                                                                                                                                                                                                                                           A rogue-lite hack and slash dungeon crawler in which Zagreus, son of Hades the Greek god of the dead, attempts to escape his home and his oppressive father by fighting the souls of the dead through the various layers of the ever-shifting underworld, while getting to know and forging relationships with its inhabitants.   \n",
       "2  The Legend of Zelda: Breath of the Wild is the first 3D open-world game in the Zelda series. Link can travel anywhere and be equipped with weapons and armor found throughout the world to grant him various bonuses. Unlike many games in the series, Breath of the Wild does not impose a specific order in which quests or dungeons must be completed. While the game still has environmental obstacles such as weather effects, inhospitable lands, or powerful enemies, many of them can be overcome using the right method. A lot of critics ranked Breath of the Wild as one of the best video games of all time.   \n",
       "3                                                                                                                                                                                                                        A small child falls into the Underground, where monsters have long been banished by humans and are hunting every human that they find. The player controls the child as they try to make it back to the Surface through hostile environments, all the while engaging with a turn-based combat system with puzzle-solving and bullet hell elements, as well as other unconventional game mechanics.   \n",
       "4                                                                                                                                                                                                                    A 2D metroidvania with an emphasis on close combat and exploration in which the player enters the once-prosperous now-bleak insect kingdom of Hallownest, travels through its various districts, meets friendly inhabitants, fights hostile ones and uncovers the kingdom's history while improving their combat abilities and movement arsenal by fighting bosses and accessing out-of-the-way areas.   \n",
       "\n",
       "                                                                                                                                                                                                                                                                                                                                                                                                                                                                                                                                                                                                                                                                                                                                                                                                                                                                                                                                                                                                                                                                                                                                                                                                                                                                                                                                                                                                                                                                                                                                                                                                                                                                                                                                                                                                                                                                                                                                                                                                                                                                                                                                                                                                                                                                                                                                                                                                                                                                                                                                                                                                                                                                                                                          Reviews  \\\n",
       "0                                                                                                                                                                                                                                                                                                                                                                                                                                                                                                                                                                                                                                                                                                                                                                                                                                                                                                                                                                                                                                                                                                                                                                                                                                                                                                                                                                                               [\"The first playthrough of elden ring is one of the best eperiences gaming can offer you but after youve explored everything in the open world and you've experienced all of the surprises you lose motivation to go exploring on repeat playthroughs which takes a lot away from the replayability which is a very important thing for from games imo.\", 'a replay solidified my love for elden ring. so easily my favorite game of all time. actually beating malenia this time was also an amazing feeling. i just love being in this world man its the greatest of all time', 'The game is absolutely beautiful, with so much to do. The replayability is crazy. And it never gets old with it too.', 'Took everything great about the Soulsborne games and make it 100% better.', 'I play with my overlevelled friend every time and we still fail sometimes (he’s on NG6), insanely difficult game lol\\n                     \\n                     gorgeous graphics, animations, everything about this game is so beautiful. deserves all the hype it gets. If you have a powerful enough pc I definitely recommend you play it on there, if you use keyboard, you’ll want to change the keybinds because the defaults are ass.', \"Tied as my favorite souls game with Bloodborne, truly one I'll keep coming back too.\"]   \n",
       "1                                                                                                                                                                                                                                                                                                                                                                                                                                                                                                                                                                                                                                                                                                                                                                                              ['convinced this is a roguelike for people who do not like the genre. The art is technically good but the aesthetic does very little for me, too clean or something. idk wish I liked it but I do not', 'incredible art, a banger soundtrack a surprisingly charming storyline and a big red dog. hades has very smooth gameplay but after playing it for a while it just feels like youre doing the same 3 hit combo ove and over again, which dont get me wrong that combo feels great to do but once i becomes muscle memory you kinda go into autopilot. also i think the boons are cool but i would like to see them change the flow of combat a bit more, there are some cool ones like the grape boon that can change the way you play but most of them are just upgrades that dont really change the gameplay or strategy. other then those 2 small gripes the game is fantastic.', \"People tell me this game gets really really good at some point but i've beaten entire games in the amount of time I gave this game.\", 'Não sou muito de jogo indie, admito que joguei poucos, mas devo dizer que Hades foi um dos melhores jogos que joguei na vida, facilmente no top 15. Toda sua arte, dublagem, gameplay, carisma dos personagens, é tudo incrivel', \"I can't shake the feeling that I am thoroughly bored playing Hades. I've picked up Hades three times over the last few years, and three times I've found myself putting down the controller after a handful of hours, especially after reaching the third stage, and I couldn't figure out why it wasn't working for me. After giving it a few good goes, I've finally managed to pin down what it is that just doesn't click for me about Hades.\", 'One of my favorites in the rogue-likes/lites, only being beat by binding of Isaac. I love the characters (Thanatos my beloved) and the writing and the art style and RRRAAAAHHH THIS GAME IS AWESOME']   \n",
       "2                                                                                                                                                                                                                                                                                                                                                                                                                                                                                                                                                                                                                                                                                                                                                                                                                                                                                                                  ['This game is the game (that is not CS:GO) that I have played the most ever. I have played this game for 400 hours.', \"A really good switch game, however didn't really grip me like mario odyssey\", \"i was very disappointed by the final boss fight, but the rest of the game is so good it makes me not want to even do the final boss fight anyway just so i can play more of the game. i do wish that there were more unique mechanics in combat besides just parrying and link's flurry rush, but the world is really pretty and actually incentivizes exploring it. characters are great, story is great and makes you work for it, and there's tons of hidden secrets and details.\", 'em 105 horas de jogo não houve um segundo que eu não tava me divertindo e eu acho que isso diz muito', 'Sencillamente el mejor juego que he tenido el placer de disfrutar, esperé 5 años para poder jugarlo y puedo decir que valió cada segundo la espera. No estoy ni cerca de conseguir el 100%, tengo mas de 100 horas y aún estoy descubriendo cosas nuevas. Va más allá de un simple juego, es una experiencia que lamentablemente solo se puede vivir una vez en la vida y la recomiendo totalmente.', 'em meio a tanto jogo de mundo aberto ruim saindo por aí na última década, acho que da pra entender porque breath of the wild chocou tanto as pessoas no ano em que ele lançou. E realmente eu acho que é o melhor mundo aberto que eu já joguei até hoje, explorar cada pedacinho desse mundo é TÃO GOSTOSO, parece que tudo aqui tá no mapa tem um propósito para estar lá, diferente dos mapas vazios da ubisoft por exemplo. Acho que o unico defeito é esses sistema chatinho de durabilidade das armas, ficar trocando de arma o tempo todo é tão chato, espero que no próximo não tenha.']   \n",
       "3                                                                                                                                                                                                                                                                                                                                                                                                                                                                                                                                                                                                                                                                                                                                                                                                                                                                                                                                                                                                                                                                                                                                                                                                                                                                                                                                                                                                                                                                                                                                                                                                                                                                                                                                                                                                                                                                                                  ['soundtrack is tied for #1 with nier automata.  a super charming story and characters which have become iconic. and all that made by 1 man. thats it, thats the review i have no criticisms', 'Just play this game, Dont look at any of these reviews, just pick the game up and know nothing else about it if you are one of the lucky ones that didnt get spoiled on the game. It will fucking break you in the best of ways', 'Não há palavras que deem para descrever a experiência que foi esse jogo.', 'CLASSSSSSSSSSSSSSSICCCCCCCCCCCCCCCCCCC', 'whooaa ohh ohhhh ohoohhohh ohhwooaah story of undertale', 'A nice unique take on the RPG indie game format by incorporating really good ideas, funny interactions, an incredibly subtle story, and wonderful music. Definitely a must play if you have not already.']   \n",
       "4  [\"this games worldbuilding is incredible, with its amazing soundtrack and gorgeous art direction it really makes you feel like you're spiderman.  one of the best value in gaming tbh, this game is packed full of content and none of it feels like filler. even the boss rush manages to feel fresh by introducing some surprise bosses/boss variants as rewards for beating tough pantheons. cant wait to play silksong when i turn 80!\", \"This isn't just a game, this is an entire experience.\\n                     \\n                     I was not too much into Metroidvania games and then I tried this without any expectation, it became one of my favorite games of all time and brought me into the genre, now I'm seeking for similar adventures and I can't wait for Silksong.\\n                     \\n                     I've done all 112% in my first run and now I'm beating the game again, then I'll aim to master the game on Steam, and this is the first time a game instigated me to do that. Masterpiece.\", 'Faz uns 2/3 anos que eu zerei esse jogo, mesmo assim nunca saiu da minha memória.\\n                     \\n                     Vou rejogar para fazer uma análise mais aprofundada', 'i like how you can bounce on spikes with your nail. a good casual game that offers additional challenges for people that are socially challenged', 'A rivetting action/adventure game with a stunning design. Extremely rewarding but also gruesomly difficult at times.', 'I\\'d give this game a 4 for each individual aspect (platforming, exploration, combat) but the integration and packaging of the content are so good, it\\'s slightly better that the sum of its parts. Most of the combat and traversal abilities feel useful, and many evoke that Super Metroid-y, gleeful feeling that you\\'ll finally be able to access that new area, grab that item, or beat that boss. The end-game challenges, reminiscent of Wiley\\'s fortress and boss rushes after Megaman has fully self-actualized, were the highlight. Boss rushes in particular were fun to dissect and master. I found uses for some charms I had written off as \"not my style\" to counter some of the unconventional boss mechanics. My only gripes:\\n                     \\n                     -The repeated backtracking. I get it - a fast-travel mechanic that\\'s too liberal can erase the environment, but this was excessive.\\n                     \\n                     -Some of the charms seemed worthless, even after strategizing for boss, combat, and platforming rushes.\\n                     \\n                     -In the name of decency and civility, make geo-sucking ability automatic.']   \n",
       "\n",
       "  Plays Playing Backlogs Wishlist  \n",
       "0   17K    3.8K     4.6K     4.8K  \n",
       "1   21K    3.2K     6.3K     3.6K  \n",
       "2   30K    2.5K       5K     2.6K  \n",
       "3   28K     679     4.9K     1.8K  \n",
       "4   21K    2.4K     8.3K     2.3K  "
      ]
     },
     "execution_count": 63,
     "metadata": {},
     "output_type": "execute_result"
    }
   ],
   "source": [
    "xdf.head()"
   ]
  },
  {
   "cell_type": "code",
   "execution_count": 64,
   "metadata": {
    "collapsed": false,
    "jupyter": {
     "outputs_hidden": false
    }
   },
   "outputs": [
    {
     "data": {
      "text/plain": [
       "(1512, 14)"
      ]
     },
     "execution_count": 64,
     "metadata": {},
     "output_type": "execute_result"
    }
   ],
   "source": [
    "xdf.shape"
   ]
  },
  {
   "cell_type": "code",
   "execution_count": 65,
   "metadata": {
    "collapsed": false,
    "jupyter": {
     "outputs_hidden": false
    }
   },
   "outputs": [
    {
     "name": "stdout",
     "output_type": "stream",
     "text": [
      "<class 'pandas.core.frame.DataFrame'>\n",
      "RangeIndex: 1512 entries, 0 to 1511\n",
      "Data columns (total 14 columns):\n",
      " #   Column             Non-Null Count  Dtype  \n",
      "---  ------             --------------  -----  \n",
      " 0   Unnamed: 0         1512 non-null   int64  \n",
      " 1   Title              1512 non-null   object \n",
      " 2   Release Date       1512 non-null   object \n",
      " 3   Team               1511 non-null   object \n",
      " 4   Rating             1499 non-null   float64\n",
      " 5   Times Listed       1512 non-null   object \n",
      " 6   Number of Reviews  1512 non-null   object \n",
      " 7   Genres             1512 non-null   object \n",
      " 8   Summary            1511 non-null   object \n",
      " 9   Reviews            1512 non-null   object \n",
      " 10  Plays              1512 non-null   object \n",
      " 11  Playing            1512 non-null   object \n",
      " 12  Backlogs           1512 non-null   object \n",
      " 13  Wishlist           1512 non-null   object \n",
      "dtypes: float64(1), int64(1), object(12)\n",
      "memory usage: 165.5+ KB\n"
     ]
    }
   ],
   "source": [
    "xdf.info()"
   ]
  },
  {
   "cell_type": "code",
   "execution_count": 66,
   "metadata": {
    "collapsed": false,
    "jupyter": {
     "outputs_hidden": false
    }
   },
   "outputs": [
    {
     "data": {
      "text/html": [
       "<div>\n",
       "<style scoped>\n",
       "    .dataframe tbody tr th:only-of-type {\n",
       "        vertical-align: middle;\n",
       "    }\n",
       "\n",
       "    .dataframe tbody tr th {\n",
       "        vertical-align: top;\n",
       "    }\n",
       "\n",
       "    .dataframe thead th {\n",
       "        text-align: right;\n",
       "    }\n",
       "</style>\n",
       "<table border=\"1\" class=\"dataframe\">\n",
       "  <thead>\n",
       "    <tr style=\"text-align: right;\">\n",
       "      <th></th>\n",
       "      <th>Title</th>\n",
       "      <th>Release Date</th>\n",
       "      <th>Genres</th>\n",
       "      <th>Summary</th>\n",
       "      <th>Reviews</th>\n",
       "      <th>Rating</th>\n",
       "      <th>Playing</th>\n",
       "      <th>Backlogs</th>\n",
       "      <th>Wishlist</th>\n",
       "      <th>Plays</th>\n",
       "    </tr>\n",
       "  </thead>\n",
       "  <tbody>\n",
       "    <tr>\n",
       "      <th>0</th>\n",
       "      <td>Elden Ring</td>\n",
       "      <td>Feb 25, 2022</td>\n",
       "      <td>['Adventure', 'RPG']</td>\n",
       "      <td>Elden Ring is a fantasy, action and open world game with RPG elements such as stats, weapons and spells. Rise, Tarnished, and be guided by grace to brandish the power of the Elden Ring and become an Elden Lord in the Lands Between.</td>\n",
       "      <td>[\"The first playthrough of elden ring is one of the best eperiences gaming can offer you but after youve explored everything in the open world and you've experienced all of the surprises you lose motivation to go exploring on repeat playthroughs which takes a lot away from the replayability which is a very important thing for from games imo.\", 'a replay solidified my love for elden ring. so easily my favorite game of all time. actually beating malenia this time was also an amazing feeling. i just love being in this world man its the greatest of all time', 'The game is absolutely beautiful, with so much to do. The replayability is crazy. And it never gets old with it too.', 'Took everything great about the Soulsborne games and make it 100% better.', 'I play with my overlevelled friend every time and we still fail sometimes (he’s on NG6), insanely difficult game lol\\n                     \\n                     gorgeous graphics, animations, everything about this game is so beautiful. deserves all the hype it gets. If you have a powerful enough pc I definitely recommend you play it on there, if you use keyboard, you’ll want to change the keybinds because the defaults are ass.', \"Tied as my favorite souls game with Bloodborne, truly one I'll keep coming back too.\"]</td>\n",
       "      <td>4.5</td>\n",
       "      <td>3.8K</td>\n",
       "      <td>4.6K</td>\n",
       "      <td>4.8K</td>\n",
       "      <td>17K</td>\n",
       "    </tr>\n",
       "    <tr>\n",
       "      <th>1</th>\n",
       "      <td>Hades</td>\n",
       "      <td>Dec 10, 2019</td>\n",
       "      <td>['Adventure', 'Brawler', 'Indie', 'RPG']</td>\n",
       "      <td>A rogue-lite hack and slash dungeon crawler in which Zagreus, son of Hades the Greek god of the dead, attempts to escape his home and his oppressive father by fighting the souls of the dead through the various layers of the ever-shifting underworld, while getting to know and forging relationships with its inhabitants.</td>\n",
       "      <td>['convinced this is a roguelike for people who do not like the genre. The art is technically good but the aesthetic does very little for me, too clean or something. idk wish I liked it but I do not', 'incredible art, a banger soundtrack a surprisingly charming storyline and a big red dog. hades has very smooth gameplay but after playing it for a while it just feels like youre doing the same 3 hit combo ove and over again, which dont get me wrong that combo feels great to do but once i becomes muscle memory you kinda go into autopilot. also i think the boons are cool but i would like to see them change the flow of combat a bit more, there are some cool ones like the grape boon that can change the way you play but most of them are just upgrades that dont really change the gameplay or strategy. other then those 2 small gripes the game is fantastic.', \"People tell me this game gets really really good at some point but i've beaten entire games in the amount of time I gave this game.\", 'Não sou muito de jogo indie, admito que joguei poucos, mas devo dizer que Hades foi um dos melhores jogos que joguei na vida, facilmente no top 15. Toda sua arte, dublagem, gameplay, carisma dos personagens, é tudo incrivel', \"I can't shake the feeling that I am thoroughly bored playing Hades. I've picked up Hades three times over the last few years, and three times I've found myself putting down the controller after a handful of hours, especially after reaching the third stage, and I couldn't figure out why it wasn't working for me. After giving it a few good goes, I've finally managed to pin down what it is that just doesn't click for me about Hades.\", 'One of my favorites in the rogue-likes/lites, only being beat by binding of Isaac. I love the characters (Thanatos my beloved) and the writing and the art style and RRRAAAAHHH THIS GAME IS AWESOME']</td>\n",
       "      <td>4.3</td>\n",
       "      <td>3.2K</td>\n",
       "      <td>6.3K</td>\n",
       "      <td>3.6K</td>\n",
       "      <td>21K</td>\n",
       "    </tr>\n",
       "    <tr>\n",
       "      <th>2</th>\n",
       "      <td>The Legend of Zelda: Breath of the Wild</td>\n",
       "      <td>Mar 03, 2017</td>\n",
       "      <td>['Adventure', 'RPG']</td>\n",
       "      <td>The Legend of Zelda: Breath of the Wild is the first 3D open-world game in the Zelda series. Link can travel anywhere and be equipped with weapons and armor found throughout the world to grant him various bonuses. Unlike many games in the series, Breath of the Wild does not impose a specific order in which quests or dungeons must be completed. While the game still has environmental obstacles such as weather effects, inhospitable lands, or powerful enemies, many of them can be overcome using the right method. A lot of critics ranked Breath of the Wild as one of the best video games of all time.</td>\n",
       "      <td>['This game is the game (that is not CS:GO) that I have played the most ever. I have played this game for 400 hours.', \"A really good switch game, however didn't really grip me like mario odyssey\", \"i was very disappointed by the final boss fight, but the rest of the game is so good it makes me not want to even do the final boss fight anyway just so i can play more of the game. i do wish that there were more unique mechanics in combat besides just parrying and link's flurry rush, but the world is really pretty and actually incentivizes exploring it. characters are great, story is great and makes you work for it, and there's tons of hidden secrets and details.\", 'em 105 horas de jogo não houve um segundo que eu não tava me divertindo e eu acho que isso diz muito', 'Sencillamente el mejor juego que he tenido el placer de disfrutar, esperé 5 años para poder jugarlo y puedo decir que valió cada segundo la espera. No estoy ni cerca de conseguir el 100%, tengo mas de 100 horas y aún estoy descubriendo cosas nuevas. Va más allá de un simple juego, es una experiencia que lamentablemente solo se puede vivir una vez en la vida y la recomiendo totalmente.', 'em meio a tanto jogo de mundo aberto ruim saindo por aí na última década, acho que da pra entender porque breath of the wild chocou tanto as pessoas no ano em que ele lançou. E realmente eu acho que é o melhor mundo aberto que eu já joguei até hoje, explorar cada pedacinho desse mundo é TÃO GOSTOSO, parece que tudo aqui tá no mapa tem um propósito para estar lá, diferente dos mapas vazios da ubisoft por exemplo. Acho que o unico defeito é esses sistema chatinho de durabilidade das armas, ficar trocando de arma o tempo todo é tão chato, espero que no próximo não tenha.']</td>\n",
       "      <td>4.4</td>\n",
       "      <td>2.5K</td>\n",
       "      <td>5K</td>\n",
       "      <td>2.6K</td>\n",
       "      <td>30K</td>\n",
       "    </tr>\n",
       "    <tr>\n",
       "      <th>3</th>\n",
       "      <td>Undertale</td>\n",
       "      <td>Sep 15, 2015</td>\n",
       "      <td>['Adventure', 'Indie', 'RPG', 'Turn Based Strategy']</td>\n",
       "      <td>A small child falls into the Underground, where monsters have long been banished by humans and are hunting every human that they find. The player controls the child as they try to make it back to the Surface through hostile environments, all the while engaging with a turn-based combat system with puzzle-solving and bullet hell elements, as well as other unconventional game mechanics.</td>\n",
       "      <td>['soundtrack is tied for #1 with nier automata.  a super charming story and characters which have become iconic. and all that made by 1 man. thats it, thats the review i have no criticisms', 'Just play this game, Dont look at any of these reviews, just pick the game up and know nothing else about it if you are one of the lucky ones that didnt get spoiled on the game. It will fucking break you in the best of ways', 'Não há palavras que deem para descrever a experiência que foi esse jogo.', 'CLASSSSSSSSSSSSSSSICCCCCCCCCCCCCCCCCCC', 'whooaa ohh ohhhh ohoohhohh ohhwooaah story of undertale', 'A nice unique take on the RPG indie game format by incorporating really good ideas, funny interactions, an incredibly subtle story, and wonderful music. Definitely a must play if you have not already.']</td>\n",
       "      <td>4.2</td>\n",
       "      <td>679</td>\n",
       "      <td>4.9K</td>\n",
       "      <td>1.8K</td>\n",
       "      <td>28K</td>\n",
       "    </tr>\n",
       "    <tr>\n",
       "      <th>4</th>\n",
       "      <td>Hollow Knight</td>\n",
       "      <td>Feb 24, 2017</td>\n",
       "      <td>['Adventure', 'Indie', 'Platform']</td>\n",
       "      <td>A 2D metroidvania with an emphasis on close combat and exploration in which the player enters the once-prosperous now-bleak insect kingdom of Hallownest, travels through its various districts, meets friendly inhabitants, fights hostile ones and uncovers the kingdom's history while improving their combat abilities and movement arsenal by fighting bosses and accessing out-of-the-way areas.</td>\n",
       "      <td>[\"this games worldbuilding is incredible, with its amazing soundtrack and gorgeous art direction it really makes you feel like you're spiderman.  one of the best value in gaming tbh, this game is packed full of content and none of it feels like filler. even the boss rush manages to feel fresh by introducing some surprise bosses/boss variants as rewards for beating tough pantheons. cant wait to play silksong when i turn 80!\", \"This isn't just a game, this is an entire experience.\\n                     \\n                     I was not too much into Metroidvania games and then I tried this without any expectation, it became one of my favorite games of all time and brought me into the genre, now I'm seeking for similar adventures and I can't wait for Silksong.\\n                     \\n                     I've done all 112% in my first run and now I'm beating the game again, then I'll aim to master the game on Steam, and this is the first time a game instigated me to do that. Masterpiece.\", 'Faz uns 2/3 anos que eu zerei esse jogo, mesmo assim nunca saiu da minha memória.\\n                     \\n                     Vou rejogar para fazer uma análise mais aprofundada', 'i like how you can bounce on spikes with your nail. a good casual game that offers additional challenges for people that are socially challenged', 'A rivetting action/adventure game with a stunning design. Extremely rewarding but also gruesomly difficult at times.', 'I\\'d give this game a 4 for each individual aspect (platforming, exploration, combat) but the integration and packaging of the content are so good, it\\'s slightly better that the sum of its parts. Most of the combat and traversal abilities feel useful, and many evoke that Super Metroid-y, gleeful feeling that you\\'ll finally be able to access that new area, grab that item, or beat that boss. The end-game challenges, reminiscent of Wiley\\'s fortress and boss rushes after Megaman has fully self-actualized, were the highlight. Boss rushes in particular were fun to dissect and master. I found uses for some charms I had written off as \"not my style\" to counter some of the unconventional boss mechanics. My only gripes:\\n                     \\n                     -The repeated backtracking. I get it - a fast-travel mechanic that\\'s too liberal can erase the environment, but this was excessive.\\n                     \\n                     -Some of the charms seemed worthless, even after strategizing for boss, combat, and platforming rushes.\\n                     \\n                     -In the name of decency and civility, make geo-sucking ability automatic.']</td>\n",
       "      <td>4.4</td>\n",
       "      <td>2.4K</td>\n",
       "      <td>8.3K</td>\n",
       "      <td>2.3K</td>\n",
       "      <td>21K</td>\n",
       "    </tr>\n",
       "  </tbody>\n",
       "</table>\n",
       "</div>"
      ],
      "text/plain": [
       "                                     Title  Release Date  \\\n",
       "0                               Elden Ring  Feb 25, 2022   \n",
       "1                                    Hades  Dec 10, 2019   \n",
       "2  The Legend of Zelda: Breath of the Wild  Mar 03, 2017   \n",
       "3                                Undertale  Sep 15, 2015   \n",
       "4                            Hollow Knight  Feb 24, 2017   \n",
       "\n",
       "                                                 Genres  \\\n",
       "0                                  ['Adventure', 'RPG']   \n",
       "1              ['Adventure', 'Brawler', 'Indie', 'RPG']   \n",
       "2                                  ['Adventure', 'RPG']   \n",
       "3  ['Adventure', 'Indie', 'RPG', 'Turn Based Strategy']   \n",
       "4                    ['Adventure', 'Indie', 'Platform']   \n",
       "\n",
       "                                                                                                                                                                                                                                                                                                                                                                                                                                                                                                                                                                                                                    Summary  \\\n",
       "0                                                                                                                                                                                                                                                                                                                                                                                   Elden Ring is a fantasy, action and open world game with RPG elements such as stats, weapons and spells. Rise, Tarnished, and be guided by grace to brandish the power of the Elden Ring and become an Elden Lord in the Lands Between.   \n",
       "1                                                                                                                                                                                                                                                                                           A rogue-lite hack and slash dungeon crawler in which Zagreus, son of Hades the Greek god of the dead, attempts to escape his home and his oppressive father by fighting the souls of the dead through the various layers of the ever-shifting underworld, while getting to know and forging relationships with its inhabitants.   \n",
       "2  The Legend of Zelda: Breath of the Wild is the first 3D open-world game in the Zelda series. Link can travel anywhere and be equipped with weapons and armor found throughout the world to grant him various bonuses. Unlike many games in the series, Breath of the Wild does not impose a specific order in which quests or dungeons must be completed. While the game still has environmental obstacles such as weather effects, inhospitable lands, or powerful enemies, many of them can be overcome using the right method. A lot of critics ranked Breath of the Wild as one of the best video games of all time.   \n",
       "3                                                                                                                                                                                                                        A small child falls into the Underground, where monsters have long been banished by humans and are hunting every human that they find. The player controls the child as they try to make it back to the Surface through hostile environments, all the while engaging with a turn-based combat system with puzzle-solving and bullet hell elements, as well as other unconventional game mechanics.   \n",
       "4                                                                                                                                                                                                                    A 2D metroidvania with an emphasis on close combat and exploration in which the player enters the once-prosperous now-bleak insect kingdom of Hallownest, travels through its various districts, meets friendly inhabitants, fights hostile ones and uncovers the kingdom's history while improving their combat abilities and movement arsenal by fighting bosses and accessing out-of-the-way areas.   \n",
       "\n",
       "                                                                                                                                                                                                                                                                                                                                                                                                                                                                                                                                                                                                                                                                                                                                                                                                                                                                                                                                                                                                                                                                                                                                                                                                                                                                                                                                                                                                                                                                                                                                                                                                                                                                                                                                                                                                                                                                                                                                                                                                                                                                                                                                                                                                                                                                                                                                                                                                                                                                                                                                                                                                                                                                                                                          Reviews  \\\n",
       "0                                                                                                                                                                                                                                                                                                                                                                                                                                                                                                                                                                                                                                                                                                                                                                                                                                                                                                                                                                                                                                                                                                                                                                                                                                                                                                                                                                                               [\"The first playthrough of elden ring is one of the best eperiences gaming can offer you but after youve explored everything in the open world and you've experienced all of the surprises you lose motivation to go exploring on repeat playthroughs which takes a lot away from the replayability which is a very important thing for from games imo.\", 'a replay solidified my love for elden ring. so easily my favorite game of all time. actually beating malenia this time was also an amazing feeling. i just love being in this world man its the greatest of all time', 'The game is absolutely beautiful, with so much to do. The replayability is crazy. And it never gets old with it too.', 'Took everything great about the Soulsborne games and make it 100% better.', 'I play with my overlevelled friend every time and we still fail sometimes (he’s on NG6), insanely difficult game lol\\n                     \\n                     gorgeous graphics, animations, everything about this game is so beautiful. deserves all the hype it gets. If you have a powerful enough pc I definitely recommend you play it on there, if you use keyboard, you’ll want to change the keybinds because the defaults are ass.', \"Tied as my favorite souls game with Bloodborne, truly one I'll keep coming back too.\"]   \n",
       "1                                                                                                                                                                                                                                                                                                                                                                                                                                                                                                                                                                                                                                                                                                                                                                                              ['convinced this is a roguelike for people who do not like the genre. The art is technically good but the aesthetic does very little for me, too clean or something. idk wish I liked it but I do not', 'incredible art, a banger soundtrack a surprisingly charming storyline and a big red dog. hades has very smooth gameplay but after playing it for a while it just feels like youre doing the same 3 hit combo ove and over again, which dont get me wrong that combo feels great to do but once i becomes muscle memory you kinda go into autopilot. also i think the boons are cool but i would like to see them change the flow of combat a bit more, there are some cool ones like the grape boon that can change the way you play but most of them are just upgrades that dont really change the gameplay or strategy. other then those 2 small gripes the game is fantastic.', \"People tell me this game gets really really good at some point but i've beaten entire games in the amount of time I gave this game.\", 'Não sou muito de jogo indie, admito que joguei poucos, mas devo dizer que Hades foi um dos melhores jogos que joguei na vida, facilmente no top 15. Toda sua arte, dublagem, gameplay, carisma dos personagens, é tudo incrivel', \"I can't shake the feeling that I am thoroughly bored playing Hades. I've picked up Hades three times over the last few years, and three times I've found myself putting down the controller after a handful of hours, especially after reaching the third stage, and I couldn't figure out why it wasn't working for me. After giving it a few good goes, I've finally managed to pin down what it is that just doesn't click for me about Hades.\", 'One of my favorites in the rogue-likes/lites, only being beat by binding of Isaac. I love the characters (Thanatos my beloved) and the writing and the art style and RRRAAAAHHH THIS GAME IS AWESOME']   \n",
       "2                                                                                                                                                                                                                                                                                                                                                                                                                                                                                                                                                                                                                                                                                                                                                                                                                                                                                                                  ['This game is the game (that is not CS:GO) that I have played the most ever. I have played this game for 400 hours.', \"A really good switch game, however didn't really grip me like mario odyssey\", \"i was very disappointed by the final boss fight, but the rest of the game is so good it makes me not want to even do the final boss fight anyway just so i can play more of the game. i do wish that there were more unique mechanics in combat besides just parrying and link's flurry rush, but the world is really pretty and actually incentivizes exploring it. characters are great, story is great and makes you work for it, and there's tons of hidden secrets and details.\", 'em 105 horas de jogo não houve um segundo que eu não tava me divertindo e eu acho que isso diz muito', 'Sencillamente el mejor juego que he tenido el placer de disfrutar, esperé 5 años para poder jugarlo y puedo decir que valió cada segundo la espera. No estoy ni cerca de conseguir el 100%, tengo mas de 100 horas y aún estoy descubriendo cosas nuevas. Va más allá de un simple juego, es una experiencia que lamentablemente solo se puede vivir una vez en la vida y la recomiendo totalmente.', 'em meio a tanto jogo de mundo aberto ruim saindo por aí na última década, acho que da pra entender porque breath of the wild chocou tanto as pessoas no ano em que ele lançou. E realmente eu acho que é o melhor mundo aberto que eu já joguei até hoje, explorar cada pedacinho desse mundo é TÃO GOSTOSO, parece que tudo aqui tá no mapa tem um propósito para estar lá, diferente dos mapas vazios da ubisoft por exemplo. Acho que o unico defeito é esses sistema chatinho de durabilidade das armas, ficar trocando de arma o tempo todo é tão chato, espero que no próximo não tenha.']   \n",
       "3                                                                                                                                                                                                                                                                                                                                                                                                                                                                                                                                                                                                                                                                                                                                                                                                                                                                                                                                                                                                                                                                                                                                                                                                                                                                                                                                                                                                                                                                                                                                                                                                                                                                                                                                                                                                                                                                                                  ['soundtrack is tied for #1 with nier automata.  a super charming story and characters which have become iconic. and all that made by 1 man. thats it, thats the review i have no criticisms', 'Just play this game, Dont look at any of these reviews, just pick the game up and know nothing else about it if you are one of the lucky ones that didnt get spoiled on the game. It will fucking break you in the best of ways', 'Não há palavras que deem para descrever a experiência que foi esse jogo.', 'CLASSSSSSSSSSSSSSSICCCCCCCCCCCCCCCCCCC', 'whooaa ohh ohhhh ohoohhohh ohhwooaah story of undertale', 'A nice unique take on the RPG indie game format by incorporating really good ideas, funny interactions, an incredibly subtle story, and wonderful music. Definitely a must play if you have not already.']   \n",
       "4  [\"this games worldbuilding is incredible, with its amazing soundtrack and gorgeous art direction it really makes you feel like you're spiderman.  one of the best value in gaming tbh, this game is packed full of content and none of it feels like filler. even the boss rush manages to feel fresh by introducing some surprise bosses/boss variants as rewards for beating tough pantheons. cant wait to play silksong when i turn 80!\", \"This isn't just a game, this is an entire experience.\\n                     \\n                     I was not too much into Metroidvania games and then I tried this without any expectation, it became one of my favorite games of all time and brought me into the genre, now I'm seeking for similar adventures and I can't wait for Silksong.\\n                     \\n                     I've done all 112% in my first run and now I'm beating the game again, then I'll aim to master the game on Steam, and this is the first time a game instigated me to do that. Masterpiece.\", 'Faz uns 2/3 anos que eu zerei esse jogo, mesmo assim nunca saiu da minha memória.\\n                     \\n                     Vou rejogar para fazer uma análise mais aprofundada', 'i like how you can bounce on spikes with your nail. a good casual game that offers additional challenges for people that are socially challenged', 'A rivetting action/adventure game with a stunning design. Extremely rewarding but also gruesomly difficult at times.', 'I\\'d give this game a 4 for each individual aspect (platforming, exploration, combat) but the integration and packaging of the content are so good, it\\'s slightly better that the sum of its parts. Most of the combat and traversal abilities feel useful, and many evoke that Super Metroid-y, gleeful feeling that you\\'ll finally be able to access that new area, grab that item, or beat that boss. The end-game challenges, reminiscent of Wiley\\'s fortress and boss rushes after Megaman has fully self-actualized, were the highlight. Boss rushes in particular were fun to dissect and master. I found uses for some charms I had written off as \"not my style\" to counter some of the unconventional boss mechanics. My only gripes:\\n                     \\n                     -The repeated backtracking. I get it - a fast-travel mechanic that\\'s too liberal can erase the environment, but this was excessive.\\n                     \\n                     -Some of the charms seemed worthless, even after strategizing for boss, combat, and platforming rushes.\\n                     \\n                     -In the name of decency and civility, make geo-sucking ability automatic.']   \n",
       "\n",
       "   Rating Playing Backlogs Wishlist Plays  \n",
       "0     4.5    3.8K     4.6K     4.8K   17K  \n",
       "1     4.3    3.2K     6.3K     3.6K   21K  \n",
       "2     4.4    2.5K       5K     2.6K   30K  \n",
       "3     4.2     679     4.9K     1.8K   28K  \n",
       "4     4.4    2.4K     8.3K     2.3K   21K  "
      ]
     },
     "execution_count": 66,
     "metadata": {},
     "output_type": "execute_result"
    }
   ],
   "source": [
    "dataG = xdf[[\n",
    "      'Title',\n",
    "      'Release Date',\n",
    "      'Genres',\n",
    "      'Summary',\n",
    "      'Reviews',\n",
    "      'Rating',\n",
    "      'Playing',\n",
    "      'Backlogs',\n",
    "      'Wishlist',\n",
    "      'Plays']]\n",
    "dataG.head()"
   ]
  },
  {
   "cell_type": "code",
   "execution_count": 67,
   "metadata": {
    "collapsed": false,
    "jupyter": {
     "outputs_hidden": false
    }
   },
   "outputs": [
    {
     "data": {
      "text/plain": [
       "Title            0\n",
       "Release Date     0\n",
       "Genres           0\n",
       "Summary          1\n",
       "Reviews          0\n",
       "Rating          13\n",
       "Playing          0\n",
       "Backlogs         0\n",
       "Wishlist         0\n",
       "Plays            0\n",
       "dtype: int64"
      ]
     },
     "execution_count": 67,
     "metadata": {},
     "output_type": "execute_result"
    }
   ],
   "source": [
    "dataG.isnull().sum()"
   ]
  },
  {
   "cell_type": "code",
   "execution_count": 68,
   "metadata": {
    "collapsed": false,
    "jupyter": {
     "outputs_hidden": false
    },
    "scrolled": true
   },
   "outputs": [
    {
     "name": "stdout",
     "output_type": "stream",
     "text": [
      "<class 'pandas.core.frame.DataFrame'>\n",
      "RangeIndex: 1512 entries, 0 to 1511\n",
      "Data columns (total 10 columns):\n",
      " #   Column        Non-Null Count  Dtype  \n",
      "---  ------        --------------  -----  \n",
      " 0   Title         1512 non-null   object \n",
      " 1   Release Date  1512 non-null   object \n",
      " 2   Genres        1512 non-null   object \n",
      " 3   Summary       1511 non-null   object \n",
      " 4   Reviews       1512 non-null   object \n",
      " 5   Rating        1499 non-null   float64\n",
      " 6   Playing       1512 non-null   object \n",
      " 7   Backlogs      1512 non-null   object \n",
      " 8   Wishlist      1512 non-null   object \n",
      " 9   Plays         1512 non-null   object \n",
      "dtypes: float64(1), object(9)\n",
      "memory usage: 118.3+ KB\n"
     ]
    }
   ],
   "source": [
    "dataG.info()"
   ]
  },
  {
   "cell_type": "code",
   "execution_count": 69,
   "metadata": {
    "collapsed": false,
    "jupyter": {
     "outputs_hidden": false
    }
   },
   "outputs": [],
   "source": [
    "#removing rows with NULL value\n",
    "#for example, games with no reviews"
   ]
  },
  {
   "cell_type": "code",
   "execution_count": 70,
   "metadata": {
    "collapsed": false,
    "jupyter": {
     "outputs_hidden": false
    }
   },
   "outputs": [
    {
     "name": "stdout",
     "output_type": "stream",
     "text": [
      "Shape of new dataset is: (1499, 10)\n"
     ]
    }
   ],
   "source": [
    "#drop all NULL values\n",
    "dataG=dataG.dropna()\n",
    "\n",
    "#reset index rows of dataframe to avoid non-consecutive index values\n",
    "dataG=dataG.reset_index(drop=True)\n",
    "\n",
    "print(f\"Shape of new dataset is: {dataG.shape}\")"
   ]
  },
  {
   "cell_type": "code",
   "execution_count": 71,
   "metadata": {
    "collapsed": false,
    "jupyter": {
     "outputs_hidden": false
    }
   },
   "outputs": [
    {
     "data": {
      "text/plain": [
       "False"
      ]
     },
     "execution_count": 71,
     "metadata": {},
     "output_type": "execute_result"
    }
   ],
   "source": [
    "#there were 13 rows wil null values\n",
    "#Double checking if there are any null values left in the dataset\n",
    "dataG.isnull().values.any()\n"
   ]
  },
  {
   "cell_type": "code",
   "execution_count": 72,
   "metadata": {
    "collapsed": false,
    "jupyter": {
     "outputs_hidden": false
    }
   },
   "outputs": [
    {
     "data": {
      "text/html": [
       "<div>\n",
       "<style scoped>\n",
       "    .dataframe tbody tr th:only-of-type {\n",
       "        vertical-align: middle;\n",
       "    }\n",
       "\n",
       "    .dataframe tbody tr th {\n",
       "        vertical-align: top;\n",
       "    }\n",
       "\n",
       "    .dataframe thead th {\n",
       "        text-align: right;\n",
       "    }\n",
       "</style>\n",
       "<table border=\"1\" class=\"dataframe\">\n",
       "  <thead>\n",
       "    <tr style=\"text-align: right;\">\n",
       "      <th></th>\n",
       "      <th>Title</th>\n",
       "      <th>Genres</th>\n",
       "      <th>Summary</th>\n",
       "      <th>Reviews</th>\n",
       "      <th>Rating</th>\n",
       "      <th>Playing</th>\n",
       "      <th>Backlogs</th>\n",
       "      <th>Wishlist</th>\n",
       "      <th>Plays</th>\n",
       "      <th>Year</th>\n",
       "    </tr>\n",
       "  </thead>\n",
       "  <tbody>\n",
       "    <tr>\n",
       "      <th>0</th>\n",
       "      <td>Elden Ring</td>\n",
       "      <td>['Adventure', 'RPG']</td>\n",
       "      <td>Elden Ring is a fantasy, action and open world game with RPG elements such as stats, weapons and spells. Rise, Tarnished, and be guided by grace to brandish the power of the Elden Ring and become an Elden Lord in the Lands Between.</td>\n",
       "      <td>[\"The first playthrough of elden ring is one of the best eperiences gaming can offer you but after youve explored everything in the open world and you've experienced all of the surprises you lose motivation to go exploring on repeat playthroughs which takes a lot away from the replayability which is a very important thing for from games imo.\", 'a replay solidified my love for elden ring. so easily my favorite game of all time. actually beating malenia this time was also an amazing feeling. i just love being in this world man its the greatest of all time', 'The game is absolutely beautiful, with so much to do. The replayability is crazy. And it never gets old with it too.', 'Took everything great about the Soulsborne games and make it 100% better.', 'I play with my overlevelled friend every time and we still fail sometimes (he’s on NG6), insanely difficult game lol\\n                     \\n                     gorgeous graphics, animations, everything about this game is so beautiful. deserves all the hype it gets. If you have a powerful enough pc I definitely recommend you play it on there, if you use keyboard, you’ll want to change the keybinds because the defaults are ass.', \"Tied as my favorite souls game with Bloodborne, truly one I'll keep coming back too.\"]</td>\n",
       "      <td>4.5</td>\n",
       "      <td>3.8K</td>\n",
       "      <td>4.6K</td>\n",
       "      <td>4.8K</td>\n",
       "      <td>17K</td>\n",
       "      <td>2022</td>\n",
       "    </tr>\n",
       "    <tr>\n",
       "      <th>1</th>\n",
       "      <td>Hades</td>\n",
       "      <td>['Adventure', 'Brawler', 'Indie', 'RPG']</td>\n",
       "      <td>A rogue-lite hack and slash dungeon crawler in which Zagreus, son of Hades the Greek god of the dead, attempts to escape his home and his oppressive father by fighting the souls of the dead through the various layers of the ever-shifting underworld, while getting to know and forging relationships with its inhabitants.</td>\n",
       "      <td>['convinced this is a roguelike for people who do not like the genre. The art is technically good but the aesthetic does very little for me, too clean or something. idk wish I liked it but I do not', 'incredible art, a banger soundtrack a surprisingly charming storyline and a big red dog. hades has very smooth gameplay but after playing it for a while it just feels like youre doing the same 3 hit combo ove and over again, which dont get me wrong that combo feels great to do but once i becomes muscle memory you kinda go into autopilot. also i think the boons are cool but i would like to see them change the flow of combat a bit more, there are some cool ones like the grape boon that can change the way you play but most of them are just upgrades that dont really change the gameplay or strategy. other then those 2 small gripes the game is fantastic.', \"People tell me this game gets really really good at some point but i've beaten entire games in the amount of time I gave this game.\", 'Não sou muito de jogo indie, admito que joguei poucos, mas devo dizer que Hades foi um dos melhores jogos que joguei na vida, facilmente no top 15. Toda sua arte, dublagem, gameplay, carisma dos personagens, é tudo incrivel', \"I can't shake the feeling that I am thoroughly bored playing Hades. I've picked up Hades three times over the last few years, and three times I've found myself putting down the controller after a handful of hours, especially after reaching the third stage, and I couldn't figure out why it wasn't working for me. After giving it a few good goes, I've finally managed to pin down what it is that just doesn't click for me about Hades.\", 'One of my favorites in the rogue-likes/lites, only being beat by binding of Isaac. I love the characters (Thanatos my beloved) and the writing and the art style and RRRAAAAHHH THIS GAME IS AWESOME']</td>\n",
       "      <td>4.3</td>\n",
       "      <td>3.2K</td>\n",
       "      <td>6.3K</td>\n",
       "      <td>3.6K</td>\n",
       "      <td>21K</td>\n",
       "      <td>2019</td>\n",
       "    </tr>\n",
       "    <tr>\n",
       "      <th>2</th>\n",
       "      <td>The Legend of Zelda: Breath of the Wild</td>\n",
       "      <td>['Adventure', 'RPG']</td>\n",
       "      <td>The Legend of Zelda: Breath of the Wild is the first 3D open-world game in the Zelda series. Link can travel anywhere and be equipped with weapons and armor found throughout the world to grant him various bonuses. Unlike many games in the series, Breath of the Wild does not impose a specific order in which quests or dungeons must be completed. While the game still has environmental obstacles such as weather effects, inhospitable lands, or powerful enemies, many of them can be overcome using the right method. A lot of critics ranked Breath of the Wild as one of the best video games of all time.</td>\n",
       "      <td>['This game is the game (that is not CS:GO) that I have played the most ever. I have played this game for 400 hours.', \"A really good switch game, however didn't really grip me like mario odyssey\", \"i was very disappointed by the final boss fight, but the rest of the game is so good it makes me not want to even do the final boss fight anyway just so i can play more of the game. i do wish that there were more unique mechanics in combat besides just parrying and link's flurry rush, but the world is really pretty and actually incentivizes exploring it. characters are great, story is great and makes you work for it, and there's tons of hidden secrets and details.\", 'em 105 horas de jogo não houve um segundo que eu não tava me divertindo e eu acho que isso diz muito', 'Sencillamente el mejor juego que he tenido el placer de disfrutar, esperé 5 años para poder jugarlo y puedo decir que valió cada segundo la espera. No estoy ni cerca de conseguir el 100%, tengo mas de 100 horas y aún estoy descubriendo cosas nuevas. Va más allá de un simple juego, es una experiencia que lamentablemente solo se puede vivir una vez en la vida y la recomiendo totalmente.', 'em meio a tanto jogo de mundo aberto ruim saindo por aí na última década, acho que da pra entender porque breath of the wild chocou tanto as pessoas no ano em que ele lançou. E realmente eu acho que é o melhor mundo aberto que eu já joguei até hoje, explorar cada pedacinho desse mundo é TÃO GOSTOSO, parece que tudo aqui tá no mapa tem um propósito para estar lá, diferente dos mapas vazios da ubisoft por exemplo. Acho que o unico defeito é esses sistema chatinho de durabilidade das armas, ficar trocando de arma o tempo todo é tão chato, espero que no próximo não tenha.']</td>\n",
       "      <td>4.4</td>\n",
       "      <td>2.5K</td>\n",
       "      <td>5K</td>\n",
       "      <td>2.6K</td>\n",
       "      <td>30K</td>\n",
       "      <td>2017</td>\n",
       "    </tr>\n",
       "    <tr>\n",
       "      <th>3</th>\n",
       "      <td>Undertale</td>\n",
       "      <td>['Adventure', 'Indie', 'RPG', 'Turn Based Strategy']</td>\n",
       "      <td>A small child falls into the Underground, where monsters have long been banished by humans and are hunting every human that they find. The player controls the child as they try to make it back to the Surface through hostile environments, all the while engaging with a turn-based combat system with puzzle-solving and bullet hell elements, as well as other unconventional game mechanics.</td>\n",
       "      <td>['soundtrack is tied for #1 with nier automata.  a super charming story and characters which have become iconic. and all that made by 1 man. thats it, thats the review i have no criticisms', 'Just play this game, Dont look at any of these reviews, just pick the game up and know nothing else about it if you are one of the lucky ones that didnt get spoiled on the game. It will fucking break you in the best of ways', 'Não há palavras que deem para descrever a experiência que foi esse jogo.', 'CLASSSSSSSSSSSSSSSICCCCCCCCCCCCCCCCCCC', 'whooaa ohh ohhhh ohoohhohh ohhwooaah story of undertale', 'A nice unique take on the RPG indie game format by incorporating really good ideas, funny interactions, an incredibly subtle story, and wonderful music. Definitely a must play if you have not already.']</td>\n",
       "      <td>4.2</td>\n",
       "      <td>679</td>\n",
       "      <td>4.9K</td>\n",
       "      <td>1.8K</td>\n",
       "      <td>28K</td>\n",
       "      <td>2015</td>\n",
       "    </tr>\n",
       "    <tr>\n",
       "      <th>4</th>\n",
       "      <td>Hollow Knight</td>\n",
       "      <td>['Adventure', 'Indie', 'Platform']</td>\n",
       "      <td>A 2D metroidvania with an emphasis on close combat and exploration in which the player enters the once-prosperous now-bleak insect kingdom of Hallownest, travels through its various districts, meets friendly inhabitants, fights hostile ones and uncovers the kingdom's history while improving their combat abilities and movement arsenal by fighting bosses and accessing out-of-the-way areas.</td>\n",
       "      <td>[\"this games worldbuilding is incredible, with its amazing soundtrack and gorgeous art direction it really makes you feel like you're spiderman.  one of the best value in gaming tbh, this game is packed full of content and none of it feels like filler. even the boss rush manages to feel fresh by introducing some surprise bosses/boss variants as rewards for beating tough pantheons. cant wait to play silksong when i turn 80!\", \"This isn't just a game, this is an entire experience.\\n                     \\n                     I was not too much into Metroidvania games and then I tried this without any expectation, it became one of my favorite games of all time and brought me into the genre, now I'm seeking for similar adventures and I can't wait for Silksong.\\n                     \\n                     I've done all 112% in my first run and now I'm beating the game again, then I'll aim to master the game on Steam, and this is the first time a game instigated me to do that. Masterpiece.\", 'Faz uns 2/3 anos que eu zerei esse jogo, mesmo assim nunca saiu da minha memória.\\n                     \\n                     Vou rejogar para fazer uma análise mais aprofundada', 'i like how you can bounce on spikes with your nail. a good casual game that offers additional challenges for people that are socially challenged', 'A rivetting action/adventure game with a stunning design. Extremely rewarding but also gruesomly difficult at times.', 'I\\'d give this game a 4 for each individual aspect (platforming, exploration, combat) but the integration and packaging of the content are so good, it\\'s slightly better that the sum of its parts. Most of the combat and traversal abilities feel useful, and many evoke that Super Metroid-y, gleeful feeling that you\\'ll finally be able to access that new area, grab that item, or beat that boss. The end-game challenges, reminiscent of Wiley\\'s fortress and boss rushes after Megaman has fully self-actualized, were the highlight. Boss rushes in particular were fun to dissect and master. I found uses for some charms I had written off as \"not my style\" to counter some of the unconventional boss mechanics. My only gripes:\\n                     \\n                     -The repeated backtracking. I get it - a fast-travel mechanic that\\'s too liberal can erase the environment, but this was excessive.\\n                     \\n                     -Some of the charms seemed worthless, even after strategizing for boss, combat, and platforming rushes.\\n                     \\n                     -In the name of decency and civility, make geo-sucking ability automatic.']</td>\n",
       "      <td>4.4</td>\n",
       "      <td>2.4K</td>\n",
       "      <td>8.3K</td>\n",
       "      <td>2.3K</td>\n",
       "      <td>21K</td>\n",
       "      <td>2017</td>\n",
       "    </tr>\n",
       "  </tbody>\n",
       "</table>\n",
       "</div>"
      ],
      "text/plain": [
       "                                     Title  \\\n",
       "0                               Elden Ring   \n",
       "1                                    Hades   \n",
       "2  The Legend of Zelda: Breath of the Wild   \n",
       "3                                Undertale   \n",
       "4                            Hollow Knight   \n",
       "\n",
       "                                                 Genres  \\\n",
       "0                                  ['Adventure', 'RPG']   \n",
       "1              ['Adventure', 'Brawler', 'Indie', 'RPG']   \n",
       "2                                  ['Adventure', 'RPG']   \n",
       "3  ['Adventure', 'Indie', 'RPG', 'Turn Based Strategy']   \n",
       "4                    ['Adventure', 'Indie', 'Platform']   \n",
       "\n",
       "                                                                                                                                                                                                                                                                                                                                                                                                                                                                                                                                                                                                                    Summary  \\\n",
       "0                                                                                                                                                                                                                                                                                                                                                                                   Elden Ring is a fantasy, action and open world game with RPG elements such as stats, weapons and spells. Rise, Tarnished, and be guided by grace to brandish the power of the Elden Ring and become an Elden Lord in the Lands Between.   \n",
       "1                                                                                                                                                                                                                                                                                           A rogue-lite hack and slash dungeon crawler in which Zagreus, son of Hades the Greek god of the dead, attempts to escape his home and his oppressive father by fighting the souls of the dead through the various layers of the ever-shifting underworld, while getting to know and forging relationships with its inhabitants.   \n",
       "2  The Legend of Zelda: Breath of the Wild is the first 3D open-world game in the Zelda series. Link can travel anywhere and be equipped with weapons and armor found throughout the world to grant him various bonuses. Unlike many games in the series, Breath of the Wild does not impose a specific order in which quests or dungeons must be completed. While the game still has environmental obstacles such as weather effects, inhospitable lands, or powerful enemies, many of them can be overcome using the right method. A lot of critics ranked Breath of the Wild as one of the best video games of all time.   \n",
       "3                                                                                                                                                                                                                        A small child falls into the Underground, where monsters have long been banished by humans and are hunting every human that they find. The player controls the child as they try to make it back to the Surface through hostile environments, all the while engaging with a turn-based combat system with puzzle-solving and bullet hell elements, as well as other unconventional game mechanics.   \n",
       "4                                                                                                                                                                                                                    A 2D metroidvania with an emphasis on close combat and exploration in which the player enters the once-prosperous now-bleak insect kingdom of Hallownest, travels through its various districts, meets friendly inhabitants, fights hostile ones and uncovers the kingdom's history while improving their combat abilities and movement arsenal by fighting bosses and accessing out-of-the-way areas.   \n",
       "\n",
       "                                                                                                                                                                                                                                                                                                                                                                                                                                                                                                                                                                                                                                                                                                                                                                                                                                                                                                                                                                                                                                                                                                                                                                                                                                                                                                                                                                                                                                                                                                                                                                                                                                                                                                                                                                                                                                                                                                                                                                                                                                                                                                                                                                                                                                                                                                                                                                                                                                                                                                                                                                                                                                                                                                                          Reviews  \\\n",
       "0                                                                                                                                                                                                                                                                                                                                                                                                                                                                                                                                                                                                                                                                                                                                                                                                                                                                                                                                                                                                                                                                                                                                                                                                                                                                                                                                                                                               [\"The first playthrough of elden ring is one of the best eperiences gaming can offer you but after youve explored everything in the open world and you've experienced all of the surprises you lose motivation to go exploring on repeat playthroughs which takes a lot away from the replayability which is a very important thing for from games imo.\", 'a replay solidified my love for elden ring. so easily my favorite game of all time. actually beating malenia this time was also an amazing feeling. i just love being in this world man its the greatest of all time', 'The game is absolutely beautiful, with so much to do. The replayability is crazy. And it never gets old with it too.', 'Took everything great about the Soulsborne games and make it 100% better.', 'I play with my overlevelled friend every time and we still fail sometimes (he’s on NG6), insanely difficult game lol\\n                     \\n                     gorgeous graphics, animations, everything about this game is so beautiful. deserves all the hype it gets. If you have a powerful enough pc I definitely recommend you play it on there, if you use keyboard, you’ll want to change the keybinds because the defaults are ass.', \"Tied as my favorite souls game with Bloodborne, truly one I'll keep coming back too.\"]   \n",
       "1                                                                                                                                                                                                                                                                                                                                                                                                                                                                                                                                                                                                                                                                                                                                                                                              ['convinced this is a roguelike for people who do not like the genre. The art is technically good but the aesthetic does very little for me, too clean or something. idk wish I liked it but I do not', 'incredible art, a banger soundtrack a surprisingly charming storyline and a big red dog. hades has very smooth gameplay but after playing it for a while it just feels like youre doing the same 3 hit combo ove and over again, which dont get me wrong that combo feels great to do but once i becomes muscle memory you kinda go into autopilot. also i think the boons are cool but i would like to see them change the flow of combat a bit more, there are some cool ones like the grape boon that can change the way you play but most of them are just upgrades that dont really change the gameplay or strategy. other then those 2 small gripes the game is fantastic.', \"People tell me this game gets really really good at some point but i've beaten entire games in the amount of time I gave this game.\", 'Não sou muito de jogo indie, admito que joguei poucos, mas devo dizer que Hades foi um dos melhores jogos que joguei na vida, facilmente no top 15. Toda sua arte, dublagem, gameplay, carisma dos personagens, é tudo incrivel', \"I can't shake the feeling that I am thoroughly bored playing Hades. I've picked up Hades three times over the last few years, and three times I've found myself putting down the controller after a handful of hours, especially after reaching the third stage, and I couldn't figure out why it wasn't working for me. After giving it a few good goes, I've finally managed to pin down what it is that just doesn't click for me about Hades.\", 'One of my favorites in the rogue-likes/lites, only being beat by binding of Isaac. I love the characters (Thanatos my beloved) and the writing and the art style and RRRAAAAHHH THIS GAME IS AWESOME']   \n",
       "2                                                                                                                                                                                                                                                                                                                                                                                                                                                                                                                                                                                                                                                                                                                                                                                                                                                                                                                  ['This game is the game (that is not CS:GO) that I have played the most ever. I have played this game for 400 hours.', \"A really good switch game, however didn't really grip me like mario odyssey\", \"i was very disappointed by the final boss fight, but the rest of the game is so good it makes me not want to even do the final boss fight anyway just so i can play more of the game. i do wish that there were more unique mechanics in combat besides just parrying and link's flurry rush, but the world is really pretty and actually incentivizes exploring it. characters are great, story is great and makes you work for it, and there's tons of hidden secrets and details.\", 'em 105 horas de jogo não houve um segundo que eu não tava me divertindo e eu acho que isso diz muito', 'Sencillamente el mejor juego que he tenido el placer de disfrutar, esperé 5 años para poder jugarlo y puedo decir que valió cada segundo la espera. No estoy ni cerca de conseguir el 100%, tengo mas de 100 horas y aún estoy descubriendo cosas nuevas. Va más allá de un simple juego, es una experiencia que lamentablemente solo se puede vivir una vez en la vida y la recomiendo totalmente.', 'em meio a tanto jogo de mundo aberto ruim saindo por aí na última década, acho que da pra entender porque breath of the wild chocou tanto as pessoas no ano em que ele lançou. E realmente eu acho que é o melhor mundo aberto que eu já joguei até hoje, explorar cada pedacinho desse mundo é TÃO GOSTOSO, parece que tudo aqui tá no mapa tem um propósito para estar lá, diferente dos mapas vazios da ubisoft por exemplo. Acho que o unico defeito é esses sistema chatinho de durabilidade das armas, ficar trocando de arma o tempo todo é tão chato, espero que no próximo não tenha.']   \n",
       "3                                                                                                                                                                                                                                                                                                                                                                                                                                                                                                                                                                                                                                                                                                                                                                                                                                                                                                                                                                                                                                                                                                                                                                                                                                                                                                                                                                                                                                                                                                                                                                                                                                                                                                                                                                                                                                                                                                  ['soundtrack is tied for #1 with nier automata.  a super charming story and characters which have become iconic. and all that made by 1 man. thats it, thats the review i have no criticisms', 'Just play this game, Dont look at any of these reviews, just pick the game up and know nothing else about it if you are one of the lucky ones that didnt get spoiled on the game. It will fucking break you in the best of ways', 'Não há palavras que deem para descrever a experiência que foi esse jogo.', 'CLASSSSSSSSSSSSSSSICCCCCCCCCCCCCCCCCCC', 'whooaa ohh ohhhh ohoohhohh ohhwooaah story of undertale', 'A nice unique take on the RPG indie game format by incorporating really good ideas, funny interactions, an incredibly subtle story, and wonderful music. Definitely a must play if you have not already.']   \n",
       "4  [\"this games worldbuilding is incredible, with its amazing soundtrack and gorgeous art direction it really makes you feel like you're spiderman.  one of the best value in gaming tbh, this game is packed full of content and none of it feels like filler. even the boss rush manages to feel fresh by introducing some surprise bosses/boss variants as rewards for beating tough pantheons. cant wait to play silksong when i turn 80!\", \"This isn't just a game, this is an entire experience.\\n                     \\n                     I was not too much into Metroidvania games and then I tried this without any expectation, it became one of my favorite games of all time and brought me into the genre, now I'm seeking for similar adventures and I can't wait for Silksong.\\n                     \\n                     I've done all 112% in my first run and now I'm beating the game again, then I'll aim to master the game on Steam, and this is the first time a game instigated me to do that. Masterpiece.\", 'Faz uns 2/3 anos que eu zerei esse jogo, mesmo assim nunca saiu da minha memória.\\n                     \\n                     Vou rejogar para fazer uma análise mais aprofundada', 'i like how you can bounce on spikes with your nail. a good casual game that offers additional challenges for people that are socially challenged', 'A rivetting action/adventure game with a stunning design. Extremely rewarding but also gruesomly difficult at times.', 'I\\'d give this game a 4 for each individual aspect (platforming, exploration, combat) but the integration and packaging of the content are so good, it\\'s slightly better that the sum of its parts. Most of the combat and traversal abilities feel useful, and many evoke that Super Metroid-y, gleeful feeling that you\\'ll finally be able to access that new area, grab that item, or beat that boss. The end-game challenges, reminiscent of Wiley\\'s fortress and boss rushes after Megaman has fully self-actualized, were the highlight. Boss rushes in particular were fun to dissect and master. I found uses for some charms I had written off as \"not my style\" to counter some of the unconventional boss mechanics. My only gripes:\\n                     \\n                     -The repeated backtracking. I get it - a fast-travel mechanic that\\'s too liberal can erase the environment, but this was excessive.\\n                     \\n                     -Some of the charms seemed worthless, even after strategizing for boss, combat, and platforming rushes.\\n                     \\n                     -In the name of decency and civility, make geo-sucking ability automatic.']   \n",
       "\n",
       "   Rating Playing Backlogs Wishlist Plays  Year  \n",
       "0     4.5    3.8K     4.6K     4.8K   17K  2022  \n",
       "1     4.3    3.2K     6.3K     3.6K   21K  2019  \n",
       "2     4.4    2.5K       5K     2.6K   30K  2017  \n",
       "3     4.2     679     4.9K     1.8K   28K  2015  \n",
       "4     4.4    2.4K     8.3K     2.3K   21K  2017  "
      ]
     },
     "execution_count": 72,
     "metadata": {},
     "output_type": "execute_result"
    }
   ],
   "source": [
    "#Extract year from release data and drop Release date column\n",
    "import datetime\n",
    "\n",
    "def extract_year(date_str):\n",
    "    try:\n",
    "        date_object = datetime.datetime.strptime(date_str, \"%b %d, %Y\")\n",
    "        return date_object.year\n",
    "    except ValueError:\n",
    "        return pd.NA  # Handle potential format errors (optional)\n",
    "\n",
    "dataG['Year'] = dataG['Release Date'].apply(extract_year)\n",
    "#dataG.drop('Release Date',axis=1) \n",
    "data=dataG.drop('Release Date',axis=1) \n",
    "data.head()"
   ]
  },
  {
   "cell_type": "code",
   "execution_count": 73,
   "metadata": {
    "collapsed": false,
    "jupyter": {
     "outputs_hidden": false
    }
   },
   "outputs": [
    {
     "data": {
      "text/plain": [
       "True"
      ]
     },
     "execution_count": 73,
     "metadata": {},
     "output_type": "execute_result"
    }
   ],
   "source": [
    "data.isnull().values.any()"
   ]
  },
  {
   "cell_type": "code",
   "execution_count": 74,
   "metadata": {
    "collapsed": false,
    "jupyter": {
     "outputs_hidden": false
    }
   },
   "outputs": [
    {
     "name": "stdout",
     "output_type": "stream",
     "text": [
      "Shape of new dataset is: (1497, 10)\n"
     ]
    }
   ],
   "source": [
    "#Release date column contain strings with \"releases on TBD\" which means the game has not been released yet\n",
    "#extracting the year from this column cause this string value to be null and now we also have to remove the rows containing it\n",
    "#drop all NULL values\n",
    "data=data.dropna()\n",
    "\n",
    "#reset index rows of datframe to avoid non-consecutive index values\n",
    "data=data.reset_index(drop=True)\n",
    "\n",
    "#convert date column from string to int\n",
    "data['Year']=data['Year'].astype(int)\n",
    "#df['points'] = df['points'].astype(str).astype(int)\n",
    "\n",
    "print(f\"Shape of new dataset is: {data.shape}\")\n"
   ]
  },
  {
   "cell_type": "code",
   "execution_count": 75,
   "metadata": {
    "collapsed": false,
    "jupyter": {
     "outputs_hidden": false
    },
    "scrolled": true
   },
   "outputs": [
    {
     "name": "stdout",
     "output_type": "stream",
     "text": [
      "<class 'pandas.core.frame.DataFrame'>\n",
      "RangeIndex: 1497 entries, 0 to 1496\n",
      "Data columns (total 10 columns):\n",
      " #   Column    Non-Null Count  Dtype  \n",
      "---  ------    --------------  -----  \n",
      " 0   Title     1497 non-null   object \n",
      " 1   Genres    1497 non-null   object \n",
      " 2   Summary   1497 non-null   object \n",
      " 3   Reviews   1497 non-null   object \n",
      " 4   Rating    1497 non-null   float64\n",
      " 5   Playing   1497 non-null   object \n",
      " 6   Backlogs  1497 non-null   object \n",
      " 7   Wishlist  1497 non-null   object \n",
      " 8   Plays     1497 non-null   object \n",
      " 9   Year      1497 non-null   int32  \n",
      "dtypes: float64(1), int32(1), object(8)\n",
      "memory usage: 111.2+ KB\n"
     ]
    }
   ],
   "source": [
    "data.info()"
   ]
  },
  {
   "cell_type": "code",
   "execution_count": 76,
   "metadata": {
    "collapsed": false,
    "jupyter": {
     "outputs_hidden": false
    }
   },
   "outputs": [],
   "source": [
    "# Converts the numbers with K to multiple by 1000 and convert into whole integers since K = 1000. Eg. 1K = 1 * 1000\n",
    "def extract_value(value_str):\n",
    "    if value_str.upper().endswith('K'):\n",
    "        value_str = value_str[:-1]\n",
    "        value_num = float(value_str) * 1000\n",
    "    else:\n",
    "        value_num = float(value_str)\n",
    "    return value_num\n"
   ]
  },
  {
   "cell_type": "code",
   "execution_count": 77,
   "metadata": {
    "collapsed": false,
    "jupyter": {
     "outputs_hidden": false
    }
   },
   "outputs": [
    {
     "data": {
      "text/html": [
       "<div>\n",
       "<style scoped>\n",
       "    .dataframe tbody tr th:only-of-type {\n",
       "        vertical-align: middle;\n",
       "    }\n",
       "\n",
       "    .dataframe tbody tr th {\n",
       "        vertical-align: top;\n",
       "    }\n",
       "\n",
       "    .dataframe thead th {\n",
       "        text-align: right;\n",
       "    }\n",
       "</style>\n",
       "<table border=\"1\" class=\"dataframe\">\n",
       "  <thead>\n",
       "    <tr style=\"text-align: right;\">\n",
       "      <th></th>\n",
       "      <th>Title</th>\n",
       "      <th>Genres</th>\n",
       "      <th>Summary</th>\n",
       "      <th>Reviews</th>\n",
       "      <th>Rating</th>\n",
       "      <th>Year</th>\n",
       "      <th>Interested</th>\n",
       "      <th>Currently Playing</th>\n",
       "      <th>Total Plays</th>\n",
       "    </tr>\n",
       "  </thead>\n",
       "  <tbody>\n",
       "    <tr>\n",
       "      <th>0</th>\n",
       "      <td>Elden Ring</td>\n",
       "      <td>['Adventure', 'RPG']</td>\n",
       "      <td>Elden Ring is a fantasy, action and open world game with RPG elements such as stats, weapons and spells. Rise, Tarnished, and be guided by grace to brandish the power of the Elden Ring and become an Elden Lord in the Lands Between.</td>\n",
       "      <td>[\"The first playthrough of elden ring is one of the best eperiences gaming can offer you but after youve explored everything in the open world and you've experienced all of the surprises you lose motivation to go exploring on repeat playthroughs which takes a lot away from the replayability which is a very important thing for from games imo.\", 'a replay solidified my love for elden ring. so easily my favorite game of all time. actually beating malenia this time was also an amazing feeling. i just love being in this world man its the greatest of all time', 'The game is absolutely beautiful, with so much to do. The replayability is crazy. And it never gets old with it too.', 'Took everything great about the Soulsborne games and make it 100% better.', 'I play with my overlevelled friend every time and we still fail sometimes (he’s on NG6), insanely difficult game lol\\n                     \\n                     gorgeous graphics, animations, everything about this game is so beautiful. deserves all the hype it gets. If you have a powerful enough pc I definitely recommend you play it on there, if you use keyboard, you’ll want to change the keybinds because the defaults are ass.', \"Tied as my favorite souls game with Bloodborne, truly one I'll keep coming back too.\"]</td>\n",
       "      <td>4.5</td>\n",
       "      <td>2022</td>\n",
       "      <td>94000.0</td>\n",
       "      <td>3800.0</td>\n",
       "      <td>17000.0</td>\n",
       "    </tr>\n",
       "    <tr>\n",
       "      <th>1</th>\n",
       "      <td>Hades</td>\n",
       "      <td>['Adventure', 'Brawler', 'Indie', 'RPG']</td>\n",
       "      <td>A rogue-lite hack and slash dungeon crawler in which Zagreus, son of Hades the Greek god of the dead, attempts to escape his home and his oppressive father by fighting the souls of the dead through the various layers of the ever-shifting underworld, while getting to know and forging relationships with its inhabitants.</td>\n",
       "      <td>['convinced this is a roguelike for people who do not like the genre. The art is technically good but the aesthetic does very little for me, too clean or something. idk wish I liked it but I do not', 'incredible art, a banger soundtrack a surprisingly charming storyline and a big red dog. hades has very smooth gameplay but after playing it for a while it just feels like youre doing the same 3 hit combo ove and over again, which dont get me wrong that combo feels great to do but once i becomes muscle memory you kinda go into autopilot. also i think the boons are cool but i would like to see them change the flow of combat a bit more, there are some cool ones like the grape boon that can change the way you play but most of them are just upgrades that dont really change the gameplay or strategy. other then those 2 small gripes the game is fantastic.', \"People tell me this game gets really really good at some point but i've beaten entire games in the amount of time I gave this game.\", 'Não sou muito de jogo indie, admito que joguei poucos, mas devo dizer que Hades foi um dos melhores jogos que joguei na vida, facilmente no top 15. Toda sua arte, dublagem, gameplay, carisma dos personagens, é tudo incrivel', \"I can't shake the feeling that I am thoroughly bored playing Hades. I've picked up Hades three times over the last few years, and three times I've found myself putting down the controller after a handful of hours, especially after reaching the third stage, and I couldn't figure out why it wasn't working for me. After giving it a few good goes, I've finally managed to pin down what it is that just doesn't click for me about Hades.\", 'One of my favorites in the rogue-likes/lites, only being beat by binding of Isaac. I love the characters (Thanatos my beloved) and the writing and the art style and RRRAAAAHHH THIS GAME IS AWESOME']</td>\n",
       "      <td>4.3</td>\n",
       "      <td>2019</td>\n",
       "      <td>99000.0</td>\n",
       "      <td>3200.0</td>\n",
       "      <td>21000.0</td>\n",
       "    </tr>\n",
       "    <tr>\n",
       "      <th>2</th>\n",
       "      <td>The Legend of Zelda: Breath of the Wild</td>\n",
       "      <td>['Adventure', 'RPG']</td>\n",
       "      <td>The Legend of Zelda: Breath of the Wild is the first 3D open-world game in the Zelda series. Link can travel anywhere and be equipped with weapons and armor found throughout the world to grant him various bonuses. Unlike many games in the series, Breath of the Wild does not impose a specific order in which quests or dungeons must be completed. While the game still has environmental obstacles such as weather effects, inhospitable lands, or powerful enemies, many of them can be overcome using the right method. A lot of critics ranked Breath of the Wild as one of the best video games of all time.</td>\n",
       "      <td>['This game is the game (that is not CS:GO) that I have played the most ever. I have played this game for 400 hours.', \"A really good switch game, however didn't really grip me like mario odyssey\", \"i was very disappointed by the final boss fight, but the rest of the game is so good it makes me not want to even do the final boss fight anyway just so i can play more of the game. i do wish that there were more unique mechanics in combat besides just parrying and link's flurry rush, but the world is really pretty and actually incentivizes exploring it. characters are great, story is great and makes you work for it, and there's tons of hidden secrets and details.\", 'em 105 horas de jogo não houve um segundo que eu não tava me divertindo e eu acho que isso diz muito', 'Sencillamente el mejor juego que he tenido el placer de disfrutar, esperé 5 años para poder jugarlo y puedo decir que valió cada segundo la espera. No estoy ni cerca de conseguir el 100%, tengo mas de 100 horas y aún estoy descubriendo cosas nuevas. Va más allá de un simple juego, es una experiencia que lamentablemente solo se puede vivir una vez en la vida y la recomiendo totalmente.', 'em meio a tanto jogo de mundo aberto ruim saindo por aí na última década, acho que da pra entender porque breath of the wild chocou tanto as pessoas no ano em que ele lançou. E realmente eu acho que é o melhor mundo aberto que eu já joguei até hoje, explorar cada pedacinho desse mundo é TÃO GOSTOSO, parece que tudo aqui tá no mapa tem um propósito para estar lá, diferente dos mapas vazios da ubisoft por exemplo. Acho que o unico defeito é esses sistema chatinho de durabilidade das armas, ficar trocando de arma o tempo todo é tão chato, espero que no próximo não tenha.']</td>\n",
       "      <td>4.4</td>\n",
       "      <td>2017</td>\n",
       "      <td>31000.0</td>\n",
       "      <td>2500.0</td>\n",
       "      <td>30000.0</td>\n",
       "    </tr>\n",
       "    <tr>\n",
       "      <th>3</th>\n",
       "      <td>Undertale</td>\n",
       "      <td>['Adventure', 'Indie', 'RPG', 'Turn Based Strategy']</td>\n",
       "      <td>A small child falls into the Underground, where monsters have long been banished by humans and are hunting every human that they find. The player controls the child as they try to make it back to the Surface through hostile environments, all the while engaging with a turn-based combat system with puzzle-solving and bullet hell elements, as well as other unconventional game mechanics.</td>\n",
       "      <td>['soundtrack is tied for #1 with nier automata.  a super charming story and characters which have become iconic. and all that made by 1 man. thats it, thats the review i have no criticisms', 'Just play this game, Dont look at any of these reviews, just pick the game up and know nothing else about it if you are one of the lucky ones that didnt get spoiled on the game. It will fucking break you in the best of ways', 'Não há palavras que deem para descrever a experiência que foi esse jogo.', 'CLASSSSSSSSSSSSSSSICCCCCCCCCCCCCCCCCCC', 'whooaa ohh ohhhh ohoohhohh ohhwooaah story of undertale', 'A nice unique take on the RPG indie game format by incorporating really good ideas, funny interactions, an incredibly subtle story, and wonderful music. Definitely a must play if you have not already.']</td>\n",
       "      <td>4.2</td>\n",
       "      <td>2015</td>\n",
       "      <td>67000.0</td>\n",
       "      <td>679.0</td>\n",
       "      <td>28000.0</td>\n",
       "    </tr>\n",
       "    <tr>\n",
       "      <th>4</th>\n",
       "      <td>Hollow Knight</td>\n",
       "      <td>['Adventure', 'Indie', 'Platform']</td>\n",
       "      <td>A 2D metroidvania with an emphasis on close combat and exploration in which the player enters the once-prosperous now-bleak insect kingdom of Hallownest, travels through its various districts, meets friendly inhabitants, fights hostile ones and uncovers the kingdom's history while improving their combat abilities and movement arsenal by fighting bosses and accessing out-of-the-way areas.</td>\n",
       "      <td>[\"this games worldbuilding is incredible, with its amazing soundtrack and gorgeous art direction it really makes you feel like you're spiderman.  one of the best value in gaming tbh, this game is packed full of content and none of it feels like filler. even the boss rush manages to feel fresh by introducing some surprise bosses/boss variants as rewards for beating tough pantheons. cant wait to play silksong when i turn 80!\", \"This isn't just a game, this is an entire experience.\\n                     \\n                     I was not too much into Metroidvania games and then I tried this without any expectation, it became one of my favorite games of all time and brought me into the genre, now I'm seeking for similar adventures and I can't wait for Silksong.\\n                     \\n                     I've done all 112% in my first run and now I'm beating the game again, then I'll aim to master the game on Steam, and this is the first time a game instigated me to do that. Masterpiece.\", 'Faz uns 2/3 anos que eu zerei esse jogo, mesmo assim nunca saiu da minha memória.\\n                     \\n                     Vou rejogar para fazer uma análise mais aprofundada', 'i like how you can bounce on spikes with your nail. a good casual game that offers additional challenges for people that are socially challenged', 'A rivetting action/adventure game with a stunning design. Extremely rewarding but also gruesomly difficult at times.', 'I\\'d give this game a 4 for each individual aspect (platforming, exploration, combat) but the integration and packaging of the content are so good, it\\'s slightly better that the sum of its parts. Most of the combat and traversal abilities feel useful, and many evoke that Super Metroid-y, gleeful feeling that you\\'ll finally be able to access that new area, grab that item, or beat that boss. The end-game challenges, reminiscent of Wiley\\'s fortress and boss rushes after Megaman has fully self-actualized, were the highlight. Boss rushes in particular were fun to dissect and master. I found uses for some charms I had written off as \"not my style\" to counter some of the unconventional boss mechanics. My only gripes:\\n                     \\n                     -The repeated backtracking. I get it - a fast-travel mechanic that\\'s too liberal can erase the environment, but this was excessive.\\n                     \\n                     -Some of the charms seemed worthless, even after strategizing for boss, combat, and platforming rushes.\\n                     \\n                     -In the name of decency and civility, make geo-sucking ability automatic.']</td>\n",
       "      <td>4.4</td>\n",
       "      <td>2017</td>\n",
       "      <td>106000.0</td>\n",
       "      <td>2400.0</td>\n",
       "      <td>21000.0</td>\n",
       "    </tr>\n",
       "  </tbody>\n",
       "</table>\n",
       "</div>"
      ],
      "text/plain": [
       "                                     Title  \\\n",
       "0                               Elden Ring   \n",
       "1                                    Hades   \n",
       "2  The Legend of Zelda: Breath of the Wild   \n",
       "3                                Undertale   \n",
       "4                            Hollow Knight   \n",
       "\n",
       "                                                 Genres  \\\n",
       "0                                  ['Adventure', 'RPG']   \n",
       "1              ['Adventure', 'Brawler', 'Indie', 'RPG']   \n",
       "2                                  ['Adventure', 'RPG']   \n",
       "3  ['Adventure', 'Indie', 'RPG', 'Turn Based Strategy']   \n",
       "4                    ['Adventure', 'Indie', 'Platform']   \n",
       "\n",
       "                                                                                                                                                                                                                                                                                                                                                                                                                                                                                                                                                                                                                    Summary  \\\n",
       "0                                                                                                                                                                                                                                                                                                                                                                                   Elden Ring is a fantasy, action and open world game with RPG elements such as stats, weapons and spells. Rise, Tarnished, and be guided by grace to brandish the power of the Elden Ring and become an Elden Lord in the Lands Between.   \n",
       "1                                                                                                                                                                                                                                                                                           A rogue-lite hack and slash dungeon crawler in which Zagreus, son of Hades the Greek god of the dead, attempts to escape his home and his oppressive father by fighting the souls of the dead through the various layers of the ever-shifting underworld, while getting to know and forging relationships with its inhabitants.   \n",
       "2  The Legend of Zelda: Breath of the Wild is the first 3D open-world game in the Zelda series. Link can travel anywhere and be equipped with weapons and armor found throughout the world to grant him various bonuses. Unlike many games in the series, Breath of the Wild does not impose a specific order in which quests or dungeons must be completed. While the game still has environmental obstacles such as weather effects, inhospitable lands, or powerful enemies, many of them can be overcome using the right method. A lot of critics ranked Breath of the Wild as one of the best video games of all time.   \n",
       "3                                                                                                                                                                                                                        A small child falls into the Underground, where monsters have long been banished by humans and are hunting every human that they find. The player controls the child as they try to make it back to the Surface through hostile environments, all the while engaging with a turn-based combat system with puzzle-solving and bullet hell elements, as well as other unconventional game mechanics.   \n",
       "4                                                                                                                                                                                                                    A 2D metroidvania with an emphasis on close combat and exploration in which the player enters the once-prosperous now-bleak insect kingdom of Hallownest, travels through its various districts, meets friendly inhabitants, fights hostile ones and uncovers the kingdom's history while improving their combat abilities and movement arsenal by fighting bosses and accessing out-of-the-way areas.   \n",
       "\n",
       "                                                                                                                                                                                                                                                                                                                                                                                                                                                                                                                                                                                                                                                                                                                                                                                                                                                                                                                                                                                                                                                                                                                                                                                                                                                                                                                                                                                                                                                                                                                                                                                                                                                                                                                                                                                                                                                                                                                                                                                                                                                                                                                                                                                                                                                                                                                                                                                                                                                                                                                                                                                                                                                                                                                          Reviews  \\\n",
       "0                                                                                                                                                                                                                                                                                                                                                                                                                                                                                                                                                                                                                                                                                                                                                                                                                                                                                                                                                                                                                                                                                                                                                                                                                                                                                                                                                                                               [\"The first playthrough of elden ring is one of the best eperiences gaming can offer you but after youve explored everything in the open world and you've experienced all of the surprises you lose motivation to go exploring on repeat playthroughs which takes a lot away from the replayability which is a very important thing for from games imo.\", 'a replay solidified my love for elden ring. so easily my favorite game of all time. actually beating malenia this time was also an amazing feeling. i just love being in this world man its the greatest of all time', 'The game is absolutely beautiful, with so much to do. The replayability is crazy. And it never gets old with it too.', 'Took everything great about the Soulsborne games and make it 100% better.', 'I play with my overlevelled friend every time and we still fail sometimes (he’s on NG6), insanely difficult game lol\\n                     \\n                     gorgeous graphics, animations, everything about this game is so beautiful. deserves all the hype it gets. If you have a powerful enough pc I definitely recommend you play it on there, if you use keyboard, you’ll want to change the keybinds because the defaults are ass.', \"Tied as my favorite souls game with Bloodborne, truly one I'll keep coming back too.\"]   \n",
       "1                                                                                                                                                                                                                                                                                                                                                                                                                                                                                                                                                                                                                                                                                                                                                                                              ['convinced this is a roguelike for people who do not like the genre. The art is technically good but the aesthetic does very little for me, too clean or something. idk wish I liked it but I do not', 'incredible art, a banger soundtrack a surprisingly charming storyline and a big red dog. hades has very smooth gameplay but after playing it for a while it just feels like youre doing the same 3 hit combo ove and over again, which dont get me wrong that combo feels great to do but once i becomes muscle memory you kinda go into autopilot. also i think the boons are cool but i would like to see them change the flow of combat a bit more, there are some cool ones like the grape boon that can change the way you play but most of them are just upgrades that dont really change the gameplay or strategy. other then those 2 small gripes the game is fantastic.', \"People tell me this game gets really really good at some point but i've beaten entire games in the amount of time I gave this game.\", 'Não sou muito de jogo indie, admito que joguei poucos, mas devo dizer que Hades foi um dos melhores jogos que joguei na vida, facilmente no top 15. Toda sua arte, dublagem, gameplay, carisma dos personagens, é tudo incrivel', \"I can't shake the feeling that I am thoroughly bored playing Hades. I've picked up Hades three times over the last few years, and three times I've found myself putting down the controller after a handful of hours, especially after reaching the third stage, and I couldn't figure out why it wasn't working for me. After giving it a few good goes, I've finally managed to pin down what it is that just doesn't click for me about Hades.\", 'One of my favorites in the rogue-likes/lites, only being beat by binding of Isaac. I love the characters (Thanatos my beloved) and the writing and the art style and RRRAAAAHHH THIS GAME IS AWESOME']   \n",
       "2                                                                                                                                                                                                                                                                                                                                                                                                                                                                                                                                                                                                                                                                                                                                                                                                                                                                                                                  ['This game is the game (that is not CS:GO) that I have played the most ever. I have played this game for 400 hours.', \"A really good switch game, however didn't really grip me like mario odyssey\", \"i was very disappointed by the final boss fight, but the rest of the game is so good it makes me not want to even do the final boss fight anyway just so i can play more of the game. i do wish that there were more unique mechanics in combat besides just parrying and link's flurry rush, but the world is really pretty and actually incentivizes exploring it. characters are great, story is great and makes you work for it, and there's tons of hidden secrets and details.\", 'em 105 horas de jogo não houve um segundo que eu não tava me divertindo e eu acho que isso diz muito', 'Sencillamente el mejor juego que he tenido el placer de disfrutar, esperé 5 años para poder jugarlo y puedo decir que valió cada segundo la espera. No estoy ni cerca de conseguir el 100%, tengo mas de 100 horas y aún estoy descubriendo cosas nuevas. Va más allá de un simple juego, es una experiencia que lamentablemente solo se puede vivir una vez en la vida y la recomiendo totalmente.', 'em meio a tanto jogo de mundo aberto ruim saindo por aí na última década, acho que da pra entender porque breath of the wild chocou tanto as pessoas no ano em que ele lançou. E realmente eu acho que é o melhor mundo aberto que eu já joguei até hoje, explorar cada pedacinho desse mundo é TÃO GOSTOSO, parece que tudo aqui tá no mapa tem um propósito para estar lá, diferente dos mapas vazios da ubisoft por exemplo. Acho que o unico defeito é esses sistema chatinho de durabilidade das armas, ficar trocando de arma o tempo todo é tão chato, espero que no próximo não tenha.']   \n",
       "3                                                                                                                                                                                                                                                                                                                                                                                                                                                                                                                                                                                                                                                                                                                                                                                                                                                                                                                                                                                                                                                                                                                                                                                                                                                                                                                                                                                                                                                                                                                                                                                                                                                                                                                                                                                                                                                                                                  ['soundtrack is tied for #1 with nier automata.  a super charming story and characters which have become iconic. and all that made by 1 man. thats it, thats the review i have no criticisms', 'Just play this game, Dont look at any of these reviews, just pick the game up and know nothing else about it if you are one of the lucky ones that didnt get spoiled on the game. It will fucking break you in the best of ways', 'Não há palavras que deem para descrever a experiência que foi esse jogo.', 'CLASSSSSSSSSSSSSSSICCCCCCCCCCCCCCCCCCC', 'whooaa ohh ohhhh ohoohhohh ohhwooaah story of undertale', 'A nice unique take on the RPG indie game format by incorporating really good ideas, funny interactions, an incredibly subtle story, and wonderful music. Definitely a must play if you have not already.']   \n",
       "4  [\"this games worldbuilding is incredible, with its amazing soundtrack and gorgeous art direction it really makes you feel like you're spiderman.  one of the best value in gaming tbh, this game is packed full of content and none of it feels like filler. even the boss rush manages to feel fresh by introducing some surprise bosses/boss variants as rewards for beating tough pantheons. cant wait to play silksong when i turn 80!\", \"This isn't just a game, this is an entire experience.\\n                     \\n                     I was not too much into Metroidvania games and then I tried this without any expectation, it became one of my favorite games of all time and brought me into the genre, now I'm seeking for similar adventures and I can't wait for Silksong.\\n                     \\n                     I've done all 112% in my first run and now I'm beating the game again, then I'll aim to master the game on Steam, and this is the first time a game instigated me to do that. Masterpiece.\", 'Faz uns 2/3 anos que eu zerei esse jogo, mesmo assim nunca saiu da minha memória.\\n                     \\n                     Vou rejogar para fazer uma análise mais aprofundada', 'i like how you can bounce on spikes with your nail. a good casual game that offers additional challenges for people that are socially challenged', 'A rivetting action/adventure game with a stunning design. Extremely rewarding but also gruesomly difficult at times.', 'I\\'d give this game a 4 for each individual aspect (platforming, exploration, combat) but the integration and packaging of the content are so good, it\\'s slightly better that the sum of its parts. Most of the combat and traversal abilities feel useful, and many evoke that Super Metroid-y, gleeful feeling that you\\'ll finally be able to access that new area, grab that item, or beat that boss. The end-game challenges, reminiscent of Wiley\\'s fortress and boss rushes after Megaman has fully self-actualized, were the highlight. Boss rushes in particular were fun to dissect and master. I found uses for some charms I had written off as \"not my style\" to counter some of the unconventional boss mechanics. My only gripes:\\n                     \\n                     -The repeated backtracking. I get it - a fast-travel mechanic that\\'s too liberal can erase the environment, but this was excessive.\\n                     \\n                     -Some of the charms seemed worthless, even after strategizing for boss, combat, and platforming rushes.\\n                     \\n                     -In the name of decency and civility, make geo-sucking ability automatic.']   \n",
       "\n",
       "   Rating  Year  Interested  Currently Playing  Total Plays  \n",
       "0     4.5  2022     94000.0             3800.0      17000.0  \n",
       "1     4.3  2019     99000.0             3200.0      21000.0  \n",
       "2     4.4  2017     31000.0             2500.0      30000.0  \n",
       "3     4.2  2015     67000.0              679.0      28000.0  \n",
       "4     4.4  2017    106000.0             2400.0      21000.0  "
      ]
     },
     "execution_count": 77,
     "metadata": {},
     "output_type": "execute_result"
    }
   ],
   "source": [
    "games_clean = data.copy()\n",
    "\n",
    "#replaces K for 1000\n",
    "games_clean[\"Backlogs\"] = games_clean[\"Backlogs\"].str.replace(\"K\",\"000\")\n",
    "games_clean[\"Backlogs\"] = games_clean[\"Backlogs\"].str.replace(\".\",\"\")\n",
    "games_clean[\"Wishlist\"] = games_clean[\"Wishlist\"].str.replace(\"K\",\"000\")\n",
    "games_clean[\"Wishlist\"] = games_clean[\"Wishlist\"].str.replace(\".\",\"\")\n",
    "\n",
    "games_clean[['Backlogs', 'Wishlist']] = games_clean[['Backlogs', 'Wishlist']].apply(pd.to_numeric)\n",
    "\n",
    "#combines column backlogs and wishlist\n",
    "#for people who are interested\n",
    "games_clean['Interested'] = games_clean[\"Backlogs\"] + games_clean[\"Wishlist\"]\n",
    "games_clean['Currently Playing']=games_clean['Playing'].apply(extract_value)\n",
    "games_clean['Total Plays']=games_clean['Plays'].apply(extract_value)\n",
    "\n",
    "#convert to float (except year) for consistency\n",
    "games_clean['Currently Playing']=games_clean['Currently Playing'].astype(float)\n",
    "games_clean['Interested']=games_clean['Interested'].astype(float)\n",
    "games_clean['Total Plays']=games_clean['Total Plays'].astype(float)\n",
    "\n",
    "#removes Playing, Backlogs, and Wishlist from df\n",
    "games_clean.pop(\"Backlogs\")\n",
    "games_clean.pop(\"Wishlist\")\n",
    "games_clean.pop(\"Playing\")\n",
    "games_clean.pop(\"Plays\")\n",
    "\n",
    "\n",
    "games_clean.head()"
   ]
  },
  {
   "cell_type": "code",
   "execution_count": 78,
   "metadata": {
    "collapsed": false,
    "jupyter": {
     "outputs_hidden": false
    }
   },
   "outputs": [
    {
     "name": "stdout",
     "output_type": "stream",
     "text": [
      "<class 'pandas.core.frame.DataFrame'>\n",
      "RangeIndex: 1497 entries, 0 to 1496\n",
      "Data columns (total 9 columns):\n",
      " #   Column             Non-Null Count  Dtype  \n",
      "---  ------             --------------  -----  \n",
      " 0   Title              1497 non-null   object \n",
      " 1   Genres             1497 non-null   object \n",
      " 2   Summary            1497 non-null   object \n",
      " 3   Reviews            1497 non-null   object \n",
      " 4   Rating             1497 non-null   float64\n",
      " 5   Year               1497 non-null   int32  \n",
      " 6   Interested         1497 non-null   float64\n",
      " 7   Currently Playing  1497 non-null   float64\n",
      " 8   Total Plays        1497 non-null   float64\n",
      "dtypes: float64(4), int32(1), object(4)\n",
      "memory usage: 99.5+ KB\n"
     ]
    },
    {
     "data": {
      "text/plain": [
       "False"
      ]
     },
     "execution_count": 78,
     "metadata": {},
     "output_type": "execute_result"
    }
   ],
   "source": [
    "# Check if there are any other NULL values\n",
    "games_clean.info()\n",
    "games_clean.isnull().values.any()"
   ]
  },
  {
   "cell_type": "code",
   "execution_count": 79,
   "metadata": {},
   "outputs": [
    {
     "name": "stdout",
     "output_type": "stream",
     "text": [
      "<class 'str'>\n",
      "<class 'str'>\n"
     ]
    },
    {
     "data": {
      "text/html": [
       "<div>\n",
       "<style scoped>\n",
       "    .dataframe tbody tr th:only-of-type {\n",
       "        vertical-align: middle;\n",
       "    }\n",
       "\n",
       "    .dataframe tbody tr th {\n",
       "        vertical-align: top;\n",
       "    }\n",
       "\n",
       "    .dataframe thead th {\n",
       "        text-align: right;\n",
       "    }\n",
       "</style>\n",
       "<table border=\"1\" class=\"dataframe\">\n",
       "  <thead>\n",
       "    <tr style=\"text-align: right;\">\n",
       "      <th></th>\n",
       "      <th>Title</th>\n",
       "      <th>Genres</th>\n",
       "      <th>Summary</th>\n",
       "      <th>Reviews</th>\n",
       "      <th>Rating</th>\n",
       "      <th>Year</th>\n",
       "      <th>Interested</th>\n",
       "      <th>Currently Playing</th>\n",
       "      <th>Total Plays</th>\n",
       "    </tr>\n",
       "  </thead>\n",
       "  <tbody>\n",
       "    <tr>\n",
       "      <th>0</th>\n",
       "      <td>Elden Ring</td>\n",
       "      <td>'Adventure', 'RPG'</td>\n",
       "      <td>Elden Ring is a fantasy, action and open world game with RPG elements such as stats, weapons and spells. Rise, Tarnished, and be guided by grace to brandish the power of the Elden Ring and become an Elden Lord in the Lands Between.</td>\n",
       "      <td>[\"The first playthrough of elden ring is one of the best eperiences gaming can offer you but after youve explored everything in the open world and you've experienced all of the surprises you lose motivation to go exploring on repeat playthroughs which takes a lot away from the replayability which is a very important thing for from games imo.\", 'a replay solidified my love for elden ring. so easily my favorite game of all time. actually beating malenia this time was also an amazing feeling. i just love being in this world man its the greatest of all time', 'The game is absolutely beautiful, with so much to do. The replayability is crazy. And it never gets old with it too.', 'Took everything great about the Soulsborne games and make it 100% better.', 'I play with my overlevelled friend every time and we still fail sometimes (he’s on NG6), insanely difficult game lol\\n                     \\n                     gorgeous graphics, animations, everything about this game is so beautiful. deserves all the hype it gets. If you have a powerful enough pc I definitely recommend you play it on there, if you use keyboard, you’ll want to change the keybinds because the defaults are ass.', \"Tied as my favorite souls game with Bloodborne, truly one I'll keep coming back too.\"]</td>\n",
       "      <td>4.5</td>\n",
       "      <td>2022</td>\n",
       "      <td>94000.0</td>\n",
       "      <td>3800.0</td>\n",
       "      <td>17000.0</td>\n",
       "    </tr>\n",
       "    <tr>\n",
       "      <th>1</th>\n",
       "      <td>Hades</td>\n",
       "      <td>'Adventure', 'Brawler', 'Indie', 'RPG'</td>\n",
       "      <td>A rogue-lite hack and slash dungeon crawler in which Zagreus, son of Hades the Greek god of the dead, attempts to escape his home and his oppressive father by fighting the souls of the dead through the various layers of the ever-shifting underworld, while getting to know and forging relationships with its inhabitants.</td>\n",
       "      <td>['convinced this is a roguelike for people who do not like the genre. The art is technically good but the aesthetic does very little for me, too clean or something. idk wish I liked it but I do not', 'incredible art, a banger soundtrack a surprisingly charming storyline and a big red dog. hades has very smooth gameplay but after playing it for a while it just feels like youre doing the same 3 hit combo ove and over again, which dont get me wrong that combo feels great to do but once i becomes muscle memory you kinda go into autopilot. also i think the boons are cool but i would like to see them change the flow of combat a bit more, there are some cool ones like the grape boon that can change the way you play but most of them are just upgrades that dont really change the gameplay or strategy. other then those 2 small gripes the game is fantastic.', \"People tell me this game gets really really good at some point but i've beaten entire games in the amount of time I gave this game.\", 'Não sou muito de jogo indie, admito que joguei poucos, mas devo dizer que Hades foi um dos melhores jogos que joguei na vida, facilmente no top 15. Toda sua arte, dublagem, gameplay, carisma dos personagens, é tudo incrivel', \"I can't shake the feeling that I am thoroughly bored playing Hades. I've picked up Hades three times over the last few years, and three times I've found myself putting down the controller after a handful of hours, especially after reaching the third stage, and I couldn't figure out why it wasn't working for me. After giving it a few good goes, I've finally managed to pin down what it is that just doesn't click for me about Hades.\", 'One of my favorites in the rogue-likes/lites, only being beat by binding of Isaac. I love the characters (Thanatos my beloved) and the writing and the art style and RRRAAAAHHH THIS GAME IS AWESOME']</td>\n",
       "      <td>4.3</td>\n",
       "      <td>2019</td>\n",
       "      <td>99000.0</td>\n",
       "      <td>3200.0</td>\n",
       "      <td>21000.0</td>\n",
       "    </tr>\n",
       "    <tr>\n",
       "      <th>2</th>\n",
       "      <td>The Legend of Zelda: Breath of the Wild</td>\n",
       "      <td>'Adventure', 'RPG'</td>\n",
       "      <td>The Legend of Zelda: Breath of the Wild is the first 3D open-world game in the Zelda series. Link can travel anywhere and be equipped with weapons and armor found throughout the world to grant him various bonuses. Unlike many games in the series, Breath of the Wild does not impose a specific order in which quests or dungeons must be completed. While the game still has environmental obstacles such as weather effects, inhospitable lands, or powerful enemies, many of them can be overcome using the right method. A lot of critics ranked Breath of the Wild as one of the best video games of all time.</td>\n",
       "      <td>['This game is the game (that is not CS:GO) that I have played the most ever. I have played this game for 400 hours.', \"A really good switch game, however didn't really grip me like mario odyssey\", \"i was very disappointed by the final boss fight, but the rest of the game is so good it makes me not want to even do the final boss fight anyway just so i can play more of the game. i do wish that there were more unique mechanics in combat besides just parrying and link's flurry rush, but the world is really pretty and actually incentivizes exploring it. characters are great, story is great and makes you work for it, and there's tons of hidden secrets and details.\", 'em 105 horas de jogo não houve um segundo que eu não tava me divertindo e eu acho que isso diz muito', 'Sencillamente el mejor juego que he tenido el placer de disfrutar, esperé 5 años para poder jugarlo y puedo decir que valió cada segundo la espera. No estoy ni cerca de conseguir el 100%, tengo mas de 100 horas y aún estoy descubriendo cosas nuevas. Va más allá de un simple juego, es una experiencia que lamentablemente solo se puede vivir una vez en la vida y la recomiendo totalmente.', 'em meio a tanto jogo de mundo aberto ruim saindo por aí na última década, acho que da pra entender porque breath of the wild chocou tanto as pessoas no ano em que ele lançou. E realmente eu acho que é o melhor mundo aberto que eu já joguei até hoje, explorar cada pedacinho desse mundo é TÃO GOSTOSO, parece que tudo aqui tá no mapa tem um propósito para estar lá, diferente dos mapas vazios da ubisoft por exemplo. Acho que o unico defeito é esses sistema chatinho de durabilidade das armas, ficar trocando de arma o tempo todo é tão chato, espero que no próximo não tenha.']</td>\n",
       "      <td>4.4</td>\n",
       "      <td>2017</td>\n",
       "      <td>31000.0</td>\n",
       "      <td>2500.0</td>\n",
       "      <td>30000.0</td>\n",
       "    </tr>\n",
       "    <tr>\n",
       "      <th>3</th>\n",
       "      <td>Undertale</td>\n",
       "      <td>'Adventure', 'Indie', 'RPG', 'Turn Based Strategy'</td>\n",
       "      <td>A small child falls into the Underground, where monsters have long been banished by humans and are hunting every human that they find. The player controls the child as they try to make it back to the Surface through hostile environments, all the while engaging with a turn-based combat system with puzzle-solving and bullet hell elements, as well as other unconventional game mechanics.</td>\n",
       "      <td>['soundtrack is tied for #1 with nier automata.  a super charming story and characters which have become iconic. and all that made by 1 man. thats it, thats the review i have no criticisms', 'Just play this game, Dont look at any of these reviews, just pick the game up and know nothing else about it if you are one of the lucky ones that didnt get spoiled on the game. It will fucking break you in the best of ways', 'Não há palavras que deem para descrever a experiência que foi esse jogo.', 'CLASSSSSSSSSSSSSSSICCCCCCCCCCCCCCCCCCC', 'whooaa ohh ohhhh ohoohhohh ohhwooaah story of undertale', 'A nice unique take on the RPG indie game format by incorporating really good ideas, funny interactions, an incredibly subtle story, and wonderful music. Definitely a must play if you have not already.']</td>\n",
       "      <td>4.2</td>\n",
       "      <td>2015</td>\n",
       "      <td>67000.0</td>\n",
       "      <td>679.0</td>\n",
       "      <td>28000.0</td>\n",
       "    </tr>\n",
       "    <tr>\n",
       "      <th>4</th>\n",
       "      <td>Hollow Knight</td>\n",
       "      <td>'Adventure', 'Indie', 'Platform'</td>\n",
       "      <td>A 2D metroidvania with an emphasis on close combat and exploration in which the player enters the once-prosperous now-bleak insect kingdom of Hallownest, travels through its various districts, meets friendly inhabitants, fights hostile ones and uncovers the kingdom's history while improving their combat abilities and movement arsenal by fighting bosses and accessing out-of-the-way areas.</td>\n",
       "      <td>[\"this games worldbuilding is incredible, with its amazing soundtrack and gorgeous art direction it really makes you feel like you're spiderman.  one of the best value in gaming tbh, this game is packed full of content and none of it feels like filler. even the boss rush manages to feel fresh by introducing some surprise bosses/boss variants as rewards for beating tough pantheons. cant wait to play silksong when i turn 80!\", \"This isn't just a game, this is an entire experience.\\n                     \\n                     I was not too much into Metroidvania games and then I tried this without any expectation, it became one of my favorite games of all time and brought me into the genre, now I'm seeking for similar adventures and I can't wait for Silksong.\\n                     \\n                     I've done all 112% in my first run and now I'm beating the game again, then I'll aim to master the game on Steam, and this is the first time a game instigated me to do that. Masterpiece.\", 'Faz uns 2/3 anos que eu zerei esse jogo, mesmo assim nunca saiu da minha memória.\\n                     \\n                     Vou rejogar para fazer uma análise mais aprofundada', 'i like how you can bounce on spikes with your nail. a good casual game that offers additional challenges for people that are socially challenged', 'A rivetting action/adventure game with a stunning design. Extremely rewarding but also gruesomly difficult at times.', 'I\\'d give this game a 4 for each individual aspect (platforming, exploration, combat) but the integration and packaging of the content are so good, it\\'s slightly better that the sum of its parts. Most of the combat and traversal abilities feel useful, and many evoke that Super Metroid-y, gleeful feeling that you\\'ll finally be able to access that new area, grab that item, or beat that boss. The end-game challenges, reminiscent of Wiley\\'s fortress and boss rushes after Megaman has fully self-actualized, were the highlight. Boss rushes in particular were fun to dissect and master. I found uses for some charms I had written off as \"not my style\" to counter some of the unconventional boss mechanics. My only gripes:\\n                     \\n                     -The repeated backtracking. I get it - a fast-travel mechanic that\\'s too liberal can erase the environment, but this was excessive.\\n                     \\n                     -Some of the charms seemed worthless, even after strategizing for boss, combat, and platforming rushes.\\n                     \\n                     -In the name of decency and civility, make geo-sucking ability automatic.']</td>\n",
       "      <td>4.4</td>\n",
       "      <td>2017</td>\n",
       "      <td>106000.0</td>\n",
       "      <td>2400.0</td>\n",
       "      <td>21000.0</td>\n",
       "    </tr>\n",
       "  </tbody>\n",
       "</table>\n",
       "</div>"
      ],
      "text/plain": [
       "                                     Title  \\\n",
       "0                               Elden Ring   \n",
       "1                                    Hades   \n",
       "2  The Legend of Zelda: Breath of the Wild   \n",
       "3                                Undertale   \n",
       "4                            Hollow Knight   \n",
       "\n",
       "                                               Genres  \\\n",
       "0                                  'Adventure', 'RPG'   \n",
       "1              'Adventure', 'Brawler', 'Indie', 'RPG'   \n",
       "2                                  'Adventure', 'RPG'   \n",
       "3  'Adventure', 'Indie', 'RPG', 'Turn Based Strategy'   \n",
       "4                    'Adventure', 'Indie', 'Platform'   \n",
       "\n",
       "                                                                                                                                                                                                                                                                                                                                                                                                                                                                                                                                                                                                                    Summary  \\\n",
       "0                                                                                                                                                                                                                                                                                                                                                                                   Elden Ring is a fantasy, action and open world game with RPG elements such as stats, weapons and spells. Rise, Tarnished, and be guided by grace to brandish the power of the Elden Ring and become an Elden Lord in the Lands Between.   \n",
       "1                                                                                                                                                                                                                                                                                           A rogue-lite hack and slash dungeon crawler in which Zagreus, son of Hades the Greek god of the dead, attempts to escape his home and his oppressive father by fighting the souls of the dead through the various layers of the ever-shifting underworld, while getting to know and forging relationships with its inhabitants.   \n",
       "2  The Legend of Zelda: Breath of the Wild is the first 3D open-world game in the Zelda series. Link can travel anywhere and be equipped with weapons and armor found throughout the world to grant him various bonuses. Unlike many games in the series, Breath of the Wild does not impose a specific order in which quests or dungeons must be completed. While the game still has environmental obstacles such as weather effects, inhospitable lands, or powerful enemies, many of them can be overcome using the right method. A lot of critics ranked Breath of the Wild as one of the best video games of all time.   \n",
       "3                                                                                                                                                                                                                        A small child falls into the Underground, where monsters have long been banished by humans and are hunting every human that they find. The player controls the child as they try to make it back to the Surface through hostile environments, all the while engaging with a turn-based combat system with puzzle-solving and bullet hell elements, as well as other unconventional game mechanics.   \n",
       "4                                                                                                                                                                                                                    A 2D metroidvania with an emphasis on close combat and exploration in which the player enters the once-prosperous now-bleak insect kingdom of Hallownest, travels through its various districts, meets friendly inhabitants, fights hostile ones and uncovers the kingdom's history while improving their combat abilities and movement arsenal by fighting bosses and accessing out-of-the-way areas.   \n",
       "\n",
       "                                                                                                                                                                                                                                                                                                                                                                                                                                                                                                                                                                                                                                                                                                                                                                                                                                                                                                                                                                                                                                                                                                                                                                                                                                                                                                                                                                                                                                                                                                                                                                                                                                                                                                                                                                                                                                                                                                                                                                                                                                                                                                                                                                                                                                                                                                                                                                                                                                                                                                                                                                                                                                                                                                                          Reviews  \\\n",
       "0                                                                                                                                                                                                                                                                                                                                                                                                                                                                                                                                                                                                                                                                                                                                                                                                                                                                                                                                                                                                                                                                                                                                                                                                                                                                                                                                                                                               [\"The first playthrough of elden ring is one of the best eperiences gaming can offer you but after youve explored everything in the open world and you've experienced all of the surprises you lose motivation to go exploring on repeat playthroughs which takes a lot away from the replayability which is a very important thing for from games imo.\", 'a replay solidified my love for elden ring. so easily my favorite game of all time. actually beating malenia this time was also an amazing feeling. i just love being in this world man its the greatest of all time', 'The game is absolutely beautiful, with so much to do. The replayability is crazy. And it never gets old with it too.', 'Took everything great about the Soulsborne games and make it 100% better.', 'I play with my overlevelled friend every time and we still fail sometimes (he’s on NG6), insanely difficult game lol\\n                     \\n                     gorgeous graphics, animations, everything about this game is so beautiful. deserves all the hype it gets. If you have a powerful enough pc I definitely recommend you play it on there, if you use keyboard, you’ll want to change the keybinds because the defaults are ass.', \"Tied as my favorite souls game with Bloodborne, truly one I'll keep coming back too.\"]   \n",
       "1                                                                                                                                                                                                                                                                                                                                                                                                                                                                                                                                                                                                                                                                                                                                                                                              ['convinced this is a roguelike for people who do not like the genre. The art is technically good but the aesthetic does very little for me, too clean or something. idk wish I liked it but I do not', 'incredible art, a banger soundtrack a surprisingly charming storyline and a big red dog. hades has very smooth gameplay but after playing it for a while it just feels like youre doing the same 3 hit combo ove and over again, which dont get me wrong that combo feels great to do but once i becomes muscle memory you kinda go into autopilot. also i think the boons are cool but i would like to see them change the flow of combat a bit more, there are some cool ones like the grape boon that can change the way you play but most of them are just upgrades that dont really change the gameplay or strategy. other then those 2 small gripes the game is fantastic.', \"People tell me this game gets really really good at some point but i've beaten entire games in the amount of time I gave this game.\", 'Não sou muito de jogo indie, admito que joguei poucos, mas devo dizer que Hades foi um dos melhores jogos que joguei na vida, facilmente no top 15. Toda sua arte, dublagem, gameplay, carisma dos personagens, é tudo incrivel', \"I can't shake the feeling that I am thoroughly bored playing Hades. I've picked up Hades three times over the last few years, and three times I've found myself putting down the controller after a handful of hours, especially after reaching the third stage, and I couldn't figure out why it wasn't working for me. After giving it a few good goes, I've finally managed to pin down what it is that just doesn't click for me about Hades.\", 'One of my favorites in the rogue-likes/lites, only being beat by binding of Isaac. I love the characters (Thanatos my beloved) and the writing and the art style and RRRAAAAHHH THIS GAME IS AWESOME']   \n",
       "2                                                                                                                                                                                                                                                                                                                                                                                                                                                                                                                                                                                                                                                                                                                                                                                                                                                                                                                  ['This game is the game (that is not CS:GO) that I have played the most ever. I have played this game for 400 hours.', \"A really good switch game, however didn't really grip me like mario odyssey\", \"i was very disappointed by the final boss fight, but the rest of the game is so good it makes me not want to even do the final boss fight anyway just so i can play more of the game. i do wish that there were more unique mechanics in combat besides just parrying and link's flurry rush, but the world is really pretty and actually incentivizes exploring it. characters are great, story is great and makes you work for it, and there's tons of hidden secrets and details.\", 'em 105 horas de jogo não houve um segundo que eu não tava me divertindo e eu acho que isso diz muito', 'Sencillamente el mejor juego que he tenido el placer de disfrutar, esperé 5 años para poder jugarlo y puedo decir que valió cada segundo la espera. No estoy ni cerca de conseguir el 100%, tengo mas de 100 horas y aún estoy descubriendo cosas nuevas. Va más allá de un simple juego, es una experiencia que lamentablemente solo se puede vivir una vez en la vida y la recomiendo totalmente.', 'em meio a tanto jogo de mundo aberto ruim saindo por aí na última década, acho que da pra entender porque breath of the wild chocou tanto as pessoas no ano em que ele lançou. E realmente eu acho que é o melhor mundo aberto que eu já joguei até hoje, explorar cada pedacinho desse mundo é TÃO GOSTOSO, parece que tudo aqui tá no mapa tem um propósito para estar lá, diferente dos mapas vazios da ubisoft por exemplo. Acho que o unico defeito é esses sistema chatinho de durabilidade das armas, ficar trocando de arma o tempo todo é tão chato, espero que no próximo não tenha.']   \n",
       "3                                                                                                                                                                                                                                                                                                                                                                                                                                                                                                                                                                                                                                                                                                                                                                                                                                                                                                                                                                                                                                                                                                                                                                                                                                                                                                                                                                                                                                                                                                                                                                                                                                                                                                                                                                                                                                                                                                  ['soundtrack is tied for #1 with nier automata.  a super charming story and characters which have become iconic. and all that made by 1 man. thats it, thats the review i have no criticisms', 'Just play this game, Dont look at any of these reviews, just pick the game up and know nothing else about it if you are one of the lucky ones that didnt get spoiled on the game. It will fucking break you in the best of ways', 'Não há palavras que deem para descrever a experiência que foi esse jogo.', 'CLASSSSSSSSSSSSSSSICCCCCCCCCCCCCCCCCCC', 'whooaa ohh ohhhh ohoohhohh ohhwooaah story of undertale', 'A nice unique take on the RPG indie game format by incorporating really good ideas, funny interactions, an incredibly subtle story, and wonderful music. Definitely a must play if you have not already.']   \n",
       "4  [\"this games worldbuilding is incredible, with its amazing soundtrack and gorgeous art direction it really makes you feel like you're spiderman.  one of the best value in gaming tbh, this game is packed full of content and none of it feels like filler. even the boss rush manages to feel fresh by introducing some surprise bosses/boss variants as rewards for beating tough pantheons. cant wait to play silksong when i turn 80!\", \"This isn't just a game, this is an entire experience.\\n                     \\n                     I was not too much into Metroidvania games and then I tried this without any expectation, it became one of my favorite games of all time and brought me into the genre, now I'm seeking for similar adventures and I can't wait for Silksong.\\n                     \\n                     I've done all 112% in my first run and now I'm beating the game again, then I'll aim to master the game on Steam, and this is the first time a game instigated me to do that. Masterpiece.\", 'Faz uns 2/3 anos que eu zerei esse jogo, mesmo assim nunca saiu da minha memória.\\n                     \\n                     Vou rejogar para fazer uma análise mais aprofundada', 'i like how you can bounce on spikes with your nail. a good casual game that offers additional challenges for people that are socially challenged', 'A rivetting action/adventure game with a stunning design. Extremely rewarding but also gruesomly difficult at times.', 'I\\'d give this game a 4 for each individual aspect (platforming, exploration, combat) but the integration and packaging of the content are so good, it\\'s slightly better that the sum of its parts. Most of the combat and traversal abilities feel useful, and many evoke that Super Metroid-y, gleeful feeling that you\\'ll finally be able to access that new area, grab that item, or beat that boss. The end-game challenges, reminiscent of Wiley\\'s fortress and boss rushes after Megaman has fully self-actualized, were the highlight. Boss rushes in particular were fun to dissect and master. I found uses for some charms I had written off as \"not my style\" to counter some of the unconventional boss mechanics. My only gripes:\\n                     \\n                     -The repeated backtracking. I get it - a fast-travel mechanic that\\'s too liberal can erase the environment, but this was excessive.\\n                     \\n                     -Some of the charms seemed worthless, even after strategizing for boss, combat, and platforming rushes.\\n                     \\n                     -In the name of decency and civility, make geo-sucking ability automatic.']   \n",
       "\n",
       "   Rating  Year  Interested  Currently Playing  Total Plays  \n",
       "0     4.5  2022     94000.0             3800.0      17000.0  \n",
       "1     4.3  2019     99000.0             3200.0      21000.0  \n",
       "2     4.4  2017     31000.0             2500.0      30000.0  \n",
       "3     4.2  2015     67000.0              679.0      28000.0  \n",
       "4     4.4  2017    106000.0             2400.0      21000.0  "
      ]
     },
     "execution_count": 79,
     "metadata": {},
     "output_type": "execute_result"
    }
   ],
   "source": [
    "#Remove brackets and ' in Genres. \n",
    "#check type if index 0 exist\n",
    "print (type(games_clean.loc[0, 'Genres']))\n",
    "\n",
    "\n",
    "#check type generally, index can be `DatetimeIndex`, `FloatIndex`...\n",
    "print (type(games_clean.loc[games_clean.index[0], 'Genres']))\n",
    "games_clean['Genres'] = games_clean['Genres'].str.strip('[]')\n",
    "games_clean['Genres'] = games_clean['Genres'].str.replace(r\"' '\", \" \", regex=True)\n",
    "\n",
    "games_clean.head()"
   ]
  },
  {
   "cell_type": "code",
   "execution_count": 80,
   "metadata": {
    "collapsed": false,
    "jupyter": {
     "outputs_hidden": false
    }
   },
   "outputs": [
    {
     "data": {
      "text/html": [
       "<div>\n",
       "<style scoped>\n",
       "    .dataframe tbody tr th:only-of-type {\n",
       "        vertical-align: middle;\n",
       "    }\n",
       "\n",
       "    .dataframe tbody tr th {\n",
       "        vertical-align: top;\n",
       "    }\n",
       "\n",
       "    .dataframe thead th {\n",
       "        text-align: right;\n",
       "    }\n",
       "</style>\n",
       "<table border=\"1\" class=\"dataframe\">\n",
       "  <thead>\n",
       "    <tr style=\"text-align: right;\">\n",
       "      <th></th>\n",
       "      <th>Rating</th>\n",
       "      <th>Year</th>\n",
       "      <th>Interested</th>\n",
       "      <th>Currently Playing</th>\n",
       "      <th>Total Plays</th>\n",
       "    </tr>\n",
       "  </thead>\n",
       "  <tbody>\n",
       "    <tr>\n",
       "      <th>count</th>\n",
       "      <td>1497.000000</td>\n",
       "      <td>1497.000000</td>\n",
       "      <td>1497.000000</td>\n",
       "      <td>1497.000000</td>\n",
       "      <td>1497.000000</td>\n",
       "    </tr>\n",
       "    <tr>\n",
       "      <th>mean</th>\n",
       "      <td>3.718236</td>\n",
       "      <td>2012.062124</td>\n",
       "      <td>16187.757515</td>\n",
       "      <td>269.981296</td>\n",
       "      <td>6315.252505</td>\n",
       "    </tr>\n",
       "    <tr>\n",
       "      <th>std</th>\n",
       "      <td>0.532018</td>\n",
       "      <td>8.491472</td>\n",
       "      <td>21032.136839</td>\n",
       "      <td>427.783884</td>\n",
       "      <td>5891.900341</td>\n",
       "    </tr>\n",
       "    <tr>\n",
       "      <th>min</th>\n",
       "      <td>0.700000</td>\n",
       "      <td>1980.000000</td>\n",
       "      <td>9.000000</td>\n",
       "      <td>0.000000</td>\n",
       "      <td>8.000000</td>\n",
       "    </tr>\n",
       "    <tr>\n",
       "      <th>25%</th>\n",
       "      <td>3.400000</td>\n",
       "      <td>2007.000000</td>\n",
       "      <td>715.000000</td>\n",
       "      <td>44.000000</td>\n",
       "      <td>1900.000000</td>\n",
       "    </tr>\n",
       "    <tr>\n",
       "      <th>50%</th>\n",
       "      <td>3.800000</td>\n",
       "      <td>2014.000000</td>\n",
       "      <td>2799.000000</td>\n",
       "      <td>115.000000</td>\n",
       "      <td>4300.000000</td>\n",
       "    </tr>\n",
       "    <tr>\n",
       "      <th>75%</th>\n",
       "      <td>4.100000</td>\n",
       "      <td>2019.000000</td>\n",
       "      <td>25000.000000</td>\n",
       "      <td>302.000000</td>\n",
       "      <td>9100.000000</td>\n",
       "    </tr>\n",
       "    <tr>\n",
       "      <th>max</th>\n",
       "      <td>4.600000</td>\n",
       "      <td>2023.000000</td>\n",
       "      <td>106000.000000</td>\n",
       "      <td>3800.000000</td>\n",
       "      <td>33000.000000</td>\n",
       "    </tr>\n",
       "  </tbody>\n",
       "</table>\n",
       "</div>"
      ],
      "text/plain": [
       "            Rating         Year     Interested  Currently Playing  \\\n",
       "count  1497.000000  1497.000000    1497.000000        1497.000000   \n",
       "mean      3.718236  2012.062124   16187.757515         269.981296   \n",
       "std       0.532018     8.491472   21032.136839         427.783884   \n",
       "min       0.700000  1980.000000       9.000000           0.000000   \n",
       "25%       3.400000  2007.000000     715.000000          44.000000   \n",
       "50%       3.800000  2014.000000    2799.000000         115.000000   \n",
       "75%       4.100000  2019.000000   25000.000000         302.000000   \n",
       "max       4.600000  2023.000000  106000.000000        3800.000000   \n",
       "\n",
       "        Total Plays  \n",
       "count   1497.000000  \n",
       "mean    6315.252505  \n",
       "std     5891.900341  \n",
       "min        8.000000  \n",
       "25%     1900.000000  \n",
       "50%     4300.000000  \n",
       "75%     9100.000000  \n",
       "max    33000.000000  "
      ]
     },
     "execution_count": 80,
     "metadata": {},
     "output_type": "execute_result"
    }
   ],
   "source": [
    "games_clean.describe() #not useful, will take out later"
   ]
  },
  {
   "cell_type": "code",
   "execution_count": 81,
   "metadata": {
    "collapsed": false,
    "jupyter": {
     "outputs_hidden": false
    }
   },
   "outputs": [
    {
     "data": {
      "text/plain": [
       "Title                0\n",
       "Genres               0\n",
       "Summary              0\n",
       "Reviews              0\n",
       "Rating               0\n",
       "Year                 0\n",
       "Interested           0\n",
       "Currently Playing    0\n",
       "Total Plays          0\n",
       "dtype: int64"
      ]
     },
     "execution_count": 81,
     "metadata": {},
     "output_type": "execute_result"
    }
   ],
   "source": [
    "#Check if there are any empty info in the data.\n",
    "games_clean.isna().sum()"
   ]
  },
  {
   "cell_type": "markdown",
   "metadata": {},
   "source": [
    "# NLP Part\n",
    "# Markdowns follow the code below the markdowns"
   ]
  },
  {
   "cell_type": "markdown",
   "metadata": {},
   "source": [
    "Cleaning text from random unicode characters (In this case is the []), and keeping only letters, numbers, spaces. Applies to summary and reviews"
   ]
  },
  {
   "cell_type": "code",
   "execution_count": 82,
   "metadata": {},
   "outputs": [],
   "source": [
    "def decode(column):\n",
    "    column = column.str.decode(\"unicode_escape\")\\\n",
    "    .str.replace(r'[^a-zA-Z1-9\\ ]', '', regex=True).str.strip()\n",
    "    return column"
   ]
  },
  {
   "cell_type": "code",
   "execution_count": 83,
   "metadata": {},
   "outputs": [],
   "source": [
    "games_clean.loc[:,\"Summary\"] = decode(games_clean[\"Summary\"])\n",
    "games_clean.loc[:,\"Reviews\"] = decode(games_clean[\"Reviews\"])"
   ]
  },
  {
   "cell_type": "markdown",
   "metadata": {},
   "source": [
    "This part of the code removes ONLY completely non-english reviews, basically games with reviews that does not contain english. Games with english reviews will still stay.\n",
    "It detects which reviews are in English. Puts the english reviews in a new dataframe called english_reviews."
   ]
  },
  {
   "cell_type": "markdown",
   "metadata": {},
   "source": [
    "Why not remove the Spanish Words? \n",
    "\n",
    "The sentiment values are still valid. As long as the review contains english words, the sentiment analysis will still use those english words and evaluate whether the reviews are positive or negative. From some games (Eg. 1482, Dragon Ball GT: Final Bout), the sentiment values were below 0, indicating a negative review. Although these reviews contained spanish words, the sentiment values still correleated to the original feels to the game, as there were negative english reveiews in these reviews. Hence, not much of a different can be seen from before and after."
   ]
  },
  {
   "cell_type": "markdown",
   "metadata": {},
   "source": [
    "Hence, not much of a different can be seen from before and after."
   ]
  },
  {
   "cell_type": "code",
   "execution_count": 84,
   "metadata": {},
   "outputs": [],
   "source": [
    "# Function to detect the language of a review using langid with confidence threshold\n",
    "def detect_language_with_langdetect(line): \n",
    "    from langdetect import detect_langs\n",
    "    try: \n",
    "        langs = detect_langs(line) \n",
    "        for item in langs: \n",
    "            # The first one returned is usually the one that has the highest probability\n",
    "            return item.lang, item.prob \n",
    "    except: return \"err\", 0.0 \n",
    "\n",
    "# Apply language detection to each review and add a 'IsEnglish' column to the DataFrame\n",
    "games_clean['LanguageDetection'] = games_clean['Reviews'].apply(detect_language_with_langdetect)\n",
    "\n",
    "#Filter out non-English reviews based on the threshold\n",
    "english_reviews = games_clean[games_clean['LanguageDetection'].apply(lambda x: x[0] == 'en' and x[1] >= 0.8)]\n",
    "games_clean = english_reviews\n",
    "\n",
    "# Output the results with language and confidence percentages\n",
    "# for idx, (lang, confidence) in enumerate(english_reviews['LanguageDetection']):\n",
    "#     print(f\"Review {idx + 1}: Language={lang}, Confidence={confidence:.2%}\")\n",
    "\n",
    "# print(games_clean)"
   ]
  },
  {
   "cell_type": "markdown",
   "metadata": {},
   "source": [
    "Writes the top 10 summary and reviews into a text file for easy viewing."
   ]
  },
  {
   "cell_type": "code",
   "execution_count": 85,
   "metadata": {},
   "outputs": [],
   "source": [
    "# Assuming 'Reviews' and 'Summary' are columns in the DataFrame\n",
    "top_reviews = games_clean[['Reviews', 'Summary']].head(10)\n",
    "\n",
    "# Output to a text file\n",
    "top_reviews.to_csv('reviews_and_summary.txt', sep='\\t', index=False)"
   ]
  },
  {
   "cell_type": "markdown",
   "metadata": {},
   "source": [
    "Resets the index after cleaning of random unicode characters is done to reorganise dataset."
   ]
  },
  {
   "cell_type": "code",
   "execution_count": 86,
   "metadata": {},
   "outputs": [
    {
     "data": {
      "text/html": [
       "<div>\n",
       "<style scoped>\n",
       "    .dataframe tbody tr th:only-of-type {\n",
       "        vertical-align: middle;\n",
       "    }\n",
       "\n",
       "    .dataframe tbody tr th {\n",
       "        vertical-align: top;\n",
       "    }\n",
       "\n",
       "    .dataframe thead th {\n",
       "        text-align: right;\n",
       "    }\n",
       "</style>\n",
       "<table border=\"1\" class=\"dataframe\">\n",
       "  <thead>\n",
       "    <tr style=\"text-align: right;\">\n",
       "      <th></th>\n",
       "      <th>Title</th>\n",
       "      <th>Genres</th>\n",
       "      <th>Summary</th>\n",
       "      <th>Reviews</th>\n",
       "      <th>Rating</th>\n",
       "      <th>Year</th>\n",
       "      <th>Interested</th>\n",
       "      <th>Currently Playing</th>\n",
       "      <th>Total Plays</th>\n",
       "      <th>LanguageDetection</th>\n",
       "    </tr>\n",
       "  </thead>\n",
       "  <tbody>\n",
       "    <tr>\n",
       "      <th>0</th>\n",
       "      <td>Elden Ring</td>\n",
       "      <td>'Adventure', 'RPG'</td>\n",
       "      <td>Elden Ring is a fantasy action and open world game with RPG elements such as stats weapons and spells Rise Tarnished and be guided by grace to brandish the power of the Elden Ring and become an Elden Lord in the Lands Between</td>\n",
       "      <td>The first playthrough of elden ring is one of the best eperiences gaming can offer you but after youve explored everything in the open world and youve experienced all of the surprises you lose motivation to go exploring on repeat playthroughs which takes a lot away from the replayability which is a very important thing for from games imo a replay solidified my love for elden ring so easily my favorite game of all time actually beating malenia this time was also an amazing feeling i just love being in this world man its the greatest of all time The game is absolutely beautiful with so much to do The replayability is crazy And it never gets old with it too Took everything great about the Soulsborne games and make it 1 better I play with my overlevelled friend every time and we still fail sometimes hes on NG6 insanely difficult game lol                                          gorgeous graphics animations everything about this game is so beautiful deserves all the hype it gets If you have a powerful enough pc I definitely recommend you play it on there if you use keyboard youll want to change the keybinds because the defaults are ass Tied as my favorite souls game with Bloodborne truly one Ill keep coming back too</td>\n",
       "      <td>4.5</td>\n",
       "      <td>2022</td>\n",
       "      <td>94000.0</td>\n",
       "      <td>3800.0</td>\n",
       "      <td>17000.0</td>\n",
       "      <td>(en, 0.9999984598043945)</td>\n",
       "    </tr>\n",
       "    <tr>\n",
       "      <th>1</th>\n",
       "      <td>Hades</td>\n",
       "      <td>'Adventure', 'Brawler', 'Indie', 'RPG'</td>\n",
       "      <td>A roguelite hack and slash dungeon crawler in which Zagreus son of Hades the Greek god of the dead attempts to escape his home and his oppressive father by fighting the souls of the dead through the various layers of the evershifting underworld while getting to know and forging relationships with its inhabitants</td>\n",
       "      <td>convinced this is a roguelike for people who do not like the genre The art is technically good but the aesthetic does very little for me too clean or something idk wish I liked it but I do not incredible art a banger soundtrack a surprisingly charming storyline and a big red dog hades has very smooth gameplay but after playing it for a while it just feels like youre doing the same 3 hit combo ove and over again which dont get me wrong that combo feels great to do but once i becomes muscle memory you kinda go into autopilot also i think the boons are cool but i would like to see them change the flow of combat a bit more there are some cool ones like the grape boon that can change the way you play but most of them are just upgrades that dont really change the gameplay or strategy other then those 2 small gripes the game is fantastic People tell me this game gets really really good at some point but ive beaten entire games in the amount of time I gave this game No sou muito de jogo indie admito que joguei poucos mas devo dizer que Hades foi um dos melhores jogos que joguei na vida facilmente no top 15 Toda sua arte dublagem gameplay carisma dos personagens  tudo incrivel I cant shake the feeling that I am thoroughly bored playing Hades Ive picked up Hades three times over the last few years and three times Ive found myself putting down the controller after a handful of hours especially after reaching the third stage and I couldnt figure out why it wasnt working for me After giving it a few good goes Ive finally managed to pin down what it is that just doesnt click for me about Hades One of my favorites in the roguelikeslites only being beat by binding of Isaac I love the characters Thanatos my beloved and the writing and the art style and RRRAAAAHHH THIS GAME IS AWESOME</td>\n",
       "      <td>4.3</td>\n",
       "      <td>2019</td>\n",
       "      <td>99000.0</td>\n",
       "      <td>3200.0</td>\n",
       "      <td>21000.0</td>\n",
       "      <td>(en, 0.9999984451762782)</td>\n",
       "    </tr>\n",
       "    <tr>\n",
       "      <th>2</th>\n",
       "      <td>Undertale</td>\n",
       "      <td>'Adventure', 'Indie', 'RPG', 'Turn Based Strategy'</td>\n",
       "      <td>A small child falls into the Underground where monsters have long been banished by humans and are hunting every human that they find The player controls the child as they try to make it back to the Surface through hostile environments all the while engaging with a turnbased combat system with puzzlesolving and bullet hell elements as well as other unconventional game mechanics</td>\n",
       "      <td>soundtrack is tied for 1 with nier automata  a super charming story and characters which have become iconic and all that made by 1 man thats it thats the review i have no criticisms Just play this game Dont look at any of these reviews just pick the game up and know nothing else about it if you are one of the lucky ones that didnt get spoiled on the game It will fucking break you in the best of ways No h palavras que deem para descrever a experincia que foi esse jogo CLASSSSSSSSSSSSSSSICCCCCCCCCCCCCCCCCCC whooaa ohh ohhhh ohoohhohh ohhwooaah story of undertale A nice unique take on the RPG indie game format by incorporating really good ideas funny interactions an incredibly subtle story and wonderful music Definitely a must play if you have not already</td>\n",
       "      <td>4.2</td>\n",
       "      <td>2015</td>\n",
       "      <td>67000.0</td>\n",
       "      <td>679.0</td>\n",
       "      <td>28000.0</td>\n",
       "      <td>(en, 0.9999979562618876)</td>\n",
       "    </tr>\n",
       "    <tr>\n",
       "      <th>3</th>\n",
       "      <td>Hollow Knight</td>\n",
       "      <td>'Adventure', 'Indie', 'Platform'</td>\n",
       "      <td>A 2D metroidvania with an emphasis on close combat and exploration in which the player enters the onceprosperous nowbleak insect kingdom of Hallownest travels through its various districts meets friendly inhabitants fights hostile ones and uncovers the kingdoms history while improving their combat abilities and movement arsenal by fighting bosses and accessing outoftheway areas</td>\n",
       "      <td>this games worldbuilding is incredible with its amazing soundtrack and gorgeous art direction it really makes you feel like youre spiderman  one of the best value in gaming tbh this game is packed full of content and none of it feels like filler even the boss rush manages to feel fresh by introducing some surprise bossesboss variants as rewards for beating tough pantheons cant wait to play silksong when i turn 8 This isnt just a game this is an entire experience                                          I was not too much into Metroidvania games and then I tried this without any expectation it became one of my favorite games of all time and brought me into the genre now Im seeking for similar adventures and I cant wait for Silksong                                          Ive done all 112 in my first run and now Im beating the game again then Ill aim to master the game on Steam and this is the first time a game instigated me to do that Masterpiece Faz uns 23 anos que eu zerei esse jogo mesmo assim nunca saiu da minha memria                                          Vou rejogar para fazer uma anlise mais aprofundada i like how you can bounce on spikes with your nail a good casual game that offers additional challenges for people that are socially challenged A rivetting actionadventure game with a stunning design Extremely rewarding but also gruesomly difficult at times Id give this game a 4 for each individual aspect platforming exploration combat but the integration and packaging of the content are so good its slightly better that the sum of its parts Most of the combat and traversal abilities feel useful and many evoke that Super Metroidy gleeful feeling that youll finally be able to access that new area grab that item or beat that boss The endgame challenges reminiscent of Wileys fortress and boss rushes after Megaman has fully selfactualized were the highlight Boss rushes in particular were fun to dissect and master I found uses for some charms I had written off as not my style to counter some of the unconventional boss mechanics My only gripes                                          The repeated backtracking I get it  a fasttravel mechanic thats too liberal can erase the environment but this was excessive                                          Some of the charms seemed worthless even after strategizing for boss combat and platforming rushes                                          In the name of decency and civility make geosucking ability automatic</td>\n",
       "      <td>4.4</td>\n",
       "      <td>2017</td>\n",
       "      <td>106000.0</td>\n",
       "      <td>2400.0</td>\n",
       "      <td>21000.0</td>\n",
       "      <td>(en, 0.9999979586733272)</td>\n",
       "    </tr>\n",
       "    <tr>\n",
       "      <th>4</th>\n",
       "      <td>Omori</td>\n",
       "      <td>'Adventure', 'Indie', 'RPG', 'Turn Based Strategy'</td>\n",
       "      <td>A turnbased surreal horror RPG in which a child traverses various mundane quirky humourous mysterious and horrific lands with his friends in search of a missing person while confronting his past and his fears Explore a strange world full of colorful friends and foes When the time comes the path youve chosen will determine your fate and perhaps the fate of others as well</td>\n",
       "      <td>The best game Ive played in my life omori is a game held up by its heartbreaking emotional story and lifelike characters and ultimately let down by lackluster battle mechanics and a gimmicky otherworld I FUCKING LOVE AIR CONDITIONING didnt close my eyes Still not finished but loving the game One of my favorite games of all time it definitely has flaws with its pacing god I fucking hate sweethearts castle section but the twist and just overall the characters are so likeable and well written like Aubrey Kel and HeroI dont really care too much about Sunny but hes alright I guess gets the job done I feel basil could definitely use some more screentime the guy rarely gets any in the real world section of the game The writing is pretty good too though Im not a fan of the le quirky random indie game writing xdddd like this game has but there were times where it did make me chuckle</td>\n",
       "      <td>4.2</td>\n",
       "      <td>2020</td>\n",
       "      <td>83000.0</td>\n",
       "      <td>1100.0</td>\n",
       "      <td>7200.0</td>\n",
       "      <td>(en, 0.9999978527558719)</td>\n",
       "    </tr>\n",
       "  </tbody>\n",
       "</table>\n",
       "</div>"
      ],
      "text/plain": [
       "           Title                                              Genres  \\\n",
       "0     Elden Ring                                  'Adventure', 'RPG'   \n",
       "1          Hades              'Adventure', 'Brawler', 'Indie', 'RPG'   \n",
       "2      Undertale  'Adventure', 'Indie', 'RPG', 'Turn Based Strategy'   \n",
       "3  Hollow Knight                    'Adventure', 'Indie', 'Platform'   \n",
       "4          Omori  'Adventure', 'Indie', 'RPG', 'Turn Based Strategy'   \n",
       "\n",
       "                                                                                                                                                                                                                                                                                                                                                                                        Summary  \\\n",
       "0                                                                                                                                                             Elden Ring is a fantasy action and open world game with RPG elements such as stats weapons and spells Rise Tarnished and be guided by grace to brandish the power of the Elden Ring and become an Elden Lord in the Lands Between   \n",
       "1                                                                     A roguelite hack and slash dungeon crawler in which Zagreus son of Hades the Greek god of the dead attempts to escape his home and his oppressive father by fighting the souls of the dead through the various layers of the evershifting underworld while getting to know and forging relationships with its inhabitants   \n",
       "2   A small child falls into the Underground where monsters have long been banished by humans and are hunting every human that they find The player controls the child as they try to make it back to the Surface through hostile environments all the while engaging with a turnbased combat system with puzzlesolving and bullet hell elements as well as other unconventional game mechanics   \n",
       "3  A 2D metroidvania with an emphasis on close combat and exploration in which the player enters the onceprosperous nowbleak insect kingdom of Hallownest travels through its various districts meets friendly inhabitants fights hostile ones and uncovers the kingdoms history while improving their combat abilities and movement arsenal by fighting bosses and accessing outoftheway areas   \n",
       "4          A turnbased surreal horror RPG in which a child traverses various mundane quirky humourous mysterious and horrific lands with his friends in search of a missing person while confronting his past and his fears Explore a strange world full of colorful friends and foes When the time comes the path youve chosen will determine your fate and perhaps the fate of others as well   \n",
       "\n",
       "                                                                                                                                                                                                                                                                                                                                                                                                                                                                                                                                                                                                                                                                                                                                                                                                                                                                                                                                                                                                                                                                                                                                                                                                                                                                                                                                                                                                                                                                                                                                                                                                                                                                                                                                                                                                                                                                                                                                                                                                                                                                                                                                                                                                                                                                                                                                                                                                                                                                                                                                                                                              Reviews  \\\n",
       "0                                                                                                                                                                                                                                                                                                                                                                                                                                                                                                                                                                                                                                                                                                                                                                                                                                                                                                                                                                                                                                                                                                                                                                                                                                                                                                                      The first playthrough of elden ring is one of the best eperiences gaming can offer you but after youve explored everything in the open world and youve experienced all of the surprises you lose motivation to go exploring on repeat playthroughs which takes a lot away from the replayability which is a very important thing for from games imo a replay solidified my love for elden ring so easily my favorite game of all time actually beating malenia this time was also an amazing feeling i just love being in this world man its the greatest of all time The game is absolutely beautiful with so much to do The replayability is crazy And it never gets old with it too Took everything great about the Soulsborne games and make it 1 better I play with my overlevelled friend every time and we still fail sometimes hes on NG6 insanely difficult game lol                                          gorgeous graphics animations everything about this game is so beautiful deserves all the hype it gets If you have a powerful enough pc I definitely recommend you play it on there if you use keyboard youll want to change the keybinds because the defaults are ass Tied as my favorite souls game with Bloodborne truly one Ill keep coming back too   \n",
       "1                                                                                                                                                                                                                                                                                                                                                                                                                                                                                                                                                                                                                                                                                                                               convinced this is a roguelike for people who do not like the genre The art is technically good but the aesthetic does very little for me too clean or something idk wish I liked it but I do not incredible art a banger soundtrack a surprisingly charming storyline and a big red dog hades has very smooth gameplay but after playing it for a while it just feels like youre doing the same 3 hit combo ove and over again which dont get me wrong that combo feels great to do but once i becomes muscle memory you kinda go into autopilot also i think the boons are cool but i would like to see them change the flow of combat a bit more there are some cool ones like the grape boon that can change the way you play but most of them are just upgrades that dont really change the gameplay or strategy other then those 2 small gripes the game is fantastic People tell me this game gets really really good at some point but ive beaten entire games in the amount of time I gave this game No sou muito de jogo indie admito que joguei poucos mas devo dizer que Hades foi um dos melhores jogos que joguei na vida facilmente no top 15 Toda sua arte dublagem gameplay carisma dos personagens  tudo incrivel I cant shake the feeling that I am thoroughly bored playing Hades Ive picked up Hades three times over the last few years and three times Ive found myself putting down the controller after a handful of hours especially after reaching the third stage and I couldnt figure out why it wasnt working for me After giving it a few good goes Ive finally managed to pin down what it is that just doesnt click for me about Hades One of my favorites in the roguelikeslites only being beat by binding of Isaac I love the characters Thanatos my beloved and the writing and the art style and RRRAAAAHHH THIS GAME IS AWESOME   \n",
       "2                                                                                                                                                                                                                                                                                                                                                                                                                                                                                                                                                                                                                                                                                                                                                                                                                                                                                                                                                                                                                                                                                                                                                                                                                                                                                                                                                                                                                                                                                                                                                                                                                                                                                                                                                                                                          soundtrack is tied for 1 with nier automata  a super charming story and characters which have become iconic and all that made by 1 man thats it thats the review i have no criticisms Just play this game Dont look at any of these reviews just pick the game up and know nothing else about it if you are one of the lucky ones that didnt get spoiled on the game It will fucking break you in the best of ways No h palavras que deem para descrever a experincia que foi esse jogo CLASSSSSSSSSSSSSSSICCCCCCCCCCCCCCCCCCC whooaa ohh ohhhh ohoohhohh ohhwooaah story of undertale A nice unique take on the RPG indie game format by incorporating really good ideas funny interactions an incredibly subtle story and wonderful music Definitely a must play if you have not already   \n",
       "3  this games worldbuilding is incredible with its amazing soundtrack and gorgeous art direction it really makes you feel like youre spiderman  one of the best value in gaming tbh this game is packed full of content and none of it feels like filler even the boss rush manages to feel fresh by introducing some surprise bossesboss variants as rewards for beating tough pantheons cant wait to play silksong when i turn 8 This isnt just a game this is an entire experience                                          I was not too much into Metroidvania games and then I tried this without any expectation it became one of my favorite games of all time and brought me into the genre now Im seeking for similar adventures and I cant wait for Silksong                                          Ive done all 112 in my first run and now Im beating the game again then Ill aim to master the game on Steam and this is the first time a game instigated me to do that Masterpiece Faz uns 23 anos que eu zerei esse jogo mesmo assim nunca saiu da minha memria                                          Vou rejogar para fazer uma anlise mais aprofundada i like how you can bounce on spikes with your nail a good casual game that offers additional challenges for people that are socially challenged A rivetting actionadventure game with a stunning design Extremely rewarding but also gruesomly difficult at times Id give this game a 4 for each individual aspect platforming exploration combat but the integration and packaging of the content are so good its slightly better that the sum of its parts Most of the combat and traversal abilities feel useful and many evoke that Super Metroidy gleeful feeling that youll finally be able to access that new area grab that item or beat that boss The endgame challenges reminiscent of Wileys fortress and boss rushes after Megaman has fully selfactualized were the highlight Boss rushes in particular were fun to dissect and master I found uses for some charms I had written off as not my style to counter some of the unconventional boss mechanics My only gripes                                          The repeated backtracking I get it  a fasttravel mechanic thats too liberal can erase the environment but this was excessive                                          Some of the charms seemed worthless even after strategizing for boss combat and platforming rushes                                          In the name of decency and civility make geosucking ability automatic   \n",
       "4                                                                                                                                                                                                                                                                                                                                                                                                                                                                                                                                                                                                                                                                                                                                                                                                                                                                                                                                                                                                                                                                                                                                                                                                                                                                                                                                                                                                                                                                                                                                                                                                                                                                              The best game Ive played in my life omori is a game held up by its heartbreaking emotional story and lifelike characters and ultimately let down by lackluster battle mechanics and a gimmicky otherworld I FUCKING LOVE AIR CONDITIONING didnt close my eyes Still not finished but loving the game One of my favorite games of all time it definitely has flaws with its pacing god I fucking hate sweethearts castle section but the twist and just overall the characters are so likeable and well written like Aubrey Kel and HeroI dont really care too much about Sunny but hes alright I guess gets the job done I feel basil could definitely use some more screentime the guy rarely gets any in the real world section of the game The writing is pretty good too though Im not a fan of the le quirky random indie game writing xdddd like this game has but there were times where it did make me chuckle   \n",
       "\n",
       "   Rating  Year  Interested  Currently Playing  Total Plays  \\\n",
       "0     4.5  2022     94000.0             3800.0      17000.0   \n",
       "1     4.3  2019     99000.0             3200.0      21000.0   \n",
       "2     4.2  2015     67000.0              679.0      28000.0   \n",
       "3     4.4  2017    106000.0             2400.0      21000.0   \n",
       "4     4.2  2020     83000.0             1100.0       7200.0   \n",
       "\n",
       "          LanguageDetection  \n",
       "0  (en, 0.9999984598043945)  \n",
       "1  (en, 0.9999984451762782)  \n",
       "2  (en, 0.9999979562618876)  \n",
       "3  (en, 0.9999979586733272)  \n",
       "4  (en, 0.9999978527558719)  "
      ]
     },
     "execution_count": 86,
     "metadata": {},
     "output_type": "execute_result"
    }
   ],
   "source": [
    "games_clean.reset_index(inplace=True, drop=True)\n",
    "games_clean.head()"
   ]
  },
  {
   "cell_type": "markdown",
   "metadata": {},
   "source": [
    "Processes incoming text data using spacy to determine the base form of each word in summary & reviews, then returns a list of lemmatized words.  \n",
    "Lemmatized words are one single form word.\n",
    "Eg.  \"builds\", \"building\",or \"built\" to the lemma \"build\"\n",
    "\n",
    "This process allows words to be broken down to one singluar form to identify similarities easily and create more accurate results.\n",
    "\n",
    "This will be used for tf-idf matrix generating later."
   ]
  },
  {
   "cell_type": "code",
   "execution_count": 87,
   "metadata": {},
   "outputs": [],
   "source": [
    "nlp = spacy.load('en_core_web_sm')\n",
    "\n",
    "def lemmatize(text):\n",
    "    doc = nlp(text)\n",
    "    tokens = [token for token in doc if not token.is_punct]\n",
    "    lemmas = [token.lemma_ if token.pos_ != 'PRON' else token.orth_ for token in tokens]\n",
    "    return lemmas\n",
    "\n",
    "# games_clean['Reviews'] = games_clean['Reviews'].apply(lemmatize)"
   ]
  },
  {
   "cell_type": "markdown",
   "metadata": {},
   "source": [
    "TextBlob is a Python library that is used to process textual data. In this project, we are using TextBlob to implement specifically Sentiment Analysis"
   ]
  },
  {
   "cell_type": "markdown",
   "metadata": {},
   "source": [
    "Here, we are using TextBlob to indicate whether the reviews in the dataset lean towards positive or negative. \n",
    "If a sentiment value is above 0, it means it is a positive review.\n",
    "If it's below 0, it indicates a negative value.\n",
    "The range of sentiment value is [-1, 1]. The value that is closer to -1 or 1 indicates stronger positive/negative sentiments."
   ]
  },
  {
   "cell_type": "code",
   "execution_count": 88,
   "metadata": {},
   "outputs": [],
   "source": [
    "from textblob import TextBlob\n",
    "\n",
    "# Function to calculate sentiment polarity using TextBlob\n",
    "def get_sentiment(review):\n",
    "    blob = TextBlob(review)\n",
    "    return blob.sentiment.polarity\n",
    "\n",
    "# Apply sentiment analysis to each review and add a 'Sentiment' column to the DataFrame\n",
    "games_clean['Sentiment'] = games_clean['Reviews'].apply(get_sentiment)\n",
    "\n",
    "# Filter positive reviews based on sentiment polarity\n",
    "positive_reviews = games_clean[games_clean['Sentiment'] > 0]['Reviews']\n",
    "\n",
    "# Filter negative reviews based on sentiment polarity\n",
    "negative_reviews = games_clean[games_clean['Sentiment'] < 0]['Reviews']"
   ]
  },
  {
   "cell_type": "markdown",
   "metadata": {},
   "source": [
    "Converts text data to TF-IDF vectors.\n",
    " \n",
    "TF-IDF is a measure that \"evaluates how relevant a word is to a document in a collection of documents\". It increases proportionally to the number of times a word appears in a document, but is offset by the number of documents that contain the word.\n",
    "Example: Words that are common in every document, such as this, what, and if, are rank low even though they may appear many times, since they don’t mean much to that document.\n",
    "\n",
    "This code creates a matrix with TF-IDF weights for each word. \n",
    "Obtains a list of feature names that represent which words are included in these vectors. \n",
    "\n",
    "Instead of comparing multiple datasets, will try comparing between reviews and summary to determine the relevancy of the words. From there, can roughly determine which words are relevant and appear very frequently, giving us a gauge of what kind of games people usually prefer and what kind of audience the games generally cater to."
   ]
  },
  {
   "cell_type": "markdown",
   "metadata": {},
   "source": [
    "Now let's do it for reviews. Here we are using only positive reviews to get a gauge of what kind of games people usually look out for\n"
   ]
  },
  {
   "cell_type": "code",
   "execution_count": 89,
   "metadata": {},
   "outputs": [],
   "source": [
    "tfidf_positive = TfidfVectorizer(stop_words=\"english\", tokenizer=lemmatize) #Reduces common words like 'and', 'the' etc as it is not significant.\n",
    "tfidf_matrix_positive = tfidf_positive.fit_transform(positive_reviews)\n",
    "feature_names_positive = tfidf_positive.get_feature_names_out()"
   ]
  },
  {
   "cell_type": "code",
   "execution_count": 90,
   "metadata": {},
   "outputs": [
    {
     "name": "stdout",
     "output_type": "stream",
     "text": [
      "            TF-IDF Score\n",
      "really         34.651701\n",
      "story          30.188165\n",
      "great          27.655811\n",
      "character      24.802424\n",
      "gameplay       23.358838\n",
      "think          21.739794\n",
      "pretty         20.278119\n",
      "level          19.973868\n",
      "world          17.348154\n",
      "series         16.857333\n",
      "design         16.799593\n",
      "mario          16.796759\n",
      "combat         16.717983\n",
      "experience     16.276789\n",
      "thing          14.501720\n",
      "little         13.801980\n",
      "enjoy          13.602277\n",
      "amazing        13.576012\n",
      "favorite       13.347468\n",
      "original       12.855110\n"
     ]
    }
   ],
   "source": [
    "# Calculate TF-IDF scores for each word in the positive reviews.\n",
    "tfidf_scores_positive = tfidf_matrix_positive.sum(axis=0)\n",
    "\n",
    "# Create a DataFrame to display common words and their TF-IDF scores in positive reviews.\n",
    "common_words_positive = pd.DataFrame(tfidf_scores_positive, columns=feature_names_positive).transpose()\n",
    "common_words_positive.columns = ['TF-IDF Score']\n",
    "\n",
    "# Filter out empty strings and whitespace characters.\n",
    "common_words_positive = common_words_positive[common_words_positive.index.str.strip() != '']\n",
    "\n",
    "# Filter out specifc number of letters from words. 4 because 1-4 words usually consists of generic words that are redundant.\n",
    "common_words_positive = common_words_positive[common_words_positive.index.str.len() > 4]\n",
    "\n",
    "# Sort the DataFrame by TF-IDF score in descending order.\n",
    "common_words_positive = common_words_positive.sort_values(by='TF-IDF Score', ascending=False)\n",
    "\n",
    "# Display top common words without blank spaces and single-letter words.\n",
    "top_common_words_positive = common_words_positive.head(20)\n",
    "print(top_common_words_positive)"
   ]
  },
  {
   "cell_type": "markdown",
   "metadata": {},
   "source": [
    "Below shows the most common words found in the negatively reviewed games."
   ]
  },
  {
   "cell_type": "code",
   "execution_count": 91,
   "metadata": {},
   "outputs": [],
   "source": [
    "tfidf_negative = TfidfVectorizer(stop_words=\"english\", tokenizer=lemmatize) #Reduces common words like 'and', 'the' etc as it is not significant.\n",
    "tfidf_matrix_negative = tfidf_negative.fit_transform(negative_reviews)\n",
    "feature_names_negative = tfidf_negative.get_feature_names_out()\n",
    "\n",
    "non_empty_feature_negative = [i for i, name in enumerate(feature_names_negative) if name.strip() != '']"
   ]
  },
  {
   "cell_type": "code",
   "execution_count": 92,
   "metadata": {},
   "outputs": [
    {
     "name": "stdout",
     "output_type": "stream",
     "text": [
      "           TF-IDF Score\n",
      "really         7.060074\n",
      "story          4.528026\n",
      "gameplay       4.522558\n",
      "think          4.099966\n",
      "thing          3.734549\n",
      "control        3.613303\n",
      "level          3.588451\n",
      "series         3.514860\n",
      "design         3.405866\n",
      "character      3.327702\n",
      "smash          3.253072\n",
      "friend         3.223354\n",
      "fucking        3.188881\n",
      "sonic          3.130055\n",
      "pretty         3.073649\n",
      "kinda          3.044704\n",
      "little         3.013418\n",
      "enjoy          2.962279\n",
      "actually       2.818825\n",
      "mechanic       2.768626\n"
     ]
    }
   ],
   "source": [
    "# Calculate TF-IDF scores for each word in the positive reviews.\n",
    "tfidf_scores_negative = tfidf_matrix_negative.sum(axis=0)\n",
    "\n",
    "# Create a DataFrame to display common words and their TF-IDF scores in positive reviews.\n",
    "common_words_negative = pd.DataFrame(tfidf_scores_negative, columns=feature_names_negative).transpose()\n",
    "common_words_negative.columns = ['TF-IDF Score']\n",
    "\n",
    "# Filter out empty strings and whitespace characters.\n",
    "common_words_negative = common_words_negative[common_words_negative.index.str.strip() != '']\n",
    "\n",
    "# Filter out specifc number of letters from words. 4 because 1-4 words usually consists of generic words that are redundant.\n",
    "common_words_negative = common_words_negative[common_words_negative.index.str.len() > 4]\n",
    "\n",
    "# Sort the DataFrame by TF-IDF score in descending order.\n",
    "common_words_negative = common_words_negative.sort_values(by='TF-IDF Score', ascending=False)\n",
    "\n",
    "# Display top common words without blank spaces and single-letter words.\n",
    "top_common_words_negative = common_words_negative.head(20)\n",
    "print(top_common_words_negative)"
   ]
  },
  {
   "cell_type": "markdown",
   "metadata": {},
   "source": [
    "The code below retrieves the top common words that appear in the summary of the negatively reviewed games.\n",
    "We decided to do this to show the kind of games the people dislike with more data collected. \n",
    "\n",
    "We can gather more information on the description (summary) of the negatively reviewed games instead and see if there are any correlation of words between the negatively reviewed games and their summary. Instead of just using negatively reviewed games, by combining it with its summary, it will give us a more concrete result."
   ]
  },
  {
   "cell_type": "code",
   "execution_count": 93,
   "metadata": {},
   "outputs": [],
   "source": [
    "# Filter games with positive reviews.\n",
    "negative_games = games_clean[games_clean['Sentiment'] < 0]\n",
    "\n",
    "# Extract Summary text from games with positive reviews\n",
    "negative_summary_text = negative_games['Summary']"
   ]
  },
  {
   "cell_type": "code",
   "execution_count": 94,
   "metadata": {},
   "outputs": [],
   "source": [
    "tfidf_negative_summary = TfidfVectorizer(stop_words=\"english\", tokenizer=lemmatize)\n",
    "tfidf_matrix_negative_summary = tfidf_negative_summary.fit_transform(negative_summary_text)\n",
    "feature_names_negative_summary = tfidf_negative_summary.get_feature_names_out()"
   ]
  },
  {
   "cell_type": "code",
   "execution_count": 95,
   "metadata": {},
   "outputs": [
    {
     "name": "stdout",
     "output_type": "stream",
     "text": [
      "            TF-IDF Score\n",
      "player          6.607703\n",
      "world           5.772121\n",
      "series          5.130289\n",
      "sonic           4.669613\n",
      "resident        4.634539\n",
      "battle          4.524839\n",
      "character       4.494904\n",
      "feature         3.964053\n",
      "smash           3.688433\n",
      "gameplay        3.564589\n",
      "enemy           3.549561\n",
      "friend          3.468533\n",
      "super           3.350877\n",
      "experience      3.244106\n",
      "ability         3.025137\n",
      "story           2.934642\n",
      "weapon          2.800203\n",
      "action          2.702605\n",
      "mario           2.678901\n",
      "adventure       2.653133\n"
     ]
    }
   ],
   "source": [
    "# Calculate TF-IDF scores for each word in the positive summary text\n",
    "tfidf_scores_negative_summary = tfidf_matrix_negative_summary.sum(axis=0)\n",
    "\n",
    "# Create a DataFrame to display common words and their TF-IDF scores in positive summary text\n",
    "common_words_negative_summary = pd.DataFrame(tfidf_scores_negative_summary, columns=feature_names_negative_summary).transpose()\n",
    "common_words_negative_summary.columns = ['TF-IDF Score']\n",
    "\n",
    "# Filter out empty strings and whitespace characters (optional)\n",
    "common_words_negative_summary = common_words_negative_summary[common_words_negative_summary.index.str.strip() != '']\n",
    "\n",
    "# Filter out specific number of letters from words (optional)\n",
    "common_words_negative_summary = common_words_negative_summary[common_words_negative_summary.index.str.len() > 4]\n",
    "\n",
    "# Sort the DataFrame by TF-IDF score\n",
    "common_words_negative_summary = common_words_negative_summary.sort_values(by='TF-IDF Score', ascending=False)\n",
    "\n",
    "# Display the top common words in positive summary text without blank spaces and single-letter words\n",
    "top_common_words_negative_summary = common_words_negative_summary.head(20)\n",
    "print(top_common_words_negative_summary)"
   ]
  },
  {
   "cell_type": "markdown",
   "metadata": {},
   "source": [
    "The code below extracts key words from Summary. The summary selected are from the positive reviews that we have identified previously. This would give a better gauge of what types of games the people are favouring based on the summary of the game description."
   ]
  },
  {
   "cell_type": "code",
   "execution_count": 96,
   "metadata": {},
   "outputs": [],
   "source": [
    "# Filter games with positive reviews.\n",
    "positive_games = games_clean[games_clean['Sentiment'] > 0]\n",
    "\n",
    "# Extract Summary text from games with positive reviews\n",
    "positive_summary_text = positive_games['Summary']"
   ]
  },
  {
   "cell_type": "code",
   "execution_count": 97,
   "metadata": {},
   "outputs": [],
   "source": [
    "tfidf_positive_summary = TfidfVectorizer(stop_words=\"english\", tokenizer=lemmatize)\n",
    "tfidf_matrix_positive_summary = tfidf_positive_summary.fit_transform(positive_summary_text)\n",
    "feature_names_positive_summary = tfidf_positive_summary.get_feature_names_out()"
   ]
  },
  {
   "cell_type": "code",
   "execution_count": 98,
   "metadata": {},
   "outputs": [],
   "source": [
    "non_empty_feature_indices = [i for i, name in enumerate(feature_names_positive_summary) if name.strip() != '']\n",
    "\n",
    "# Filter the TF-IDF matrix and feature names\n",
    "tfidf_matrix_filtered = tfidf_matrix_positive_summary[:, non_empty_feature_indices]\n",
    "feature_names_filtered = [feature_names_positive_summary[i] for i in non_empty_feature_indices]"
   ]
  },
  {
   "cell_type": "code",
   "execution_count": 99,
   "metadata": {},
   "outputs": [
    {
     "name": "stdout",
     "output_type": "stream",
     "text": [
      "            TF-IDF Score\n",
      "player         29.731156\n",
      "world          27.532210\n",
      "character      20.206521\n",
      "story          19.779963\n",
      "mario          18.492129\n",
      "series         18.153026\n",
      "adventure      17.919179\n",
      "feature        17.854989\n",
      "pokmon         16.091034\n",
      "action         15.900210\n",
      "experience     15.515560\n",
      "fight          15.207340\n",
      "battle         14.695277\n",
      "gameplay       14.558944\n",
      "explore        13.627336\n",
      "enemy          12.821490\n",
      "combat         12.417153\n",
      "super          12.004756\n",
      "version        11.785118\n",
      "power          11.473265\n"
     ]
    }
   ],
   "source": [
    "# Calculate TF-IDF scores for each word in the positive summary text\n",
    "tfidf_scores_positive_summary = tfidf_matrix_positive_summary.sum(axis=0)\n",
    "\n",
    "# Create a DataFrame to display common words and their TF-IDF scores in positive summary text\n",
    "common_words_positive_summary = pd.DataFrame(tfidf_scores_positive_summary, columns=feature_names_positive_summary).transpose()\n",
    "common_words_positive_summary.columns = ['TF-IDF Score']\n",
    "\n",
    "# Filter out empty strings and whitespace characters (optional)\n",
    "common_words_positive_summary = common_words_positive_summary[common_words_positive_summary.index.str.strip() != '']\n",
    "\n",
    "# Filter out specific number of letters from words (optional)\n",
    "common_words_positive_summary = common_words_positive_summary[common_words_positive_summary.index.str.len() > 4]\n",
    "\n",
    "# Sort the DataFrame by TF-IDF score\n",
    "common_words_positive_summary = common_words_positive_summary.sort_values(by='TF-IDF Score', ascending=False)\n",
    "\n",
    "# Display the top common words in positive summary text without blank spaces and single-letter words\n",
    "top_common_words_positive_summary = common_words_positive_summary.head(20)\n",
    "print(top_common_words_positive_summary)"
   ]
  },
  {
   "cell_type": "markdown",
   "metadata": {},
   "source": [
    "# Conclusion from NLP"
   ]
  },
  {
   "cell_type": "markdown",
   "metadata": {},
   "source": [
    "Using Sentiment Analysis helped us to separate positively reviewed games and negatively reviewed games so that we get to see a comparison between the two results and understand what the gaming community wants and don't want. Stopwords and lemmatization of words also assisted in ensuring the results were more accurate by filtering out unecessary words that were not relevant and allowing the algorithm to understand better what the lemmatized words mean."
   ]
  },
  {
   "cell_type": "markdown",
   "metadata": {},
   "source": [
    "From the positive summary TF-IDF scores, we understand that many players favour games that have good or well-written characters and stories. \n",
    "\n",
    "They also seem to focus on the world of the games, perhaps from world-building or how well the world is designed. Mario & Pokemon seems to pop up very often too, showing that people are attracted to the popular long and on-going series.\n",
    "\n",
    "The words \"adventure\",\"action\", \"fight\", \"battle\", \"gameplay\", \"enemy\", \"combat\" also appeared quite often. These words generally mean that people are looking out for more adventure and action games that have intensive battles/combats with enemies and have really good and fun gameplay."
   ]
  },
  {
   "cell_type": "markdown",
   "metadata": {},
   "source": [
    "From the negative summary TF-IDF scores, we see that many players have their own reasons why they dislike certain games. Some words are repeated here that was seen from the positive summary reviews.\n",
    "\n",
    "Some seem to not like the world of the games, some also don't seem to like certain series like Sonic the Hedgedog & Resident Evil.\n",
    "\n",
    "Words like \"character\", \"battle\", \"feature\", \"gameplay\", \"experience\" and \"story\" show that some people might not favour certain games because they lack aspect in one of these or more. \n",
    "\n",
    "There is a vocal minority that seem to not enjoy adventure and action type of games."
   ]
  },
  {
   "cell_type": "markdown",
   "metadata": {},
   "source": [
    "With all of these conclusions, game creators can have a better idea of what elements the community is looking out for in games currently that will captivate them to play and enjoy themselves."
   ]
  }
 ],
 "metadata": {
  "kernelspec": {
   "display_name": "Python 3 (ipykernel)",
   "language": "python",
   "name": "python3"
  },
  "language_info": {
   "codemirror_mode": {
    "name": "ipython",
    "version": 3
   },
   "file_extension": ".py",
   "mimetype": "text/x-python",
   "name": "python",
   "nbconvert_exporter": "python",
   "pygments_lexer": "ipython3",
   "version": "3.10.13"
  }
 },
 "nbformat": 4,
 "nbformat_minor": 4
}
